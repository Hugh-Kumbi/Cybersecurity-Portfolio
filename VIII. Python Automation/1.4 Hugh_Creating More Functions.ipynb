{
  "metadata": {
    "kernelspec": {
      "name": "python",
      "display_name": "Python (Pyodide)",
      "language": "python"
    },
    "language_info": {
      "codemirror_mode": {
        "name": "python",
        "version": 3
      },
      "file_extension": ".py",
      "mimetype": "text/x-python",
      "name": "python",
      "nbconvert_exporter": "python",
      "pygments_lexer": "ipython3",
      "version": "3.8"
    },
    "colab": {
      "provenance": [],
      "toc_visible": true
    }
  },
  "nbformat_minor": 4,
  "nbformat": 4,
  "cells": [
    {
      "cell_type": "markdown",
      "source": "# Creating More Functions",
      "metadata": {
        "id": "Jaurs3usvWl_"
      }
    },
    {
      "cell_type": "markdown",
      "source": "## Proposed Resolution",
      "metadata": {
        "id": "bo4lzvSNOgf3"
      }
    },
    {
      "cell_type": "markdown",
      "source": "## Task 1\n\nIn this task, I used Python's built-in `sorted()` function to order the `failed_login_list` from smallest to largest. By passing the call to the `sorted()` function directly into the `print()` function, I was able to display and examine the sorted result.\n\nI was provided a list of the number of failed login attempts per month, which are as follows: \n\n`119`, `101`, `99`, `91`, `92`, `105`, `108`, `85`, `88`, `90`, `264`, and `223`.\n\nThis list is organized in chronological order of months (January, February, March, April, May, June, July, August, September, October, November, and December).\n\nThis list is stored in a variable named `failed_login_list`. \n",
      "metadata": {
        "id": "caDM98GxK4zi"
      }
    },
    {
      "cell_type": "code",
      "source": "# Assign `failed_login_list` to the list of the number of failed login attempts per month \n\nfailed_login_list = [119, 101, 99, 91, 92, 105, 108, 85, 88, 90, 264, 223]\n\n# Sort `failed_login_list` in ascending numerical order and display the result\n\nprint(sorted(failed_login_list))\n",
      "metadata": {
        "colab": {
          "base_uri": "https://localhost:8080/"
        },
        "executionInfo": {
          "elapsed": 5,
          "status": "ok",
          "timestamp": 1675409465846,
          "user": {
            "displayName": "Lavanya Vijayan",
            "userId": "09394087000910120547"
          },
          "user_tz": 480
        },
        "id": "dTDzNP2jK_y-",
        "outputId": "ea3617e0-05f8-453c-bcdd-ab10e22b27dd"
      },
      "outputs": [
        {
          "name": "stdout",
          "output_type": "stream",
          "text": [
            "[85, 88, 90, 91, 92, 99, 101, 105, 108, 119, 223, 264]\n"
          ]
        }
      ],
      "execution_count": 1
    },
    {
      "cell_type": "markdown",
      "source": "#### **Question 1**\n**What do you observe from the output above? Do you notice any outlying numbers that indicate an increase in the failed number of login attempts?**",
      "metadata": {
        "id": "AubRCB6yp9zw"
      }
    },
    {
      "cell_type": "markdown",
      "source": "The output above shows that the function call to `sorted()` sorted the `failed_login_list` in ascending numerical order. The outputted list starts with the lowest number of failed login attempts and ends with the highest number of failed login attempts. The last two numbers in the sorted list (223 and 264) seem to be outlying numbers, indicating an increase in the number of failed login attempts.",
      "metadata": {
        "id": "PC9gbdM6HL8C"
      }
    },
    {
      "cell_type": "markdown",
      "source": "## Task 2\n\nI used the `max()` function to isolate the highest number of failed login attempts from the list. I passed the `failed_login_list` into the function and then used the `print()` function to display the result. This allowed me to identify the month with the highest number of failed login attempts for further investigation.\n",
      "metadata": {
        "id": "EhM6kXaytv7M"
      }
    },
    {
      "cell_type": "code",
      "source": "# Assign `failed_login_list` to the list of the number of failed login attempts per month \n\nfailed_login_list = [119, 101, 99, 91, 92, 105, 108, 85, 88, 90, 264, 223]\n\n# Determine the highest number of failed login attempts from `failed_login_list` and display the result \n\nprint(max(failed_login_list))\n",
      "metadata": {
        "colab": {
          "base_uri": "https://localhost:8080/"
        },
        "executionInfo": {
          "elapsed": 215,
          "status": "ok",
          "timestamp": 1675409466058,
          "user": {
            "displayName": "Lavanya Vijayan",
            "userId": "09394087000910120547"
          },
          "user_tz": 480
        },
        "id": "afDIGb9nQ8_x",
        "outputId": "4a7fff1c-2b57-4825-d256-d5894daf7f49"
      },
      "outputs": [
        {
          "name": "stdout",
          "output_type": "stream",
          "text": [
            "264\n"
          ]
        }
      ],
      "execution_count": 2
    },
    {
      "cell_type": "markdown",
      "source": "#### **Question 2**\n**What do you observe from the output above?**",
      "metadata": {
        "id": "HrJJVxYdHvvn"
      }
    },
    {
      "cell_type": "markdown",
      "source": "The output above shows that the function call to `max()` isolated the highest number from the `failed_login_list`. The highest number of failed login attempts was 264.",
      "metadata": {
        "id": "z0rjZxrtHvvo"
      }
    },
    {
      "cell_type": "markdown",
      "source": "## Task 3\n\nI defined the function `analyze_logins()` that takes in two parameters: `username` and `current_day_logins`. Inside the function, I wrote code that displays a message about the number of login attempts the user has made on that particular day. Since this is just a function definition, running the cell won't produce an output yet.\n",
      "metadata": {
        "id": "Lp2OMa4VPNHE"
      }
    },
    {
      "cell_type": "code",
      "source": "# Define a function named `analyze_logins()` that takes in two parameters, `username` and `current_day_logins`  \n\ndef analyze_logins(username, current_day_logins):\n\n    # Display a message about how many login attempts the user has made that day\n\n    print(\"Current day login total for\", username, \"is\", current_day_logins)\n    ",
      "metadata": {
        "id": "7IWaiDsWChuy"
      },
      "outputs": [],
      "execution_count": 3
    },
    {
      "cell_type": "markdown",
      "source": "## Task 4\n\nI called the `analyze_logins()` function with the arguments `\"ejones\"` and `9`. This resulted in a message being displayed that provided information about the 9 login attempts made by the user `\"ejones\"` on that particular day.\n",
      "metadata": {
        "id": "ZMOnS7eFH9xs"
      }
    },
    {
      "cell_type": "code",
      "source": "# Define a function named `analyze_logins()` that takes in two parameters, `username` and `current_day_logins` \n\ndef analyze_logins(username, current_day_logins):\n\n    # Display a message about how many login attempts the user has made that day\n\n    print(\"Current day login total for\", username, \"is\", current_day_logins)\n\n# Call `analyze_logins()` \n\nanalyze_logins(\"ejones\", 9)\n",
      "metadata": {
        "colab": {
          "base_uri": "https://localhost:8080/"
        },
        "executionInfo": {
          "elapsed": 8,
          "status": "ok",
          "timestamp": 1675409466059,
          "user": {
            "displayName": "Lavanya Vijayan",
            "userId": "09394087000910120547"
          },
          "user_tz": 480
        },
        "id": "aziwukxMIANc",
        "outputId": "26108ff3-b19c-4ccf-c086-53037f770175"
      },
      "outputs": [
        {
          "name": "stdout",
          "output_type": "stream",
          "text": [
            "Current day login total for ejones is 9\n"
          ]
        }
      ],
      "execution_count": 4
    },
    {
      "cell_type": "markdown",
      "source": "#### **Question 3**\n**What does this function display? Would the output vary for different users?**",
      "metadata": {
        "id": "_9-FuRRGwwVk"
      }
    },
    {
      "cell_type": "markdown",
      "source": "This function displays the message `\"Current day login total for ejones is 9\"` when the arguments are `\"ejones\"` and `9`. The function is defined in a way that's specific to the user, so it would produce a different output for a different user.",
      "metadata": {
        "id": "jNk4dhN4xJC_"
      }
    },
    {
      "cell_type": "markdown",
      "source": "## Task 5\n\nI expanded the `analyze_logins()` function by adding a third parameter called `average_day_logins`. This parameter helps display an additional message that conveys the average login attempts made by the user on that day.\n\nI then called the function with the arguments `\"ejones\"`, `9`, and `3`. This resulted in a message being displayed that provided both the total number of login attempts (9) and the average number of login attempts (3) made by the user `\"ejones\"` on that day.\n",
      "metadata": {
        "id": "dNmY_0G8Q6tI"
      }
    },
    {
      "cell_type": "code",
      "source": "# Define a function named `analyze_logins()` that takes in three parameters, `username`, `current_day_logins`, and `average_day_logins`\n\ndef analyze_logins(username, current_day_logins, average_day_logins):\n\n    # Display a message about how many login attempts the user has made that day\n\n    print(\"Current day login total for\", username, \"is\", current_day_logins)\n    \n    # Display a message about average number of login attempts the user has made that day \n    \n    print(\"Average logins per day for\", username, \"is\", average_day_logins)\n\n# Call `analyze_logins()` \n\nanalyze_logins(\"ejones\", 9, 3)\n",
      "metadata": {
        "colab": {
          "base_uri": "https://localhost:8080/"
        },
        "executionInfo": {
          "elapsed": 6,
          "status": "ok",
          "timestamp": 1675409466059,
          "user": {
            "displayName": "Lavanya Vijayan",
            "userId": "09394087000910120547"
          },
          "user_tz": 480
        },
        "id": "fHlDFR0qxnc_",
        "outputId": "ac1ded21-92b5-4bfb-c558-7640941d7e7e"
      },
      "outputs": [
        {
          "name": "stdout",
          "output_type": "stream",
          "text": [
            "Current day login total for ejones is 9\n",
            "Average logins per day for ejones is 3\n"
          ]
        }
      ],
      "execution_count": 1
    },
    {
      "cell_type": "markdown",
      "source": "## Task 6\n\nI expanded the `analyze_logins()` function by adding a new calculation to determine the ratio of the logins made on the current day to the logins made on an average day. I stored this ratio in a variable named `login_ratio`.\n\nAdditionally, I included a new message that displays this `login_ratio`.\n\nAfter defining the function, I called it with the same arguments as before: `\"ejones\"`, `9`, and `3`. The function displayed messages about the total login attempts, average login attempts, and the calculated login ratio.",
      "metadata": {
        "id": "_rt689J7INDU"
      }
    },
    {
      "cell_type": "code",
      "source": "# Define a function named `analyze_logins()` that takes in three parameters, `username`, `current_day_logins`, and `average_day_logins`\n\ndef analyze_logins(username, current_day_logins, average_day_logins):\n\n    # Display a message about how many login attempts the user has made that day\n\n    print(\"Current day login total for\", username, \"is\", current_day_logins)\n    \n    # Display a message about average number of login attempts the user has made that day \n    \n    print(\"Average logins per day for\", username, \"is\", average_day_logins)\n    \n    # Calculate the ratio of the logins made on the current day to the logins made on an average day, storing in a variable named `login_ratio`\n    \n    login_ratio = current_day_logins / average_day_logins\n    \n    # Display a message about the ratio\n    \n    print(username, \"logged in\", login_ratio, \"times as much as they do on an average day.\")\n\n# Call `analyze_logins()` \n\nanalyze_logins(\"ejones\", 9, 3)\n",
      "metadata": {
        "colab": {
          "base_uri": "https://localhost:8080/"
        },
        "executionInfo": {
          "elapsed": 6,
          "status": "ok",
          "timestamp": 1675409466060,
          "user": {
            "displayName": "Lavanya Vijayan",
            "userId": "09394087000910120547"
          },
          "user_tz": 480
        },
        "id": "e6l7KCDnIMSM",
        "outputId": "e3223b95-2369-4057-c310-cbe3bb8c268b"
      },
      "outputs": [
        {
          "name": "stdout",
          "output_type": "stream",
          "text": [
            "Current day login total for ejones is 9\n",
            "Average logins per day for ejones is 3\n",
            "ejones logged in 3.0 times as much as they do on an average day.\n"
          ]
        }
      ],
      "execution_count": 6
    },
    {
      "cell_type": "markdown",
      "source": "#### **Question 4**\n**What does this version of the `analyze_logins()` function display? Would the output vary for different users?**",
      "metadata": {
        "id": "QEKtFhvrzFxW"
      }
    },
    {
      "cell_type": "markdown",
      "source": "This version of the `analyze_logins()` function displays a user's current day login total, average logins per day, and ratio of current day login total to average logins per day. It produces a distinct output for each distinct username that it takes in.",
      "metadata": {
        "id": "W7zkAGoCzNmo"
      }
    },
    {
      "cell_type": "markdown",
      "source": "## Task 7\n\nI modified the `analyze_logins()` function by adding a `return` statement that outputs the `login_ratio` from the function. This allows the `login_ratio` to be used later in my work.\n\nI called the function with the same arguments as before: `\"ejones\"`, `9`, and `3`. I stored the result of the function call in a variable named `login_analysis`. Finally, I used a `print()` statement to display the `login_analysis` value, which contains the calculated login ratio.\n",
      "metadata": {
        "id": "X9v_Uy4BjIGC"
      }
    },
    {
      "cell_type": "code",
      "source": "# Define a function named `analyze_logins()` that takes in three parameters, `username`, `current_day_logins`, and `average_day_logins`\n\ndef analyze_logins(username, current_day_logins, average_day_logins):\n\n    # Display a message about how many login attempts the user has made that day\n\n    print(\"Current day login total for\", username, \"is\", current_day_logins)\n    \n    # Display a message about average number of login attempts the user has made that day \n    \n    print(\"Average logins per day for\", username, \"is\", average_day_logins)\n    \n    # Calculate the ratio of the logins made on the current day to the logins made on an average day, storing in a variable named `login_ratio`\n    \n    login_ratio = current_day_logins / average_day_logins\n    \n    # Return the ratio\n    \n    return login_ratio\n\n# Call `analyze_logins() and store the output in a variable named `login_analysis` \n\nlogin_analysis = analyze_logins(\"ejones\", 9, 3)\n    \n# Display a message about the `login_analysis`\n\nprint(\"ejones\", \"logged in\", login_analysis, \"times as much as they do on an average day.\")\n",
      "metadata": {
        "colab": {
          "base_uri": "https://localhost:8080/"
        },
        "executionInfo": {
          "elapsed": 7,
          "status": "ok",
          "timestamp": 1675409466062,
          "user": {
            "displayName": "Lavanya Vijayan",
            "userId": "09394087000910120547"
          },
          "user_tz": 480
        },
        "id": "yi5zRbB5IanK",
        "outputId": "0531b247-cab4-457d-a94b-8ba960c6bd2c"
      },
      "outputs": [
        {
          "name": "stdout",
          "output_type": "stream",
          "text": [
            "Current day login total for ejones is 9\n",
            "Average logins per day for ejones is 3\n",
            "ejones logged in 3.0 times as much as they do on an average day.\n"
          ]
        }
      ],
      "execution_count": 7
    },
    {
      "cell_type": "markdown",
      "source": "#### **Question 5**\n**How does this version of the `analyze_logins()` function compare to the previous versions?**",
      "metadata": {
        "id": "Kya_XRMjGOZ7"
      }
    },
    {
      "cell_type": "markdown",
      "source": "This version of the `analyze_logins()` function involves a `return` statement instead of a `print()` statement, which allows you to store the output from the function call in a variable for later usage.",
      "metadata": {
        "id": "vbUBxpRHGmWZ"
      }
    },
    {
      "cell_type": "markdown",
      "source": "## Task 8\n\nI incorporated the conditional statement to check the value of `login_analysis`. When the `login_analysis` value is greater than or equal to `3`, I displayed an alert message indicating that the login activity requires further investigation. This condition ensures that high login activity is flagged for review. \n",
      "metadata": {
        "id": "nEkvBI0yJ8E1"
      }
    },
    {
      "cell_type": "code",
      "source": "# Define a function named `analyze_logins()` that takes in three parameters, `username`, `current_day_logins`, and `average_day_logins`\n\ndef analyze_logins(username, current_day_logins, average_day_logins):\n\n    # Display a message about how many login attempts the user has made that day\n\n    print(\"Current day login total for\", username, \"is\", current_day_logins)\n    \n    # Display a message about average number of login attempts the user has made that day \n    \n    print(\"Average logins per day for\", username, \"is\", average_day_logins)\n    \n    # Calculate the ratio of the logins made on the current day to the logins made on an average day, storing in a variable named `login_ratio`\n    \n    login_ratio = current_day_logins / average_day_logins\n    \n    # Return the ratio\n    \n    return login_ratio\n\n# Call `analyze_logins() and store the output in a variable named `login_analysis` \n\nlogin_analysis = analyze_logins(\"ejones\", 9, 3)\n\n# Conditional statement that displays an alert about the login activity if it's more than normal\n\nif login_analysis >= 3:\n    print(\"Alert! This account has more login activity than normal.\")\n    ",
      "metadata": {
        "colab": {
          "base_uri": "https://localhost:8080/"
        },
        "executionInfo": {
          "elapsed": 6,
          "status": "ok",
          "timestamp": 1675409466062,
          "user": {
            "displayName": "Lavanya Vijayan",
            "userId": "09394087000910120547"
          },
          "user_tz": 480
        },
        "id": "ImXnu4OVIidz",
        "outputId": "6883b385-b671-4010-dadd-ffc94089fe2b"
      },
      "outputs": [
        {
          "name": "stdout",
          "output_type": "stream",
          "text": [
            "Current day login total for ejones is 9\n",
            "Average logins per day for ejones is 3\n",
            "Alert! This account has more login activity than normal.\n"
          ]
        }
      ],
      "execution_count": 8
    },
    {
      "cell_type": "markdown",
      "source": "## Conclusion\n\n**What are your key takeaways from this lab?**",
      "metadata": {
        "id": "ru2ytGBLCh4q"
      }
    },
    {
      "cell_type": "markdown",
      "source": "- There are a variety of ways a function can be written. \n  - It can be written to display information to the screen, or return information that can then be saved in a variable.\n  - Also it can be written to take in any number of parameters, use the parameters to execute a series of tasks, and then return a result.\n- The `sorted()` function in Python is a built-in function that helps me sort the components of a list.\n  - For example, when I call `sorted()` with a list of numbers, it returns the list with the elements in numerical order. \n- The `max()` function in Python is a built-in function that helps me identify the element with the maximum value in a list. \n  - For example, when I call `max()` with a list of numbers, it returns the largest number in the list. \n- The `print()` function in Python is a built-in function that helps display information. It can also be used to directly display the output from another function call. \n  - To display the output from another function call, make sure to place it inside a `print()` statement.",
      "metadata": {
        "id": "GhCA4apnAgbq"
      }
    }
  ]
}
