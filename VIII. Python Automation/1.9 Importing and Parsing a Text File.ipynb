{
  "metadata": {
    "kernelspec": {
      "name": "python",
      "display_name": "Python (Pyodide)",
      "language": "python"
    },
    "language_info": {
      "codemirror_mode": {
        "name": "python",
        "version": 3
      },
      "file_extension": ".py",
      "mimetype": "text/x-python",
      "name": "python",
      "nbconvert_exporter": "python",
      "pygments_lexer": "ipython3",
      "version": "3.8"
    },
    "colab": {
      "provenance": [
        {
          "file_id": "1jGBN1kq1rqGDYChUPNfKX8Q3hpZhrDF6",
          "timestamp": 1667314242838
        }
      ],
      "toc_visible": true
    }
  },
  "nbformat_minor": 4,
  "nbformat": 4,
  "cells": [
    {
      "cell_type": "markdown",
      "source": "# Import and Parse a Text File",
      "metadata": {
        "id": "BTj1ga3Gxuxe"
      }
    },
    {
      "cell_type": "markdown",
      "source": "## Proposed Resolution",
      "metadata": {
        "id": "ivt8p77hCKcO"
      }
    },
    {
      "cell_type": "markdown",
      "source": "## Task 1\n\nIn this task, I began by importing a security log text file and preparing it for analysis.\n\nTo handle the file in Python, I used a `with` statement, which automatically takes care of opening and closing the file. The first line of the `with` statement opened the file in read mode by using the `open()` function and setting the second parameter to `\"r\"`. I was given a variable named `import_file` that contained the name of the log file to import.\n\nAt this point, running the code would produce an error because the `with` statement was incomplete, but it laid the foundation for file handling, which I would finish in the next task.",
      "metadata": {
        "id": "8lEFzu64x8T1"
      }
    },
    {
      "cell_type": "code",
      "source": "# Assign `import_file` to the name of the text file that contains the security log file\n\nimport_file = \"data/login.txt\"\n\n# First line of the `with` statement\n# Use `open()` to import security log file and store it as a string\n\nwith open(import_file, \"r\") as file:",
      "metadata": {
        "id": "9EaW_JbmBoMn"
      },
      "outputs": [],
      "execution_count": null
    },
    {
      "cell_type": "markdown",
      "source": "## Task 2\n\nIn this task, I completed the process of importing the security log text file. After opening the file with the with statement, I used the `.read()` method to read the entire contents of the file and stored the result in a variable named `text`.\n\nOnce the file was read, I displayed the `text` variable to explore its contents and ensure that the log file was correctly imported for further analysis. Running the cell allowed me to examine the data and prepare for the next steps in the analysis.",
      "metadata": {
        "id": "T5G87NJGFmuv"
      }
    },
    {
      "cell_type": "code",
      "source": "# Assign `import_file` to the name of the text file that contains the security log file\n\nimport_file = \"data/login.txt\"\n\n# The`with` statement\n# Use `open()` to import security log file and store it as a string\n\nwith open(import_file, \"r\") as file:\n\n  # Use `.read()` to read the imported file and store the result in a variable named `text`\n\n  text = file.read()\n\n# Display the contents of `text`\n\nprint(text)",
      "metadata": {
        "id": "hrljSL5oGZE1"
      },
      "outputs": [
        {
          "name": "stdout",
          "output_type": "stream",
          "text": [
            "username,ip_address,time,date\n",
            "tshah,192.168.92.147,15:26:08,2022-05-10\n",
            "dtanaka,192.168.98.221,9:45:18,2022-05-09\n",
            "tmitchel,192.168.110.131,14:13:41,2022-05-11\n",
            "daquino,192.168.168.144,7:02:35,2022-05-08\n",
            "eraab,192.168.170.243,1:45:14,2022-05-11\n",
            "jlansky,192.168.238.42,1:07:11,2022-05-11\n",
            "acook,192.168.52.90,9:56:48,2022-05-10\n",
            "asundara,192.168.58.217,23:17:52,2022-05-12\n",
            "jclark,192.168.214.49,20:49:00,2022-05-10\n",
            "cjackson,192.168.247.153,19:36:42,2022-05-12\n",
            "jclark,192.168.197.247,14:11:04,2022-05-12\n",
            "apatel,192.168.46.207,17:39:42,2022-05-10\n",
            "mabadi,192.168.96.244,10:24:43,2022-05-12\n",
            "iuduike,192.168.131.147,17:50:00,2022-05-11\n",
            "abellmas,192.168.60.111,13:37:05,2022-05-10\n",
            "gesparza,192.168.148.80,6:30:14,2022-05-11\n",
            "cgriffin,192.168.4.157,23:04:05,2022-05-09\n",
            "alevitsk,192.168.210.228,8:10:43,2022-05-08\n",
            "eraab,192.168.24.12,11:29:27,2022-05-11\n",
            "jsoto,192.168.25.60,5:09:21,2022-05-09\n",
            "\n"
          ]
        }
      ],
      "execution_count": 1
    },
    {
      "cell_type": "markdown",
      "source": "## Task 3\n\nIn this task, I explored how to split the string containing the entire imported log file into a list of strings, with each string representing one line of the log.\n\nI used the `.split()` method to perform the split, which divided the `text` variable into individual lines. After performing the split, I displayed the result to examine the list of strings.\n\nIt's important to note that the `.split()` method does not modify the original `text` variable. If I wanted to store the result of the split, I would need to reassign it to a new variable, but for now, I was focused on reviewing the output.",
      "metadata": {
        "id": "SnDwmUR1IcaA"
      }
    },
    {
      "cell_type": "code",
      "source": "# Assign `import_file` to the name of the text file that contains the security log file\n\nimport_file = \"data/login.txt\"\n\n# The`with` statement\n# Use `open()` to import security log file and store it as a string\n\nwith open(import_file, \"r\") as file:\n\n  # Use `.read()` to read the imported file and store the result in a variable named `text`\n\n  text = file.read()\n\n# Display the contents of `text` split into separate lines \n\nprint(text.split())",
      "metadata": {
        "id": "VOt5uxQ9Ql81"
      },
      "outputs": [
        {
          "name": "stdout",
          "output_type": "stream",
          "text": [
            "['username,ip_address,time,date', 'tshah,192.168.92.147,15:26:08,2022-05-10', 'dtanaka,192.168.98.221,9:45:18,2022-05-09', 'tmitchel,192.168.110.131,14:13:41,2022-05-11', 'daquino,192.168.168.144,7:02:35,2022-05-08', 'eraab,192.168.170.243,1:45:14,2022-05-11', 'jlansky,192.168.238.42,1:07:11,2022-05-11', 'acook,192.168.52.90,9:56:48,2022-05-10', 'asundara,192.168.58.217,23:17:52,2022-05-12', 'jclark,192.168.214.49,20:49:00,2022-05-10', 'cjackson,192.168.247.153,19:36:42,2022-05-12', 'jclark,192.168.197.247,14:11:04,2022-05-12', 'apatel,192.168.46.207,17:39:42,2022-05-10', 'mabadi,192.168.96.244,10:24:43,2022-05-12', 'iuduike,192.168.131.147,17:50:00,2022-05-11', 'abellmas,192.168.60.111,13:37:05,2022-05-10', 'gesparza,192.168.148.80,6:30:14,2022-05-11', 'cgriffin,192.168.4.157,23:04:05,2022-05-09', 'alevitsk,192.168.210.228,8:10:43,2022-05-08', 'eraab,192.168.24.12,11:29:27,2022-05-11', 'jsoto,192.168.25.60,5:09:21,2022-05-09']\n"
          ]
        }
      ],
      "execution_count": 2
    },
    {
      "cell_type": "markdown",
      "source": "#### **Question 1**\n**What do you notice about the output before and after using the `.split()` method?**",
      "metadata": {
        "id": "DC2uOLAON0BW"
      }
    },
    {
      "cell_type": "markdown",
      "source": "Before using the `.split()` method, the output is one long string containing all of the lines from the log file. After using the `.split()` method, the output is a list of strings; each string corresponds to a line from the log file.",
      "metadata": {
        "id": "kRTGjhkKPWzw"
      }
    },
    {
      "cell_type": "markdown",
      "source": "## Task 4\n\nIn this task, I addressed a missing entry in the log file by appending it to the file. I was given the missing entry, stored in a variable named `missing_entry`.\n\nTo add the missing entry to the file, I used the `.write()` method with the `\"a\"` parameter in the `open()` function. The `\"a\"` parameter allowed me to open the file in append mode, ensuring the new entry would be added to the end of the file without overwriting the existing content.\n\nAfter appending the entry, I used another `with` statement to open the updated file and used the `.read()` method to read the updated contents back into the `text` variable. I then displayed the contents of `text` to verify that the missing entry had been correctly added to the log file.",
      "metadata": {
        "id": "1urIMObnTOA_"
      }
    },
    {
      "cell_type": "code",
      "source": "# Assign `import_file` to the name of the text file that contains the security log file\n\nimport_file = \"data/login.txt\"\n\n# Assign `missing entry` to a log that was not recorded in the log file\n\nmissing_entry = \"jrafael,192.168.243.140,4:56:27,2022-05-09\"\n\n# Use `open()` to import security log file and store it as a string\n# Pass in \"a\" as the second parameter to indicate that the file is being opened for appending purposes\n\nwith open(import_file, \"a\") as file:\n\n    # Use `.write()` to append `missing_entry` to the log file\n\n    file.write(missing_entry)\n\n# Use `open()` with the parameter \"r\" to open the security log file for reading purposes\n\nwith open(import_file, \"r\") as file:\n\n    # Use `.read()` to read in the contents of the log file and store in a variable named `text`\n\n    text = file.read()\n\n# Display the contents of `text`\n\nprint(text)",
      "metadata": {
        "id": "IqCsbimLIb09"
      },
      "outputs": [],
      "execution_count": null
    },
    {
      "cell_type": "markdown",
      "source": "#### **Question 2**\n**What do you notice about the position of the entry that was added to the log file?**",
      "metadata": {
        "id": "jQfXi8r1pth1"
      }
    },
    {
      "cell_type": "markdown",
      "source": "The additional entry was added to the end of the log file, so it appears in the last line of the output.",
      "metadata": {
        "id": "BrQT7i7eqF32"
      }
    },
    {
      "cell_type": "markdown",
      "source": "## Task 5\n\nIn this task, I was responsible for creating a text file that would contain a list of IP addresses allowed to access restricted information. This was important for documenting the findings and sharing them with the security team.\n\nTo begin, I created a variable named `import_file` and stored the name of the file, which was `\"allow_list.txt\"`.\n\nAdditionally, I was provided with a variable named `ip_addresses` that contained a string of the allowed IP addresses.\n\nI ran the code to display both the `import_file` and `ip_addresses` variables to explore and verify their contents before proceeding with the next steps in the task.",
      "metadata": {
        "id": "-F5DDz_OxIcR"
      }
    },
    {
      "cell_type": "code",
      "source": "# Assign `import_file` to the name of the text file that you want to create\n\nimport_file = \"data/allow_list.txt\"\n\n# Assign `ip_addresses` to a list of IP addresses that are allowed to access the restricted information\n\nip_addresses = \"192.168.218.160 192.168.97.225 192.168.145.158 192.168.108.13 192.168.60.153 192.168.96.200 192.168.247.153 192.168.3.252 192.168.116.187 192.168.15.110 192.168.39.246\"\n\n# Display `import_file`\n\nprint(import_file)\n\n# Display `ip_addresses`\n\nprint(ip_addresses)",
      "metadata": {
        "id": "qODRq_R3X1dO"
      },
      "outputs": [],
      "execution_count": null
    },
    {
      "cell_type": "markdown",
      "source": "## Task 6\n\nIn this task, my goal was to write the allowed IP addresses to the text file I created in the previous step.\n\nI started by using a `with` statement to open the file in write mode, specified by the `\"w\"` parameter. This ensured that the contents of the file would be overwritten if it already existed, and allowed me to add the IP addresses to the file.\n\nI then wrote the `ip_addresses` string to the file. Since the code cell was designed to write the data to the file without displaying any output on the screen, running it did not produce visible results.",
      "metadata": {
        "id": "twOTzdiOhoA6"
      }
    },
    {
      "cell_type": "code",
      "source": "# Assign `import_file` to the name of the text file that you want to create\n\nimport_file = \"data/allow_list.txt\"\n\n# Assign `ip_addresses` to a list of IP addresses that are allowed to access the restricted information\n\nip_addresses = \"192.168.218.160 192.168.97.225 192.168.145.158 192.168.108.13 192.168.60.153 192.168.96.200 192.168.247.153 192.168.3.252 192.168.116.187 192.168.15.110 192.168.39.246\"\n\n# Create a `with` statement to write to the text file \n\nwith open(import_file, \"w\") as file:\n\n  # Write `ip_addresses` to the text file\n\n  file.write(ip_addresses)",
      "metadata": {
        "id": "rtQg-LXjiHkN"
      },
      "outputs": [],
      "execution_count": null
    },
    {
      "cell_type": "markdown",
      "source": "## Task 7\n\nIn this final step, I completed the task by adding code to read the file containing the allowed IP addresses that I had written in the previous step.\n\nI used a `with` statement to open the file and read its contents. The data from the file was stored in a new variable called `text`.\n\nAfter reading the file, I displayed the contents of the `text` variable to explore and verify that the file had been read correctly. Running the cell allowed me to review the file’s contents and ensure that everything had been processed as expected.",
      "metadata": {
        "id": "fOpp2g_5AG2V"
      }
    },
    {
      "cell_type": "code",
      "source": "# Assign `import_file` to the name of the text file that you want to create\n\nimport_file = \"data/allow_list.txt\"\n\n# Assign `ip_addresses` to a list of IP addresses that are allowed to access the restricted information\n\nip_addresses = \"192.168.218.160 192.168.97.225 192.168.145.158 192.168.108.13 192.168.60.153 192.168.96.200 192.168.247.153 192.168.3.252 192.168.116.187 192.168.15.110 192.168.39.246\"\n\n# Create a `with` statement to write to the text file \n\nwith open(import_file, \"w\") as file:\n\n    # Write `ip_addresses` to the text file\n\n    file.write(ip_addresses)\n\n# Create a `with` statement to read in the text file \n\nwith open(import_file, \"r\") as file:\n\n    # Read the file and store the result in a variable named `text`\n\n    text = file.read()\n\n# Display the contents of `text`\n\nprint(text)",
      "metadata": {
        "id": "93NLqeWIiCH-"
      },
      "outputs": [
        {
          "name": "stdout",
          "output_type": "stream",
          "text": [
            "192.168.218.160 192.168.97.225 192.168.145.158 192.168.108.13 192.168.60.153 192.168.96.200 192.168.247.153 192.168.3.252 192.168.116.187 192.168.15.110 192.168.39.246\n"
          ]
        }
      ],
      "execution_count": 3
    },
    {
      "cell_type": "markdown",
      "source": "## Conclusion\n\n**What are your key takeaways from this lab?**",
      "metadata": {
        "id": "ru2ytGBLCh4q"
      }
    },
    {
      "cell_type": "markdown",
      "source": "- Python has functions and syntax that help me import and parse text files.\n  - The `with` statement allows me to efficiently handle files.\n  - The `open()` function allows me to import or open a file. It takes in the name of the file as the first parameter and a string that indicates the purpose of opening the file as the second parameter.\n    - Specify `\"r\"` as the second parameter if I am opening the file for reading purposes.\n    - Specify `\"a\"` as the second parameter if I am opening the file for appending purposes.\n    - Specify `\"w\"` as the second parameter if I ame opening the file for writing purposes.\n  - The `.read()` method allows me to read in a file. \n  - The `.write()` method allows me to append or write to a file.\n- The `.split()` method in Python allows me to convert a string to a list.",
      "metadata": {
        "id": "hxh9FImwbcF9"
      }
    },
    {
      "cell_type": "markdown",
      "source": "<a id=\"file_contents_reset\"></a>",
      "metadata": {}
    }
  ]
}