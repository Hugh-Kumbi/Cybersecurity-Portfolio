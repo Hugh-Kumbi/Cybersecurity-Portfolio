{
  "metadata": {
    "kernelspec": {
      "name": "python",
      "display_name": "Python (Pyodide)",
      "language": "python"
    },
    "language_info": {
      "codemirror_mode": {
        "name": "python",
        "version": 3
      },
      "file_extension": ".py",
      "mimetype": "text/x-python",
      "name": "python",
      "nbconvert_exporter": "python",
      "pygments_lexer": "ipython3",
      "version": "3.8"
    },
    "colab": {
      "provenance": [
        {
          "file_id": "1VolpAg7SNCQYTM9TN61-G4NVDH1rpBLl",
          "timestamp": 1667326208266
        }
      ],
      "toc_visible": true
    }
  },
  "nbformat_minor": 4,
  "nbformat": 4,
  "cells": [
    {
      "cell_type": "markdown",
      "source": "# Creating Another Algorithm",
      "metadata": {
        "id": "4w9z0bsxsL4Y"
      }
    },
    {
      "cell_type": "markdown",
      "source": "## Proposed Resolution",
      "metadata": {
        "id": "ivt8p77hCKcO"
      }
    },
    {
      "cell_type": "markdown",
      "source": "## Task 1\n\nIn this task, my goal was to develop an algorithm that automates the process of parsing a series of IP addresses and removes those that are no longer allowed to access restricted information.\n\nI was given a text file called `\"allow_list.txt\"`, which contained a series of IP addresses that were allowed access. Additionally, I received a variable named `remove_list` that contained the IP addresses that needed to be removed from the list of allowed addresses.\n\nTo begin, I displayed both variables to explore their contents and ensure I understood the data before proceeding with the removal process. Running the code allowed me to examine the contents of both `allow_list.txt` and `remove_list`.",
      "metadata": {
        "id": "dSywxrlbiuZE"
      }
    },
    {
      "cell_type": "code",
      "source": "# Assign `import_file` to the name of the file \n\nimport_file = \"allow_list.txt\"\n\n# Assign `remove_list` to a list of IP addresses that are no longer allowed to access restricted information. \n\nremove_list = [\"192.168.97.225\", \"192.168.158.170\", \"192.168.201.40\", \"192.168.58.57\"]\n\n# Display `import_file`\n\nprint(import_file)\n\n# Display `remove_list`\n\nprint(remove_list)",
      "metadata": {
        "id": "UwXb5CW1sSbp"
      },
      "outputs": [
        {
          "name": "stdout",
          "output_type": "stream",
          "text": [
            "allow_list.txt\n",
            "['192.168.97.225', '192.168.158.170', '192.168.201.40', '192.168.58.57']\n"
          ]
        }
      ],
      "execution_count": 1
    },
    {
      "cell_type": "markdown",
      "source": "#### **Question 1**\n**What do you observe about the output above?**\n",
      "metadata": {
        "id": "F5C4y6A8jWPj"
      }
    },
    {
      "cell_type": "markdown",
      "source": "The first line of the output shows the name of the text file. The second line of the output shows the list of IP addresses from the `remove_list`. ",
      "metadata": {
        "id": "jldD4mdikAJM"
      }
    },
    {
      "cell_type": "markdown",
      "source": "## Task 2\n\nIn this task, I started by opening the `\"allow_list.txt\"` file using the `import_file` variable, along with the `with` keyword and the `open()` function in read mode, specified by the `\"r\"` parameter.\n\nAt this stage, I wrote the first line of the `with` statement, which set up the file for reading. Since the code only contained the first line of the `with` statement, running it produced an error, as I would complete the rest of the statement in the next step.",
      "metadata": {
        "id": "2xDVHwsq2dN6"
      }
    },
    {
      "cell_type": "code",
      "source": "# Assign `import_file` to the name of the file \n\nimport_file = \"allow_list.txt\"\n\n# Assign `remove_list` to a list of IP addresses that are no longer allowed to access restricted information. \n\nremove_list = [\"192.168.97.225\", \"192.168.158.170\", \"192.168.201.40\", \"192.168.58.57\"]\n\n# First line of `with` statement\n\nwith open(import_file, \"r\") as file:",
      "metadata": {
        "trusted": true
      },
      "outputs": [],
      "execution_count": null
    },
    {
      "cell_type": "markdown",
      "source": "## Task 3\n\nIn this step, I used the `.read()` method to read the contents of the `\"allow_list.txt\"` file and stored the result in a variable named `ip_addresses`.\n\nAfter reading the file, I displayed the `ip_addresses` variable to examine the data in its current format. Running the code allowed me to review the contents of the file and ensure it was correctly imported before proceeding further.",
      "metadata": {
        "id": "0MpuZ_7Y3qHB"
      }
    },
    {
      "cell_type": "code",
      "source": "# Assign `import_file` to the name of the file \n\nimport_file = \"allow_list.txt\"\n\n# Assign `remove_list` to a list of IP addresses that are no longer allowed to access restricted information. \n\nremove_list = [\"192.168.97.225\", \"192.168.158.170\", \"192.168.201.40\", \"192.168.58.57\"]\n\n# Build `with` statement to read in the initial contents of the file\n\nwith open(import_file, \"r\") as file:\n\n  # Use `.read()` to read the imported file and store it in a variable named `ip_addresses`\n\n  ip_addresses = file.read()\n\n# Display `ip_addresses`\n\nprint(ip_addresses)",
      "metadata": {
        "trusted": true
      },
      "outputs": [],
      "execution_count": null
    },
    {
      "cell_type": "markdown",
      "source": "#### **Question 2**\n**Do you notice any IP addresses in the allow list that are also in the `remove_list`?**\n",
      "metadata": {
        "id": "MrvKB19ltc6A"
      }
    },
    {
      "cell_type": "markdown",
      "source": "There are four IP addresses in the allow list that are also in the `remove_list`.",
      "metadata": {
        "id": "iEYKFGZttc6B"
      }
    },
    {
      "cell_type": "markdown",
      "source": "## Task 4\n\nAfter reading the file, I reassigned the `ip_addresses` variable to update its data type from a string to a list. To do this, I used the `.split()` method.\n\nThis step allowed me to break the string into individual IP addresses, making it easier to iterate through each address rather than working with a large string that contained all the addresses merged together.\n\nOnce the reassignment was complete, I displayed the `ip_addresses` variable to verify that the update had taken place correctly.",
      "metadata": {
        "id": "Iv06Y6Dv6CME"
      }
    },
    {
      "cell_type": "code",
      "source": "# Assign `import_file` to the name of the file \n\nimport_file = \"allow_list.txt\"\n\n# Assign `remove_list` to a list of IP addresses that are no longer allowed to access restricted information. \n\nremove_list = [\"192.168.97.225\", \"192.168.158.170\", \"192.168.201.40\", \"192.168.58.57\"]\n\n# Build `with` statement to read in the initial contents of the file\n\nwith open(import_file, \"r\") as file:\n\n  # Use `.read()` to read the imported file and store it in a variable named `ip_addresses`\n\n  ip_addresses = file.read()\n\n# Use `.split()` to convert `ip_addresses` from a string to a list\n\nip_addresses = ip_addresses.split()\n\n# Display `ip_addresses`\n\nprint(ip_addresses)",
      "metadata": {
        "id": "04FIIxkL6BRC"
      },
      "outputs": [
        {
          "name": "stdout",
          "output_type": "stream",
          "text": [
            "['ip_address', '192.168.25.60', '192.168.205.12', '192.168.97.225', '192.168.6.9', '192.168.52.90', '192.168.158.170', '192.168.90.124', '192.168.186.176', '192.168.133.188', '192.168.203.198', '192.168.201.40', '192.168.218.219', '192.168.52.37', '192.168.156.224', '192.168.60.153', '192.168.58.57', '192.168.69.116']\n"
          ]
        }
      ],
      "execution_count": 2
    },
    {
      "cell_type": "markdown",
      "source": "## Task 5\n\nIn this step, I wrote code to remove the elements of `remove_list` from the `ip_addresses` list. I began by building an iterative statement to loop through the `ip_addresses` list.\n\nI named the loop variable `element` and used the loop to go through each element in `ip_addresses`. To verify the loop was working, I displayed each `element` as it was processed. This allowed me to review each IP address before proceeding with the removal process.",
      "metadata": {
        "id": "083QDEoV-6ZP"
      }
    },
    {
      "cell_type": "code",
      "source": "# Assign `import_file` to the name of the file \n\nimport_file = \"allow_list.txt\"\n\n# Assign `remove_list` to a list of IP addresses that are no longer allowed to access restricted information. \n\nremove_list = [\"192.168.97.225\", \"192.168.158.170\", \"192.168.201.40\", \"192.168.58.57\"]\n\n# Build `with` statement to read in the initial contents of the file\n\nwith open(import_file, \"r\") as file:\n\n  # Use `.read()` to read the imported file and store it in a variable named `ip_addresses`\n\n  ip_addresses = file.read()\n\n# Use `.split()` to convert `ip_addresses` from a string to a list\n\nip_addresses = ip_addresses.split()\n\n# Build iterative statement\n# Name loop variable `element`\n# Loop through `ip_addresses`\n\nfor element in ip_addresses:\n\n    # Display `element` in every iteration\n\n    print(element)",
      "metadata": {
        "id": "wmBNZ2pu_UMv"
      },
      "outputs": [
        {
          "name": "stdout",
          "output_type": "stream",
          "text": [
            "ip_address\n",
            "192.168.25.60\n",
            "192.168.205.12\n",
            "192.168.97.225\n",
            "192.168.6.9\n",
            "192.168.52.90\n",
            "192.168.158.170\n",
            "192.168.90.124\n",
            "192.168.186.176\n",
            "192.168.133.188\n",
            "192.168.203.198\n",
            "192.168.201.40\n",
            "192.168.218.219\n",
            "192.168.52.37\n",
            "192.168.156.224\n",
            "192.168.60.153\n",
            "192.168.58.57\n",
            "192.168.69.116\n"
          ]
        }
      ],
      "execution_count": 3
    },
    {
      "cell_type": "markdown",
      "source": "## Task 6\n\nIn this step, I built a conditional statement inside the iterative loop that removes the elements of `remove_list` from the `ip_addresses` list.\n\nFor each iteration, I checked if the current `element` in the `ip_addresses` list was also in the `remove_list`. If the condition was true, I used the `.remove()` method to remove that `element` from `ip_addresses`.\n\nAfter completing the loop, I displayed the updated `ip_addresses` list to verify that the elements from `remove_list` were no longer present.",
      "metadata": {
        "id": "BJ1SEHvrCHP5"
      }
    },
    {
      "cell_type": "code",
      "source": "# Assign `import_file` to the name of the file \n\nimport_file = \"allow_list.txt\"\n\n# Assign `remove_list` to a list of IP addresses that are no longer allowed to access restricted information. \n\nremove_list = [\"192.168.97.225\", \"192.168.158.170\", \"192.168.201.40\", \"192.168.58.57\"]\n\n# Build `with` statement to read in the initial contents of the file\n\nwith open(import_file, \"r\") as file:\n\n  # Use `.read()` to read the imported file and store it in a variable named `ip_addresses`\n\n  ip_addresses = file.read()\n\n# Use `.split()` to convert `ip_addresses` from a string to a list\n\nip_addresses = ip_addresses.split()\n\n# Build iterative statement\n# Name loop variable `element`\n# Loop through `ip_addresses`\n\nfor element in ip_addresses:\n  \n  # Build conditional statement\n  # If current element is in `remove_list`,\n\n    if element in remove_list:\n\n        # then current element should be removed from `ip_addresses`\n\n        ip_addresses.remove(element)\n\n# Display `ip_addresses` \n\nprint(ip_addresses)",
      "metadata": {
        "id": "AOp7hAdhDcpe"
      },
      "outputs": [
        {
          "name": "stdout",
          "output_type": "stream",
          "text": [
            "['ip_address', '192.168.25.60', '192.168.205.12', '192.168.6.9', '192.168.52.90', '192.168.90.124', '192.168.186.176', '192.168.133.188', '192.168.203.198', '192.168.218.219', '192.168.52.37', '192.168.156.224', '192.168.60.153', '192.168.69.116']\n"
          ]
        }
      ],
      "execution_count": 4
    },
    {
      "cell_type": "markdown",
      "source": "## Task 7\n\nIn this step, I used the `.join()` method to convert the `ip_addresses` list back into a string, with a space separating each element. This was necessary because the file required the data in string format.\n\nNext, I built a `with` statement to open the original file in write mode (`\"w\"`) using the `open()` function. This step overwrote the file's contents with the updated `ip_addresses` list, ensuring that it now only contained the allowed IP addresses after removal. This code cell doesn't produce an output.",
      "metadata": {
        "id": "P-aJqrJlGBIR"
      }
    },
    {
      "cell_type": "code",
      "source": "# Assign `import_file` to the name of the file \n\nimport_file = \"allow_list.txt\"\n\n# Assign `remove_list` to a list of IP addresses that are no longer allowed to access restricted information. \n\nremove_list = [\"192.168.97.225\", \"192.168.158.170\", \"192.168.201.40\", \"192.168.58.57\"]\n\n# Build `with` statement to read in the initial contents of the file\n\nwith open(import_file, \"r\") as file:\n\n  # Use `.read()` to read the imported file and store it in a variable named `ip_addresses`\n\n  ip_addresses = file.read()\n\n# Use `.split()` to convert `ip_addresses` from a string to a list\n\nip_addresses = ip_addresses.split()\n\n# Build iterative statement\n# Name loop variable `element`\n# Loop through `ip_addresses`\n\nfor element in ip_addresses:\n  \n  # Build conditional statement\n  # If current element is in `remove_list`,\n  \n    if element in remove_list:\n\n        # then current element should be removed from `ip_addresses`\n\n        ip_addresses.remove(element)\n\n# Convert `ip_addresses` back to a string so that it can be written into the text file \n\nip_addresses = \" \".join(ip_addresses)\n\n# Build `with` statement to rewrite the original file\n\nwith open(import_file, \"w\") as file:\n\n  # Rewrite the file, replacing its contents with `ip_addresses`\n\n  file.write(ip_addresses)",
      "metadata": {
        "id": "_9TMPL2sF6Rh"
      },
      "outputs": [],
      "execution_count": 5
    },
    {
      "cell_type": "markdown",
      "source": "## Task 8\n\nI wrote another `with` statement to read the updated file. I started by opening the `\"allow_list.txt\"` file in read mode. I then used the `.read()` method to store the contents of the file in the `text` variable. Finally, I displayed the `text` variable to examine the result and verify that the file had been correctly updated with the new list of IP addresses.",
      "metadata": {
        "id": "MB-6keBnstVU"
      }
    },
    {
      "cell_type": "code",
      "source": "# Assign `import_file` to the name of the file \n\nimport_file = \"allow_list.txt\"\n\n# Assign `remove_list` to a list of IP addresses that are no longer allowed to access restricted information. \n\nremove_list = [\"192.168.97.225\", \"192.168.158.170\", \"192.168.201.40\", \"192.168.58.57\"]\n\n# Build `with` statement to read in the initial contents of the file\n\nwith open(import_file, \"r\") as file:\n\n  # Use `.read()` to read the imported file and store it in a variable named `ip_addresses`\n\n  ip_addresses = file.read()\n\n# Use `.split()` to convert `ip_addresses` from a string to a list\n\nip_addresses = ip_addresses.split()\n\n# Build iterative statement\n# Name loop variable `element`\n# Loop through `ip_addresses`\n\nfor element in ip_addresses:\n  \n  # Build conditional statement\n  # If current element is in `remove_list`,\n  \n    if element in remove_list:\n\n        # then current element should be removed from `ip_addresses`\n\n        ip_addresses.remove(element)\n\n# Convert `ip_addresses` back to a string so that it can be written into the text file     \n\nip_addresses = \" \".join(ip_addresses)\n\n# Build `with` statement to rewrite the original file\n\nwith open(import_file, \"w\") as file:\n\n  # Rewrite the file, replacing its contents with `ip_addresses`\n\n  file.write(ip_addresses)\n\n# Build `with` statement to read in the updated file\n\nwith open(import_file, \"r\") as file:\n\n    # Read in the updated file and store the contents in `text`\n\n    text = file.read()\n\n# Display the contents of `text`\n\nprint(text)",
      "metadata": {
        "trusted": true
      },
      "outputs": [],
      "execution_count": null
    },
    {
      "cell_type": "markdown",
      "source": "## Task 9\n\nI defined a function named `update_file()` that takes two parameters: `import_file` (the name of the text file containing the IP addresses) and `remove_list` (the list of IP addresses to be removed). I combined all the code I had written earlier into this function, which first reads the file, processes the list of IP addresses to remove the specified ones, and then writes the updated list back to the file. By organizing everything into a function, it became easier to reuse and apply the logic to any text file and list of IP addresses I need to modify.",
      "metadata": {
        "id": "-yu-FhBctNP6"
      }
    },
    {
      "cell_type": "code",
      "source": "# Define a function named `update_file` that takes in two parameters: `import_file` and `remove_list`\n# and combines the steps you've written in this lab leading up to this\n\ndef update_file(import_file, remove_list):\n\n    # Build `with` statement to read in the initial contents of the file\n\n    with open(import_file, \"r\") as file:\n\n        # Use `.read()` to read the imported file and store it in a variable named `ip_addresses`\n\n        ip_addresses = file.read()\n\n    # Use `.split()` to convert `ip_addresses` from a string to a list\n\n    ip_addresses = ip_addresses.split()\n\n    # Build iterative statement\n    # Name loop variable `element`\n    # Loop through `ip_addresses`\n\n    for element in ip_addresses:\n\n        # Build conditional statement\n        # If current element is in `remove_list`,\n\n        if element in remove_list:\n\n            # then current element should be removed from `ip_addresses`\n\n            ip_addresses.remove(element)\n\n    # Convert `ip_addresses` back to a string so that it can be written into the text file \n\n    ip_addresses = \" \".join(ip_addresses)\n\n    # Build `with` statement to rewrite the original file\n\n    with open(import_file, \"w\") as file:\n\n        # Rewrite the file, replacing its contents with `ip_addresses`\n\n        file.write(ip_addresses)",
      "metadata": {
        "id": "OXfjQ3bjK8_r"
      },
      "outputs": [],
      "execution_count": 8
    },
    {
      "cell_type": "markdown",
      "source": "#### **Question 3**\n**What are the benefits of incorporating the algorithm into a single function?**",
      "metadata": {
        "id": "cD0hgjRLuS98"
      }
    },
    {
      "cell_type": "markdown",
      "source": "Incorporating the algorithm into a single function helps organize the code and make it reusable. If you want to execute the algorithm more than once, all you have to do is call the function that contains it.",
      "metadata": {
        "id": "wwad4AR_uXLM"
      }
    },
    {
      "cell_type": "markdown",
      "source": "## Task 10\n\nI called the `update_file()` function and applied it to the `\"allow_list.txt\"` file. I passed a list of IP addresses `[\"192.168.25.60\", \"192.168.140.81\", \"192.168.203.198\"]` as the second argument, which contained the IP addresses that needed to be removed from the file.\n\nAfter running the function, I used a `with` statement to open and read the updated contents of the allow list. I displayed the contents to verify that the IP addresses were successfully removed and that the file had been updated accordingly.",
      "metadata": {
        "id": "O2H-OxNtOKh9"
      }
    },
    {
      "cell_type": "code",
      "source": "# Define a function named `update_file` that takes in two parameters: `import_file` and `remove_list`\n# and combines the steps you've written in this lab leading up to this\n\ndef update_file(import_file, remove_list):\n\n  # Build `with` statement to read in the initial contents of the file\n\n  with open(import_file, \"r\") as file:\n\n    # Use `.read()` to read the imported file and store it in a variable named `ip_addresses`\n\n    ip_addresses = file.read()\n\n  # Use `.split()` to convert `ip_addresses` from a string to a list\n\n  ip_addresses = ip_addresses.split()\n\n  # Build iterative statement\n  # Name loop variable `element`\n  # Loop through `ip_addresses`\n\n  for element in ip_addresses:\n    \n    # Build conditional statement\n    # If current element is in `remove_list`,\n    \n    if element in remove_list:\n\n      # then current element should be removed from `ip_addresses`\n\n      ip_addresses.remove(element)\n\n  # Convert `ip_addresses` back to a string so that it can be written into the text file     \n\n  ip_addresses = \" \".join(ip_addresses)\n\n  # Build `with` statement to rewrite the original file\n\n  with open(import_file, \"w\") as file:\n\n    # Rewrite the file, replacing its contents with `ip_addresses`\n\n    file.write(ip_addresses)\n\n# Call `update_file()` and pass in \"allow_list.txt\" and a list of IP addresses to be removed\n\nupdate_file(\"allow_list.txt\", [\"192.168.25.60\", \"192.168.140.81\", \"192.168.203.198\"])\n\n# Build `with` statement to read in the updated file\n\nwith open(\"allow_list.txt\", \"r\") as file:\n\n  # Read in the updated file and store the contents in `text`\n\n  text = file.read()\n\n# Display the contents of `text`\n\nprint(text)",
      "metadata": {
        "id": "O1FYsyooQAQv"
      },
      "outputs": [
        {
          "name": "stdout",
          "output_type": "stream",
          "text": [
            "\n"
          ]
        }
      ],
      "execution_count": 9
    },
    {
      "cell_type": "markdown",
      "source": "## Conclusion\n\n**What are your key takeaways from this lab?**",
      "metadata": {
        "id": "ru2ytGBLCh4q"
      }
    },
    {
      "cell_type": "markdown",
      "source": "- Python has functions and syntax that help me import and parse text files.\n  - The `with` statement allows me to efficiently handle files.\n  - The `open()` function allows me to import or open a file. It takes in the name of the file as the first parameter and a string that indicates the purpose of opening the file as the second parameter.\n    - Specify `\"r\"` as the second parameter if I am opening the file for reading purposes.\n    - Specify `\"w\"` as the second parameter if I am opening the file for writing purposes.\n  - The `.read()` method allows me to read in a file. \n  - The `.write()` method allows me to append or write to a file.\n- I can use a `for` loop to iterate over a list.\n- I can use an `if` statement to check if a given value is in a list and execute a specific action if so.\n- I can use the `.split()` method to convert a string to a list.\n- I can use Python to compare contents of a text file against elements of a list.\n- Algorithms can be incorporated into functions. When defining a function, I must specify the parameters it takes in and the actions it should execute.",
      "metadata": {
        "id": "hxh9FImwbcF9"
      }
    }
  ]
}