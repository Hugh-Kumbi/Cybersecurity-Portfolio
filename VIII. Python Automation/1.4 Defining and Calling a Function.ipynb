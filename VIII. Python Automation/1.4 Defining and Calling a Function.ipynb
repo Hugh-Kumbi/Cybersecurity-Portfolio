{
  "metadata": {
    "kernelspec": {
      "name": "python",
      "display_name": "Python (Pyodide)",
      "language": "python"
    },
    "language_info": {
      "codemirror_mode": {
        "name": "python",
        "version": 3
      },
      "file_extension": ".py",
      "mimetype": "text/x-python",
      "name": "python",
      "nbconvert_exporter": "python",
      "pygments_lexer": "ipython3",
      "version": "3.8"
    },
    "colab": {
      "provenance": []
    }
  },
  "nbformat_minor": 4,
  "nbformat": 4,
  "cells": [
    {
      "cell_type": "markdown",
      "source": "# Defining and Calling a Function",
      "metadata": {
        "id": "ISr45HAPh1Xq"
      }
    },
    {
      "cell_type": "markdown",
      "source": "## Proposed Resolution",
      "metadata": {
        "id": "kRU7MObZEY36"
      }
    },
    {
      "cell_type": "markdown",
      "source": "## Task 1\n\nIn this task, I analyzed the definition of a user-defined function named `alert()`.\n\nI observed the structure of the function, including its name, parameters it might accept, and its intended purpose based on the code. Since this was only the function definition, running the cell did not produce any output, as the function itself was not called during this step. ",
      "metadata": {
        "id": "7kVc1buv_XBG"
      }
    },
    {
      "cell_type": "code",
      "source": "# Define a function named `alert()` \n\ndef alert():\n    print(\"Potential security issue. Investigate further.\")",
      "metadata": {
        "id": "MIWcP2bq_R-V"
      },
      "outputs": [],
      "execution_count": 1
    },
    {
      "cell_type": "markdown",
      "source": "#### **Question 1**\nSummarize what the user-defined function above does in your own words. Think about what the output would be if this function were called.",
      "metadata": {
        "id": "lf8YCFRMDL38"
      }
    },
    {
      "cell_type": "markdown",
      "source": "The `alert()` function displays the string `\"Potential security issue. Investigate further.\"` to the screen. This function can be used to inform security analysts about potential security issues in a system. If this function were called, the output would show `Potential security issue. Investigate further.`. Recall that when a string is displayed, the quotes around the string do not appear in the output.",
      "metadata": {
        "id": "a7vMMCj0FG-n"
      }
    },
    {
      "cell_type": "markdown",
      "source": "## Task 2\n\nIn this task, I called the `alert()` function that I had defined earlier and analyzed its output.\n\nBy invoking the function, I observed its behavior and any message or result it produced. This helped me verify that the function was working as intended.",
      "metadata": {
        "id": "1MK0FV0nDk7n"
      }
    },
    {
      "cell_type": "code",
      "source": "# Define a function named `alert()` \n\ndef alert():\n    print(\"Potential security issue. Investigate further.\")\n\n# Call the `alert()` function\n\nalert()",
      "metadata": {
        "id": "k66b_dwhDkRU"
      },
      "outputs": [
        {
          "name": "stdout",
          "output_type": "stream",
          "text": [
            "Potential security issue. Investigate further.\n"
          ]
        }
      ],
      "execution_count": 2
    },
    {
      "cell_type": "markdown",
      "source": "#### **Question 2**\nWhat are the advantages of placing this code in a function rather than running it directly?",
      "metadata": {
        "id": "E9wvcRm1ayLf"
      }
    },
    {
      "cell_type": "markdown",
      "source": "Placing the code in a function allows you to effeciently reuse the code. Whenever you need to display the messages about a potential security issue and further investigation, you can just call the `alert()` function. The alternative would be to write out that `print()` statement every time, which would be tedious.",
      "metadata": {
        "id": "KmJpRu8BayLf"
      }
    },
    {
      "cell_type": "markdown",
      "source": "## Task 3\n\nIn this task, I called the updated `alert()` function, which included a `for` loop to display the alert message multiple times.\n\nBy running the function, I observed how the loop executed and how many times the alert message was displayed. This allowed me to confirm that the integration of the `for` loop worked as intended.\n",
      "metadata": {
        "id": "1VddrUV7fo-C"
      }
    },
    {
      "cell_type": "code",
      "source": "# Define a function named `alert()`\n\ndef alert(): \n    for i in range(3):\n        print(\"Potential security issue. Investigate further.\")\n\n# Call the `alert()` function\n\nalert()",
      "metadata": {
        "id": "2REO611jgVUB"
      },
      "outputs": [
        {
          "name": "stdout",
          "output_type": "stream",
          "text": [
            "Potential security issue. Investigate further.\n",
            "Potential security issue. Investigate further.\n",
            "Potential security issue. Investigate further.\n"
          ]
        }
      ],
      "execution_count": 3
    },
    {
      "cell_type": "markdown",
      "source": "#### **Question 3**\nHow does the output above compare to the output from calling the previous version of the `alert()` function? How are the two definitions of the function different?",
      "metadata": {
        "id": "zk8dwl4bmczd"
      }
    },
    {
      "cell_type": "markdown",
      "source": "The output shows `Potential security issue. Investigate further.` three times, each time appearing on a new line. Meanwhile, the output from calling the previous version of `alert()` shows the message only once. The difference in behavior is due to the `for` loop used in the second version. This loop iterates over a range of numbers (specified by `range(3)`) and executes a `print()` statement in each iteration. This `print()` statement is the same as the one in the previous function definition.",
      "metadata": {
        "id": "WIRg-R0Nmczd"
      }
    },
    {
      "cell_type": "markdown",
      "source": "## Task 4\n\nIn this task, I started defining a function named `list_to_string()`. I wrote only the function header, which outlined the name of the function and its parameters. I understood that the cell would produce an error if I ran it because the function body and complete definition were not yet included.\n\nThis step set the foundation for developing the function, which I planned to complete in a later task.",
      "metadata": {
        "id": "nXECRImqRzzb"
      }
    },
    {
      "cell_type": "code",
      "source": "# Define a function named `list_to_string()`\n\ndef list_to_string():",
      "metadata": {
        "id": "fw6v2A74R0ck"
      },
      "outputs": [
        {
          "ename": "SyntaxError",
          "evalue": "unexpected EOF while parsing (<ipython-input-4-f359e12ed06d>, line 3)",
          "output_type": "error",
          "traceback": [
            "\u001b[0;36m  File \u001b[0;32m\"<ipython-input-4-f359e12ed06d>\"\u001b[0;36m, line \u001b[0;32m3\u001b[0m\n\u001b[0;31m    def list_to_string():\u001b[0m\n\u001b[0m                         ^\u001b[0m\n\u001b[0;31mSyntaxError\u001b[0m\u001b[0;31m:\u001b[0m unexpected EOF while parsing\n"
          ]
        }
      ],
      "execution_count": 4
    },
    {
      "cell_type": "markdown",
      "source": "## Task 5\n\nIn this task, I developed the body of the `list_to_string()` function. I was provided with a list of approved usernames stored in a variable called `username_list`.\n\nTo complete the function body, I wrote a loop that iterated through the elements of `username_list` and displayed each element. Then, I called the function and ran the cell to observe the output. \n",
      "metadata": {
        "id": "yAwUDAHpsXS4"
      }
    },
    {
      "cell_type": "code",
      "source": "# Define a function named `list_to_string()`\n\ndef list_to_string():\n\n  # Store the list of approved usernames in a variable named `username_list`\n\n  username_list = [\"elarson\", \"bmoreno\", \"tshah\", \"sgilmore\", \"eraab\", \"gesparza\", \"alevitsk\", \"wjaffrey\"]\n\n  # Write a for loop that iterates through the elements of `username_list` and displays each element\n\n  for i in username_list:\n    print(i)\n\n# Call the `list_to_string()` function\n\nlist_to_string()",
      "metadata": {
        "id": "lfwM_xWfsK0C"
      },
      "outputs": [
        {
          "name": "stdout",
          "output_type": "stream",
          "text": [
            "elarson\n",
            "bmoreno\n",
            "tshah\n",
            "sgilmore\n",
            "eraab\n",
            "gesparza\n",
            "alevitsk\n",
            "wjaffrey\n"
          ]
        }
      ],
      "execution_count": 5
    },
    {
      "cell_type": "markdown",
      "source": "#### **Question 4**\nWhat do you observe from the output above?",
      "metadata": {
        "id": "OrhGVQToxE7f"
      }
    },
    {
      "cell_type": "markdown",
      "source": "The output shows each element from `username_list` on a new line. ",
      "metadata": {
        "id": "9azfubexxE7g"
      }
    },
    {
      "cell_type": "markdown",
      "source": "## Task 6\n\nIn this task, I modified the `list_to_string()` function to use string concatenation. I was provided with a variable named `sum_variable`, which initially contained an empty string. My task was to combine the usernames from the `username_list` into a single string using string concatenation and store the result in `sum_variable`.\n\nI added the current element of `username_list` to `sum_variable` during each iteration of the `for` loop. At the end of the function, I wrote a `print()` statement to display the value of `sum_variable` and observe its progress. Finally, I called the `list_to_string()` function and ran the cell to examine its output.",
      "metadata": {
        "id": "VoUS63vCxX6a"
      }
    },
    {
      "cell_type": "code",
      "source": "# Define a function named `list_to_string()`\n\ndef list_to_string():\n\n  # Store the list of approved usernames in a variable named `username_list`\n\n  username_list = [\"elarson\", \"bmoreno\", \"tshah\", \"sgilmore\", \"eraab\", \"gesparza\", \"alevitsk\", \"wjaffrey\"]\n\n  # Assign `sum_variable` to an empty string\n\n  sum_variable = \"\"\n\n  # Write a for loop that iterates through the elements of `username_list` and displays each element\n\n  for i in username_list:\n    sum_variable = sum_variable + i\n\n  # Display the value of `sum_variable`\n\n  print(sum_variable)\n\n# Call the `list_to_string()` function\n\nlist_to_string()",
      "metadata": {
        "id": "cLbEQNSwvzUz"
      },
      "outputs": [
        {
          "name": "stdout",
          "output_type": "stream",
          "text": [
            "elarsonbmorenotshahsgilmoreeraabgesparzaalevitskwjaffrey\n"
          ]
        }
      ],
      "execution_count": 6
    },
    {
      "cell_type": "markdown",
      "source": "#### **Question 5**\nWhat do you observe from the output above?",
      "metadata": {
        "id": "yWfkqnTV5b-C"
      }
    },
    {
      "cell_type": "markdown",
      "source": "The output shows all the elements from `username_list` merged together in one line. In its current format, the output is difficult to read. It's difficult to decipher where one username ends and the next begins. ",
      "metadata": {
        "id": "fM1XnnOX5b-K"
      }
    },
    {
      "cell_type": "markdown",
      "source": "## Task 7\n\nIn this task, I modified the `list_to_string()` function to include a comma and a space (`, `) after each username when concatenating the elements of the `username_list`. This adjustment made the output more readable by clearly separating the usernames.\n\nAfter modifying the function, I called it and ran the cell to observe the updated output.\n",
      "metadata": {
        "id": "pcRf8PLa4bt1"
      }
    },
    {
      "cell_type": "code",
      "source": "# Define a function named `list_to_string()`\n\ndef list_to_string():\n\n  # Store the list of approved usernames in a variable named `username_list`\n\n  username_list = [\"elarson\", \"bmoreno\", \"tshah\", \"sgilmore\", \"eraab\", \"gesparza\", \"alevitsk\", \"wjaffrey\"]\n\n  # Assign `sum_variable` to an empty string\n\n  sum_variable = \"\"\n\n  # Write a for loop that iterates through the elements of `username_list` and displays each element\n\n  for i in username_list:\n    sum_variable = sum_variable + i + \", \"\n\n  # Display the value of `sum_variable`\n\n  print(sum_variable)\n\n# Call the `list_to_string()` function\n\nlist_to_string()",
      "metadata": {
        "id": "DLW-X1FM7K56"
      },
      "outputs": [
        {
          "name": "stdout",
          "output_type": "stream",
          "text": [
            "elarson, bmoreno, tshah, sgilmore, eraab, gesparza, alevitsk, wjaffrey, \n"
          ]
        }
      ],
      "execution_count": 7
    },
    {
      "cell_type": "markdown",
      "source": "#### **Question 6**\nWhat do you notice about the output from the function call this time?",
      "metadata": {
        "id": "MCsLDLob_liw"
      }
    },
    {
      "cell_type": "markdown",
      "source": "The output shows all the elements from `username_list` in one line. This time, there's a comma and a space after each username. This format is much easier to read. It's easier to distinguish one username from the next. ",
      "metadata": {
        "id": "dUEMQxQv_liw"
      }
    },
    {
      "cell_type": "markdown",
      "source": "## Conclusion\n\n**What are your key takeaways from this lab?**",
      "metadata": {
        "id": "ru2ytGBLCh4q"
      }
    },
    {
      "cell_type": "markdown",
      "source": "- Python allows me to define and call functions that I create.\n- The main components of a function definition header include the function header and the function body. \n  - The function header includes the `def` keyword, followed by the name of the function, followed by parantheses, followed by a colon. \n  - The function body includese an indented block of code that instructs the computer on what to do when the function is called.\n- String concatenation involves using the addition operator (`+`) to combine multiple strings together.\n  - One use case for string concatenation is combining the strings from a list into one large string.",
      "metadata": {
        "id": "1Vb_F3oUAZQ1"
      }
    }
  ]
}