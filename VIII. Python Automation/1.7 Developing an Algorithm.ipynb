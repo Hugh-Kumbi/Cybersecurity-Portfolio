{
  "metadata": {
    "kernelspec": {
      "name": "python",
      "display_name": "Python (Pyodide)",
      "language": "python"
    },
    "language_info": {
      "codemirror_mode": {
        "name": "python",
        "version": 3
      },
      "file_extension": ".py",
      "mimetype": "text/x-python",
      "name": "python",
      "nbconvert_exporter": "python",
      "pygments_lexer": "ipython3",
      "version": "3.8"
    },
    "colab": {
      "collapsed_sections": [
        "0rePIFfpFgJL"
      ],
      "provenance": [],
      "toc_visible": true
    }
  },
  "nbformat_minor": 4,
  "nbformat": 4,
  "cells": [
    {
      "cell_type": "markdown",
      "source": "# Develop an algorithm",
      "metadata": {
        "id": "FpdoHsRVBxVN"
      }
    },
    {
      "cell_type": "markdown",
      "source": "## Proposed Resolution",
      "metadata": {
        "id": "R4eL2ZJFRVgH"
      }
    },
    {
      "cell_type": "markdown",
      "source": "## Task 1\n\nI worked with a list of approved usernames and a corresponding list of approved devices assigned to these users. The elements of both lists were synchronized, meaning the user at index `0` in `approved_users` was associated with the device at index `0` in `approved_devices`. This synchronization allowed me to verify if a username and device ID matched.\n\nFirst, I ran the provided code to observe the output as-is, which helped me understand how indices in lists work. Next, I replaced each `0` with a different index in the code and re-ran the cell. By doing this, I explored how changing the index impacted the output, reinforcing my understanding of list indexing.",
      "metadata": {
        "id": "yN2oyiIpSSAg"
      }
    },
    {
      "cell_type": "code",
      "source": "# Assign `approved_users` to a list of approved usernames\n\napproved_users = [\"elarson\", \"bmoreno\", \"tshah\", \"sgilmore\", \"eraab\"]\n\n# Assign `approved_devices` to a list of device IDs that correspond to the usernames in `approved_users`\n\napproved_devices = [\"8rp2k75\", \"hl0s5o1\", \"2ye3lzg\", \"4n482ts\", \"a307vir\"]\n\n# Display the element at the specified index in `approved_users`\n\nprint(approved_users[0])\n\n# Display the element at the specified index in `approved_devices`\n\nprint(approved_devices[0])\n",
      "metadata": {
        "colab": {
          "base_uri": "https://localhost:8080/"
        },
        "executionInfo": {
          "elapsed": 8,
          "status": "ok",
          "timestamp": 1675446438597,
          "user": {
            "displayName": "Lavanya Vijayan",
            "userId": "09394087000910120547"
          },
          "user_tz": 480
        },
        "id": "Cwvk-6Wn_DWo",
        "outputId": "e90b7c8c-5b3d-47c1-86c1-d47bf55e9691"
      },
      "outputs": [
        {
          "name": "stdout",
          "output_type": "stream",
          "text": [
            "elarson\n",
            "8rp2k75\n"
          ]
        }
      ],
      "execution_count": 1
    },
    {
      "cell_type": "markdown",
      "source": "#### **Question 1**\n**What did you observe about the output when `approved_users[0]` is displayed and when `approved_devices[0]` is displayed? What happens when you replace each `0` with another index?**\n",
      "metadata": {
        "id": "EtiyVRgr9-CU"
      }
    },
    {
      "cell_type": "markdown",
      "source": "When `approved_users[0]` is displayed, the output is the first approved username from `approved_users`. When `approved_devices[0]` is displayed, the output is the first device ID from `approved_devices`. When I replaced each `0` with another index, the output is the element at that index in `approved_users`, followed by the element at that index in `approved_devices`. For example, when I replace each `0` with `2`, the output is the element at index `2` in `approved_users`, followed by the element at index `2` in `approved_devices`.",
      "metadata": {
        "id": "GCQm8kMo_zTO"
      }
    },
    {
      "cell_type": "markdown",
      "source": "## Task 2\n\nA new employee joined the organization, and I needed to provide them with a username and a device ID. The username and device ID for the new user were stored in the variables `new_user` and `new_device`, respectively.\n\nTo update the system, I used the `.append()` method to add `new_user` to the `approved_users` list and `new_device` to the `approved_devices` list. After making these updates, I displayed the contents of `approved_users` and `approved_devices` to confirm that the new information was added correctly.",
      "metadata": {
        "id": "ZwXgZ7V7SefF"
      }
    },
    {
      "cell_type": "code",
      "source": "# Assign `approved_users` to a list of approved usernames\n\napproved_users = [\"elarson\", \"bmoreno\", \"tshah\", \"sgilmore\", \"eraab\"]\n\n# Assign `approved_devices` to a list of device IDs that correspond to the usernames in `approved_users`\n\napproved_devices = [\"8rp2k75\", \"hl0s5o1\", \"2ye3lzg\", \"4n482ts\", \"a307vir\"]\n\n# Assign `new_user` to the username of a new approved user\n\nnew_user = \"gesparza\"\n\n# Assign `new_device` to the device ID of the new approved user\n\nnew_device = \"3rcv4w6\"\n\n# Add that user's username and device ID to `approved_users` and `approved_devices` respectively\n\napproved_users.append(new_user)\napproved_devices.append(new_device)\n\n# Display the contents of `approved_users`\n\nprint(approved_users)\n\n# Diplay the contents of `approved_devices`\n\nprint(approved_devices)\n",
      "metadata": {
        "colab": {
          "base_uri": "https://localhost:8080/"
        },
        "executionInfo": {
          "elapsed": 5,
          "status": "ok",
          "timestamp": 1675446438597,
          "user": {
            "displayName": "Lavanya Vijayan",
            "userId": "09394087000910120547"
          },
          "user_tz": 480
        },
        "id": "6YZ3PeeWHG-T",
        "outputId": "503ad50a-b10b-458e-928b-25a6dbe7d1b9"
      },
      "outputs": [
        {
          "name": "stdout",
          "output_type": "stream",
          "text": [
            "['elarson', 'bmoreno', 'tshah', 'sgilmore', 'eraab', 'gesparza']\n",
            "['8rp2k75', 'hl0s5o1', '2ye3lzg', '4n482ts', 'a307vir', '3rcv4w6']\n"
          ]
        }
      ],
      "execution_count": 2
    },
    {
      "cell_type": "markdown",
      "source": "#### **Question 2**\n**After the new approved user is added, what did you observe about the output when `approved_users` is displayed and when `approved_devices` is displayed?**\n",
      "metadata": {
        "id": "2UVf8du_CdfW"
      }
    },
    {
      "cell_type": "markdown",
      "source": "After the new approved user is added, their username is at the end of the `approved_users` and their device ID is at the end of the `approved_devices`.",
      "metadata": {
        "id": "VFWbKi3YCdff"
      }
    },
    {
      "cell_type": "markdown",
      "source": "## Task 3\n\nAn employee left the team and needed to be removed from the system. The username and device ID of the user were stored in the variables `removed_user` and `removed_device`, respectively.\n\nI used the `.remove()` method to remove `removed_user` from the `approved_users` list and `removed_device` from the `approved_devices` list. After completing these actions, I displayed the contents of both `approved_users` and `approved_devices` to confirm that the user and their device were successfully removed.\n",
      "metadata": {
        "id": "nDgdKRQ5TzdV"
      }
    },
    {
      "cell_type": "code",
      "source": "# Assign `approved_users` to a list of approved usernames\n\napproved_users = [\"elarson\", \"bmoreno\", \"tshah\", \"sgilmore\", \"eraab\", \"gesparza\"]\n\n# Assign `approved_devices` to a list of device IDs that correspond to the usernames in `approved_users`\n\napproved_devices = [\"8rp2k75\", \"hl0s5o1\", \"2ye3lzg\", \"4n482ts\", \"a307vir\", \"3rcv4w6\"]\n\n# Assign `removed_user` to the username of the employee who has left the team\n\nremoved_user = \"tshah\"\n\n# Assign `removed_device` to the device ID of the employee who has left the team\n\nremoved_device = \"2ye3lzg\"\n\n# Remove that employee's username and device ID from `approved_users` and `approved_devices` respectively\n\napproved_users.remove(removed_user)\napproved_devices.remove(removed_device)\n\n# Display `approved_users`\n\nprint(approved_users)\n\n# Diplay `approved_devices`\n\nprint(approved_devices)\n",
      "metadata": {
        "colab": {
          "base_uri": "https://localhost:8080/"
        },
        "executionInfo": {
          "elapsed": 321,
          "status": "ok",
          "timestamp": 1675446438915,
          "user": {
            "displayName": "Lavanya Vijayan",
            "userId": "09394087000910120547"
          },
          "user_tz": 480
        },
        "id": "lSk_xQuJU8yt",
        "outputId": "1e2bfbc7-3cef-4b7e-9f7a-507267bdd86a"
      },
      "outputs": [
        {
          "name": "stdout",
          "output_type": "stream",
          "text": [
            "['elarson', 'bmoreno', 'sgilmore', 'eraab', 'gesparza']\n",
            "['8rp2k75', 'hl0s5o1', '4n482ts', 'a307vir', '3rcv4w6']\n"
          ]
        }
      ],
      "execution_count": 3
    },
    {
      "cell_type": "markdown",
      "source": "#### **Question 3**\n**After the user who left the team is removed, what did you observe about the output when `approved_users` is displayed and when `approved_devices` is displayed?**\n",
      "metadata": {
        "id": "0rePIFfpFgJL"
      }
    },
    {
      "cell_type": "markdown",
      "source": "After the user who left the team is removed, their username is no longer part of the `approved_users` and their device ID is no longer part of the `approved_devices`.",
      "metadata": {
        "id": "orYn86YMFgJU"
      }
    },
    {
      "cell_type": "markdown",
      "source": "## Task 4\n\nAs part of verifying a user's identity in the system, I needed to check if the username was one of the approved users. To do this, I wrote a conditional statement that verified whether the given username was an element of the `approved_users` list.\n\nIf the username was found in the list, I displayed:\n`\"The user [username] is approved to access the system.\"`\n\nIf the username was not found, I displayed:\n`\"The user [username] is not approved to access the system.\"`\n\nThis allowed me to confirm whether the user had the necessary access permissions.",
      "metadata": {
        "id": "aLiBPEERhxdC"
      }
    },
    {
      "cell_type": "code",
      "source": "# Assign `approved_users` to a list of approved usernames\n\napproved_users = [\"elarson\", \"bmoreno\", \"sgilmore\", \"eraab\", \"gesparza\"]\n\n# Assign `approved_devices` to a list of device IDs that correspond to the usernames in `approved_users`\n\napproved_devices = [\"8rp2k75\", \"hl0s5o1\", \"4n482ts\", \"a307vir\", \"3rcv4w6\"]\n\n# Assign `username` to a username\n\nusername = \"sgilmore\"\n\n# Conditional statement\n# If `username` belongs to `approved_users`, then display \"The user ______ is approved to access the system.\"\n# Otherwise display \"The user ______ is not approved to access the system.\"\nif username in approved_users:\n    print(\"The username\", username, \"is approved to access the system.\")\nelse:\n    print(\"The username\", username, \"is not approved to access the system.\")\n    ",
      "metadata": {
        "colab": {
          "base_uri": "https://localhost:8080/"
        },
        "executionInfo": {
          "elapsed": 9,
          "status": "ok",
          "timestamp": 1675446438916,
          "user": {
            "displayName": "Lavanya Vijayan",
            "userId": "09394087000910120547"
          },
          "user_tz": 480
        },
        "id": "a66pScltkmEE",
        "outputId": "049b0387-b880-4cfe-a82e-5461b455a3a9"
      },
      "outputs": [
        {
          "name": "stdout",
          "output_type": "stream",
          "text": [
            "The username sgilmore is approved to access the system.\n"
          ]
        }
      ],
      "execution_count": 4
    },
    {
      "cell_type": "markdown",
      "source": "#### **Question 4**\n**What message do you observe in the output when `username` is `\"sgilmore\"`?**\n",
      "metadata": {
        "id": "Kvtoh6nLK4cG"
      }
    },
    {
      "cell_type": "markdown",
      "source": "When `username` is `\"sgilmore\"`, the outputted message reads `\"The username sgilmore is approved to access the system.\"` since `\"sgilmore\"` is an element of the `approved_users`.",
      "metadata": {
        "id": "V2enBiATK4cG"
      }
    },
    {
      "cell_type": "markdown",
      "source": "## Task 5\n\nIn the next part of the algorithm, I used the `.index()` method to find the position of a given `username` in the `approved_users` list. I stored the index returned by the method in a variable named `ind`.\n\nTo better understand the value of `ind`, I added a statement to display its contents. This allowed me to confirm the exact position of the `username` in the list and verify the correct functionality of the `.index()` method. ",
      "metadata": {
        "id": "i-0xllOwdl8r"
      }
    },
    {
      "cell_type": "code",
      "source": "# Assign `approved_users` to a list of approved usernames\n\napproved_users = [\"elarson\", \"bmoreno\", \"sgilmore\", \"eraab\", \"gesparza\"]\n\n# Assign `approved_devices` to a list of device IDs that correspond to the usernames in `approved_users`\n\napproved_devices = [\"8rp2k75\", \"hl0s5o1\", \"4n482ts\", \"a307vir\", \"3rcv4w6\"]\n\n# Assign `username` to a username\n\nusername = \"sgilmore\"\n\n# Assign `ind` to the index of `username` in `approved_users`\n\nind = approved_users.index(username)\n\n# Display the value of `ind`\n\nprint(ind)\n",
      "metadata": {
        "colab": {
          "base_uri": "https://localhost:8080/"
        },
        "executionInfo": {
          "elapsed": 7,
          "status": "ok",
          "timestamp": 1675446438916,
          "user": {
            "displayName": "Lavanya Vijayan",
            "userId": "09394087000910120547"
          },
          "user_tz": 480
        },
        "id": "UdPUdMj7kSCo",
        "outputId": "b3cb9731-9191-4936-ef5f-7240f267d358"
      },
      "outputs": [
        {
          "name": "stdout",
          "output_type": "stream",
          "text": [
            "2\n"
          ]
        }
      ],
      "execution_count": 5
    },
    {
      "cell_type": "markdown",
      "source": "#### **Question 5**\n**What do you observe from the output when `username` is `\"sgilmore\"`?**\n",
      "metadata": {
        "id": "uvLBuBxVMKNU"
      }
    },
    {
      "cell_type": "markdown",
      "source": "When `username` is `\"sgilmore\"`, the output is `2`, which indicates that the index value of `\"sgilmore\"` is `2` in the `approved_users`. In other words, `\"sgilmore\"` is the third element in the `approved_users`. Indexing in Python starts at `0`.",
      "metadata": {
        "id": "shsSZbcxMKNV"
      }
    },
    {
      "cell_type": "markdown",
      "source": "## Task 6\n\nThis task helped me build a deeper understanding of list operations for the algorithm I was constructing. It demonstrated how to find an index in one list and then use that index to retrieve connected information from another list.\n\nFirst, I used the `.index()` method to find the position of the `username` in the `approved_users` list and stored this index in a variable named `ind`. Next, I used `ind` to access the corresponding device ID from the `approved_devices` list. I then displayed the device ID located at that index to confirm the connection between the `username` and the device ID.\n\nFinally, I ran the code to observe and verify the results.",
      "metadata": {
        "id": "uWhHEIAkk4Gt"
      }
    },
    {
      "cell_type": "code",
      "source": "# Assign `approved_users` to a list of approved usernames\n\napproved_users = [\"elarson\", \"bmoreno\", \"sgilmore\", \"eraab\", \"gesparza\"]\n\n# Assign `approved_devices` to a list of device IDs that correspond to the usernames in `approved_users`\n\napproved_devices = [\"8rp2k75\", \"hl0s5o1\", \"4n482ts\", \"a307vir\", \"3rcv4w6\"]\n\n# Assign `username` to a username\n\nusername = \"sgilmore\"\n\n# Assign `ind` to the index of `username` in `approved_users`\n\nind = approved_users.index(username)\n\n# Display the device ID at the index that matches the value of `ind` in `approved_devices`\n\nprint(approved_devices[ind])\n",
      "metadata": {
        "colab": {
          "base_uri": "https://localhost:8080/"
        },
        "executionInfo": {
          "elapsed": 7,
          "status": "ok",
          "timestamp": 1675446438917,
          "user": {
            "displayName": "Lavanya Vijayan",
            "userId": "09394087000910120547"
          },
          "user_tz": 480
        },
        "id": "QAzVvqv7oNDr",
        "outputId": "24ea438d-b7c3-49b9-fbb5-83a47744f5fe"
      },
      "outputs": [
        {
          "name": "stdout",
          "output_type": "stream",
          "text": [
            "4n482ts\n"
          ]
        }
      ],
      "execution_count": 6
    },
    {
      "cell_type": "markdown",
      "source": "#### **Question 6**\n**What do you observe from the output when `username` is `\"sgilmore\"`?**\n",
      "metadata": {
        "id": "OMIniudTWfJl"
      }
    },
    {
      "cell_type": "markdown",
      "source": "When `username` is `\"sgilmore\"`, the output is `4n482ts`, which is the device ID that corresponds to `\"sgilmore\"`. The third approved username in the `approved_users` is `\"sgilmore\"`, and similarly the third device ID in the `approved_devices` is `\"4n482ts\"`.",
      "metadata": {
        "id": "GhXxHegvWfJl"
      }
    },
    {
      "cell_type": "markdown",
      "source": "## Task 7\n\nMy next step in creating the algorithm was to determine if a `username` and device_id corresponded correctly. To achieve this, I wrote a conditional statement that checked two conditions:\n\n1. If the `username` was an element of the `approved_users list`.\n2. If the `device_id` at the same index as `username` in the `approved_devices` list matched the `device_id` entered.\n\nI used the logical operator `and` to combine these conditions. When both conditions evaluated to `True`, I displayed a message confirming that the `username` was approved and another message verifying that the user had their assigned device.\n\nThis step ensured that the system validated both the identity of the user and the correctness of their assigned device.",
      "metadata": {
        "id": "uejsfvyqTHyH"
      }
    },
    {
      "cell_type": "code",
      "source": "# Assign `approved_users` to a list of approved usernames\n\napproved_users = [\"elarson\", \"bmoreno\", \"sgilmore\", \"eraab\", \"gesparza\"]\n\n# Assign `approved_devices` to a list of device IDs that correspond to the usernames in `approved_users`\n\napproved_devices = [\"8rp2k75\", \"hl0s5o1\", \"4n482ts\", \"a307vir\", \"3rcv4w6\"]\n\n# Assign `username` to a username\n\nusername = \"sgilmore\"\n\n# Assign `device_id` to a device ID\n\ndevice_id = \"4n482ts\"\n\n# Assign `ind` to the index of `username` in `approved_users`\n\nind = approved_users.index(username)\n\n# Conditional statement\n# If `username` belongs to `approved_users`, and if the device ID at `ind` in `approved_devices` matches `device_id`,\n# then display a message that the username is approved,\n# followed by a message that the user has the correct device\n\nif username in approved_users and device_id == approved_devices[ind]:\n    print(\"The username\", username, \"is approved to access the system.\")\n    print(device_id, \"is the assigned device for\", username)\n    ",
      "metadata": {
        "colab": {
          "base_uri": "https://localhost:8080/"
        },
        "executionInfo": {
          "elapsed": 5,
          "status": "ok",
          "timestamp": 1675446438917,
          "user": {
            "displayName": "Lavanya Vijayan",
            "userId": "09394087000910120547"
          },
          "user_tz": 480
        },
        "id": "UlkZ36uuEqSG",
        "outputId": "dc3a1e01-bf06-4331-ce0f-3734f31db77c"
      },
      "outputs": [
        {
          "name": "stdout",
          "output_type": "stream",
          "text": [
            "The username sgilmore is approved to access the system.\n",
            "4n482ts is the assigned device for sgilmore\n"
          ]
        }
      ],
      "execution_count": 7
    },
    {
      "cell_type": "markdown",
      "source": "#### **Question 7**\n**What do you observe from the output when `username` is `\"sgilmore\"` and `device_id` is `\"4n482ts\"`?**\n",
      "metadata": {
        "id": "1Fl6R6-mXIUX"
      }
    },
    {
      "cell_type": "markdown",
      "source": "When `username` is `\"sgilmore\"` and `device_id` is `\"4n482ts\"`, the output consists of `The username sgilmore is approved to access the system.` on the first line and `4n482ts is the assigned device for sgilmore` on the second line.",
      "metadata": {
        "id": "M3KWq43HXIUf"
      }
    },
    {
      "cell_type": "markdown",
      "source": "## Task 8\n\nTo improve the user experience, I added functionality to provide feedback when either the username or the device ID was incorrect.\n\nI extended the code with an `elif` statement that executed when the `username` was found in the `approved_users` list, but the `device_id` did not match the corresponding device ID in the `approved_devices` list. This statement displayed two messages: one confirming that the `username` was approved and another indicating that the `device_id` was incorrect.\n\nAfter running the code with a `device_id` of `\"4n482ts\"`, I experimented by assigning different values to `device_id` to observe how the program responded. This helped me ensure the logic handled mismatches correctly and provided meaningful feedback.",
      "metadata": {
        "id": "9lFPzCnyHAPg"
      }
    },
    {
      "cell_type": "code",
      "source": "# Assign `approved_users` to a list of approved usernames\n\napproved_users = [\"elarson\", \"bmoreno\", \"sgilmore\", \"eraab\", \"gesparza\"]\n\n# Assign `approved_devices` to a list of device IDs that correspond to the usernames in `approved_users`\n\napproved_devices = [\"8rp2k75\", \"hl0s5o1\", \"4n482ts\", \"a307vir\", \"3rcv4w6\"]\n\n# Assign `username` to a username\n\nusername = \"sgilmore\"\n\n# Assign `device_id` to a device ID\n\ndevice_id = \"4n482ts\"\n\n# Assign `ind` to the index of `username` in `approved_users`\n\nind = approved_users.index(username)\n\n# If statement\n# If `username` belongs to `approved_users`, and if the element at `ind` in `approved_devices` matches `device_id`,\n# then display a message that the username is approved,\n# followed by a message that the user has the correct device\n\nif username in approved_users and device_id == approved_devices[ind]:\n    print(\"The user\", username, \"is approved to access the system.\")\n    print(device_id, \"is the assigned device for\", username)\n\n# Elif statement\n# Handles the case when `username` belongs to `approved_users` but element at `ind` in `approved_devices` does not match `device_id`,\n# and displays two messages accordingly\n\nelif username in approved_users and device_id != approved_devices[ind]:\n    print(\"The user\", username, \"is approved to access the system, but\", device_id, \"is not their assigned device.\")",
      "metadata": {
        "colab": {
          "base_uri": "https://localhost:8080/"
        },
        "executionInfo": {
          "elapsed": 233,
          "status": "ok",
          "timestamp": 1675446439146,
          "user": {
            "displayName": "Lavanya Vijayan",
            "userId": "09394087000910120547"
          },
          "user_tz": 480
        },
        "id": "hkRnVuCgIuNP",
        "outputId": "72755d8b-9045-480b-80c1-8c9ebe4f6bc2"
      },
      "outputs": [
        {
          "name": "stdout",
          "output_type": "stream",
          "text": [
            "The user sgilmore is approved to access the system.\n",
            "4n482ts is the assigned device for sgilmore\n"
          ]
        }
      ],
      "execution_count": 1
    },
    {
      "cell_type": "markdown",
      "source": "#### **Question 8**\n**What do you observe from the output when `username` is `\"sgilmore\"` and `device_id` is `\"4n482ts\"`?**\n",
      "metadata": {
        "id": "i9zFgxJvYFnC"
      }
    },
    {
      "cell_type": "markdown",
      "source": "When `username` is `\"sgilmore\"` and `device_id` is `\"4n482ts\"`, the output consists of `The user sgilmore is approved to access the system.` on the first line and `4n482ts is the assigned device for sgilmore` on the second line.\n\nIf `username` wasn't in the `approved_devices` list, the output would be a message that the user is not approved to access the system. \n\nIf `username` was in the `approved_devices` list but `device_id` didn't correspond with `username`, the output would be a message that the user is approved to access the system but the device ID is not assigned to them.",
      "metadata": {
        "id": "bkobSiMfYFnK"
      }
    },
    {
      "cell_type": "markdown",
      "source": "## Task 9\n\nTo complete the algorithm, I developed a function that automated the login process by using some of the code I had written in earlier tasks.\n\nThere are multiple ways to use conditionals to automate login, and I chose to implement a nested conditional for this purpose. The outer conditional handled the case when the `username` was approved and when it was not. The inner conditional, placed inside the first `if` statement, handled the case where the `username` was approved, and it checked whether the `device_id` was correct. If the `device_id` was incorrect, the inner conditional would address that as well.\n\nTo finish the task, I defined a function named `login` that took two parameters: `username` and `device_id`. I then called the function, passing different combinations of usernames and device IDs to test the function's behavior and verify that it correctly handled all cases.\n",
      "metadata": {
        "id": "gNmZaLueDnqM"
      }
    },
    {
      "cell_type": "code",
      "source": "# Assign `approved_users` to a list of approved usernames\n\napproved_users = [\"elarson\", \"bmoreno\", \"sgilmore\", \"eraab\", \"gesparza\"]\n\n# Assign `approved_devices` to a list of device IDs that correspond to the usernames in `approved_users`\n\napproved_devices = [\"8rp2k75\", \"hl0s5o1\", \"4n482ts\", \"a307vir\", \"3rcv4w6\"]\n\n# Define a function named `login` that takes in two parameters, `username` and `device_id`\n\ndef login(username, device_id):\n\n    # If `username` belongs to `approved_users`, \n\n    if username in approved_users:\n\n        # then display \"The user ______ is approved to access the system.\",\n\n        print(\"The user\", username, \"is approved to access the system.\")\n\n        # assign `ind` to the index of `username` in `approved_users`,\n\n        ind = approved_users.index(username)\n\n        # and execute the following conditional\n        # If `device_id` matches the element at the index `ind` in `approved_devices`,\n\n        if device_id == approved_devices[ind]:\n\n          # then display \"______ is the assigned device for ______\" \n\n          print(device_id, \"is the assigned device for\", username)\n\n        # Otherwise,\n\n        else:\n\n          # display \"______ is not their assigned device\"\n\n          print(device_id, \"is not their assigned device.\")\n  \n    # Otherwise (part of the outer conditional and handles the case when `username` does not belong to `approved_users`),\n\n    else:\n\n        # Display \"The user ______ is not approved to access the system.\"\n\n        print(\"The username\", username, \"is not approved to access the system.\")\n\n# Call the function you just defined to experiment with different username and device_id combinations\n\nlogin(\"bmoreno\", \"hl0s5o1\")\nlogin(\"elarson\", \"r2s5r9g\")\nlogin(\"abernard\", \"4n482ts\")\n",
      "metadata": {
        "colab": {
          "base_uri": "https://localhost:8080/"
        },
        "executionInfo": {
          "elapsed": 4,
          "status": "ok",
          "timestamp": 1675446439146,
          "user": {
            "displayName": "Lavanya Vijayan",
            "userId": "09394087000910120547"
          },
          "user_tz": 480
        },
        "id": "j2QZoFpfbJGB",
        "outputId": "056ee3bb-4cba-40d0-ef8a-027fdccdf0d5"
      },
      "outputs": [
        {
          "name": "stdout",
          "output_type": "stream",
          "text": [
            "The user bmoreno is approved to access the system.\n",
            "hl0s5o1 is the assigned device for bmoreno\n",
            "The user elarson is approved to access the system.\n",
            "r2s5r9g is not their assigned device.\n",
            "The username abernard is not approved to access the system.\n"
          ]
        }
      ],
      "execution_count": 9
    },
    {
      "cell_type": "markdown",
      "source": "#### **Question 9**\n**After Python enters the inner conditional, what happens when the `device_id` is correct, and what happens when the `device_id` is incorrect?**\n",
      "metadata": {
        "id": "woVZXLtPZv5i"
      }
    },
    {
      "cell_type": "markdown",
      "source": "The following happens after Python enters the inner conditional:\n\nWhen the `device_id` is correct, the inner `if` condition evaluates to `True`, and a message that the device ID is assigned to the user is displayed.\n\nWhen the `device_id` is incorrect, the inner `if` condition evaluates to `False`, Python enters the `else` case, and a message that the device ID is not the user's designed device is displayed.",
      "metadata": {
        "id": "6OQF1yg7Zv5i"
      }
    },
    {
      "cell_type": "markdown",
      "source": "## Conclusion\n\n**What are your key takeaways from this lab?**",
      "metadata": {
        "id": "ru2ytGBLCh4q"
      }
    },
    {
      "cell_type": "markdown",
      "source": "- Indexing a list is similar to indexing a string. Index values start at `0`. \n- The `.append()` method helps me add new elements to the end of lists.\n- The `.remove()` method helps me remove elements from lists.\n- The `.index()` method can be used on different types of sequences. They can be used not only with strings, but also with lists.\n  - With a list, the `.index()` method allows me to identify the position where a specified element is located in that list.\n- If two lists contain information that correspond to each other in a specific order, I can use indices to pair elements from the lists together.\n- Functions can be used to develop algorithms. When defining a function, I must specify the parameters it takes in and the actions it should execute. ",
      "metadata": {
        "id": "hxh9FImwbcF9"
      }
    }
  ]
}