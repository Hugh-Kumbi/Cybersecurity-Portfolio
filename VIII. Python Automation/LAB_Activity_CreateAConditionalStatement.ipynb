{
  "metadata": {
    "kernelspec": {
      "name": "python",
      "display_name": "Python (Pyodide)",
      "language": "python"
    },
    "language_info": {
      "codemirror_mode": {
        "name": "python",
        "version": 3
      },
      "file_extension": ".py",
      "mimetype": "text/x-python",
      "name": "python",
      "nbconvert_exporter": "python",
      "pygments_lexer": "ipython3",
      "version": "3.8"
    },
    "colab": {
      "provenance": [
        {
          "file_id": "1KtE2DAbz5pj_IP34uE9K5nils1RUHVKg",
          "timestamp": 1667953394971
        }
      ]
    }
  },
  "nbformat_minor": 5,
  "nbformat": 4,
  "cells": [
    {
      "id": "4de45643-c529-4f57-aa20-c7dace4a8d94",
      "cell_type": "markdown",
      "source": "# 1.2 Creating a Conditional Statement",
      "metadata": {
        "id": "f7c0d886"
      }
    },
    {
      "id": "013ab80a-836a-495f-963c-0cc2ffa47de7",
      "cell_type": "markdown",
      "source": "## Proposed Resolution",
      "metadata": {
        "id": "0c066c48"
      }
    },
    {
      "id": "2160818b-8087-4628-b0c9-f3a8e184559d",
      "cell_type": "markdown",
      "source": "## Task 1\nI was tasked with automating the process of checking whether a user's operating system requires an update. A user's device can be running one of the following operating systems: `OS 1`, `OS 2`, or `OS 3`. While `OS 2` is up-to-date, `OS 1` and `OS 3` are not.\n\nTo complete this task, I used a conditional statement with the `if` keyword to check whether the user's system is up-to-date. If the system is up-to-date, I displayed an appropriate message.",
      "metadata": {
        "id": "dddf9066"
      }
    },
    {
      "id": "5b1b8d1b-c60b-4bf9-ab7a-77caeb3611ee",
      "cell_type": "code",
      "source": "# Assign a variable named `system` to a specific operating system, represented as a string\n# This variable indicates which operating system is running\n# Feel free to run this cell multiple times; each time try assigning `system` to different values (\"OS 1\", \"OS 2\", \"OS 3\") and observe the result\n\nsystem = \"OS 2\"\n\n# If OS 2 is running, then display a \"no update needed\" message\n\nif system == \"OS 2\":\n    print(\"no update needed\")\n    ",
      "metadata": {
        "id": "ecf76d07"
      },
      "outputs": [
        {
          "name": "stdout",
          "output_type": "stream",
          "text": [
            "no update needed\n"
          ]
        }
      ],
      "execution_count": 2
    },
    {
      "id": "4db1541b-550d-4105-a086-49b26460fa77",
      "cell_type": "markdown",
      "source": "## Task 2\nI assigned the `system` variable to different values (`\"OS 1\"`, `\"OS 2\"`, and `\"OS 3\"`) and ran the cell to observe what happens. I kept the conditional statement as is and checked the output for each value of `system`.",
      "metadata": {
        "id": "64d3dfd5"
      }
    },
    {
      "id": "7f0fd384-6e60-4073-8191-0bf3e19d6b4f",
      "cell_type": "code",
      "source": "# Assign `system` to a specific operating system\n# This variable represents which operating system is running\n# Feel free to run this cell multiple times; each time try assigning `system` to different values (\"OS 1\", \"OS 2\", \"OS 3\") and observe the result\n\nsystem = \"OS 1\"\n\n# If OS 2 is running, then display a \"no update needed\" message\n\nif system == \"OS 2\":\n    print(\"no update needed\")\n    ",
      "metadata": {
        "id": "04268ef8"
      },
      "outputs": [],
      "execution_count": 7
    },
    {
      "id": "49c1e530-f07a-43ad-8a15-c781424c6400",
      "cell_type": "markdown",
      "source": "#### **Question 1**\n**What happens when OS 2 is running? What happens when OS 1 is running?**",
      "metadata": {
        "id": "91a9fa19"
      }
    },
    {
      "id": "2c959014-ef63-49ff-8abb-3c788ca9129e",
      "cell_type": "markdown",
      "source": "When `OS 2` is running, \"no update needed\" is displayed. When `OS 1` is running, nothing is displayed. The print statement above is only executed when the condition `system == \"OS 2\"` evaluates to `True`.",
      "metadata": {
        "id": "1f7b136c"
      }
    },
    {
      "id": "94099e6b-94bc-4e51-887a-0fb0fa4a9fdb",
      "cell_type": "markdown",
      "source": "## Task 3\n\nI noticed that nothing is displayed when the system is not equal to `\"OS 2\"` because the condition didn’t evaluate to `True`. It would be helpful to provide an alternative message to indicate when \"updates are needed\".\n\nIn the following cell, I added the appropriate keyword after the first conditional to display a message when the system is not running `\"OS 2\"`, indicating that an update is needed.\n\nI then set the value of the system variable to indicate that `\"OS 2\"` is running and ran the cell to observe what happens. After that, I set the value of system to indicate that either `\"OS 1\"` or `\"OS 3\"` is running and ran the cell again to check the output.",
      "metadata": {
        "id": "5cb83fb8"
      }
    },
    {
      "id": "17daf98c-3ffd-457e-9539-0ad424947377",
      "cell_type": "code",
      "source": "# Assign `system` to a specific operating system\n# This variable represents which operating system is running\n\nsystem = \"OS 1\"\n\n# If OS 2 is running, then display a \"no update needed\" message\n# Otherwise, display a \"update needed\" message\n\nif system == \"OS 2\":\n    print(\"no update needed\")\nelse:\n    print(\"update needed\")\n    ",
      "metadata": {
        "id": "e837a2e5"
      },
      "outputs": [
        {
          "name": "stdout",
          "output_type": "stream",
          "text": [
            "update needed\n"
          ]
        }
      ],
      "execution_count": 12
    },
    {
      "id": "5ed18ab4-efec-4ae6-adc5-12e7324f25cc",
      "cell_type": "markdown",
      "source": "#### **Question 2**\n**In this setup what happens when OS 2 is running? And what happens when OS 2 is not running?**",
      "metadata": {
        "id": "94d7173f"
      }
    },
    {
      "id": "70409f99-57e0-4f8f-8496-5217ca06ab7e",
      "cell_type": "markdown",
      "source": "In this setup when `\"OS 2\"` is running the output reads \"no update needed\". On the other hand when `\"OS 2`\" is not running the output runs \"update needed.\"",
      "metadata": {
        "id": "35cebec3"
      }
    },
    {
      "id": "7c9babd4-2672-47e4-8a89-9689b5e1762b",
      "cell_type": "markdown",
      "source": "## Task 4\n\nI noticed that the current setup isn’t ideal because if the `system` variable contains a random string or integer, the conditional would still display \"update needed.\" To improve this, I added the `elif` keyword to refine the conditional.\n\nIn the following cell, I added two `elif` statements after the `if` statement to complete the final code. The first `elif` statement checks if `system` is `\"OS 1\"` and displays \"update needed\" if it is. The second `elif` statement does the same for `\"OS 3\"`. I completed the second `elif` statement and ran the cell with the `system` variable set to different strings each time.\n\nI observed the output when each operating system was running and also tried assigning the system variable to strings other than `\"OS 1\"`, `\"OS 2\"`, and `\"OS 3\"`, such as `\"OS 4\"`, to see how the conditional behaved.",
      "metadata": {
        "id": "5dc33cf4"
      }
    },
    {
      "id": "61f13fc0-2c51-410d-bb3c-4eae5ab82f59",
      "cell_type": "code",
      "source": "# Assign `system` to a specific operating system\n# This variable represents which operating system is running\n\nsystem = \"OS 2\"\n\n# If OS 2 is running, then display a \"no update needed\" message\n# Otherwise if OS 1 is running, display a \"update needed\" message\n# Otherwise if OS 3 is running, display a \"update needed\" message\n\nif system == \"OS 2\":\n    print(\"no update needed\")\nelif system == \"OS 1\":\n    print(\"update needed\")\nelif system == \"OS 3\":\n    print(\"update needed\")\n    ",
      "metadata": {
        "id": "fdd233bd"
      },
      "outputs": [
        {
          "name": "stdout",
          "output_type": "stream",
          "text": [
            "no update needed\n"
          ]
        }
      ],
      "execution_count": 21
    },
    {
      "id": "026c31a7-5d20-42a3-8094-d07b92a3601a",
      "cell_type": "markdown",
      "source": "#### **Question 3**\n**Under this setup what happens when OS 2 is running? What happens when OS 1 is running? What happens when OS 3 is running? What happens when neither of those three operating systems are running?**",
      "metadata": {
        "id": "ffe34587"
      }
    },
    {
      "id": "1b7f7858-9f76-4922-a88b-dc0dbcbf7738",
      "cell_type": "markdown",
      "source": "In this setup when OS 2 is running the output reads \"no update needed\". On the other hand when OS 2 is not running the output runs \"update needed.\" When neither of those three operating systems are running, nothing is displayed.",
      "metadata": {
        "id": "8f2a5fa7"
      }
    },
    {
      "id": "17d932ff-b848-45c9-9df4-608e43f8989d",
      "cell_type": "markdown",
      "source": "## Task 5\nWriting code that is both readable and concise is a best practice in programming. To make the conditional more concise, I combined the two `elif` statements from the previous setup into one using a logical operator.\n\nIn the following cell, I used the logical operator to check if the `system` is either `\"OS 1\"` or `\"OS 3\"` in one `elif` statement. Then, I assigned the system variable to a value and ran the cell. As I did in the previous task, I tested it with `\"OS 1\"`, `\"OS 2\"`, `\"OS 3\"`, and other strings to observe the output.",
      "metadata": {
        "id": "406daa6d"
      }
    },
    {
      "id": "7dd4f7a5-324f-4e18-8c25-3612f2a0238e",
      "cell_type": "code",
      "source": "# Assign `system` to a specific operating system\n# This variable represents which operating system is running\n\nsystem = \"OS 2\"\n\n# If OS 2 is running, then display a \"no update needed\" message\n# Otherwise if either OS 1 or OS 3 is running, display a \"update needed\" message\n\nif system == \"OS 2\":\n    print(\"no update needed\")\nelif system == \"OS 1\" or system == \"OS 3\":\n    print(\"update needed\")\n    ",
      "metadata": {
        "id": "edcd0fe6"
      },
      "outputs": [
        {
          "name": "stdout",
          "output_type": "stream",
          "text": [
            "no update needed\n"
          ]
        }
      ],
      "execution_count": 26
    },
    {
      "id": "886c6171-8b2d-44fb-9fed-5a85a84e4b3d",
      "cell_type": "markdown",
      "source": "#### **Question 4**\n**What do you observe about this conditional?**",
      "metadata": {
        "id": "bf8d3259"
      }
    },
    {
      "id": "63510acb-cac6-4703-ac14-ecf6cd151bee",
      "cell_type": "markdown",
      "source": "This conditional behaves the same way as the previous conditional. The only difference is that the syntax in this conditional is more concise. The use of the `or` operator allows you to combine the two conditions into one `elif` statement, which is more concise than having the two separate `elif` statements that were written previously.",
      "metadata": {
        "id": "b5ee2b89"
      }
    },
    {
      "id": "3add584a-02df-4b21-bf81-d1398545a9ae",
      "cell_type": "markdown",
      "source": "## Task 6\nNow, I’m moving on to the next part of my work. I’ve been asked to investigate login attempts to a specific device. Only approved users should be able to log on to this device.\n\nTo start, I have two authorized users, stored in the variables `approved_user1` and `approved_user2`. My task is to write a conditional statement that compares these variables to a third variable, `username`, which represents the username of a specific user trying to log in.",
      "metadata": {
        "id": "8f119729"
      }
    },
    {
      "id": "a6f75cc0-9035-445f-8799-de35a21dd911",
      "cell_type": "code",
      "source": "# Assign `approved_user1` and `approved_user2` to usernames of approved users\n\napproved_user1 = \"elarson\"\napproved_user2 = \"bmoreno\"\n\n# Assign `username` to the username of a specific user trying to log in\n\nusername = \"bmoreno\"\n\n# If the user trying to log in is among the approved users, then display a message that they are approved to access this device\n# Otherwise, display a message that they do not have access to this device\n\nif username == approved_user1 or username == approved_user2:\n    print(\"This user has access to this device.\")\nelse :\n    print(\"This user does not have access to this device.\")\n    ",
      "metadata": {
        "id": "fe43a1fc"
      },
      "outputs": [
        {
          "name": "stdout",
          "output_type": "stream",
          "text": [
            "This user has access to this device.\n"
          ]
        }
      ],
      "execution_count": 28
    },
    {
      "id": "40209d58-42c4-4572-abf9-a9258f7bc72f",
      "cell_type": "markdown",
      "source": "## Task 7\nThe number of approved users has now expanded to five. Instead of storing each approved user's username individually, I decided to store them in an allow list called `approved_list` for better organization.\n\nTo check whether a specific `username` is in the `approved_list`, I used the `in` operator in Python. This helps me determine whether the `username` is part of the list of approved usernames. For example, `username in approved_list` evaluates to `True` if the `username` is in the `approved_list`.\n\nI completed the code to display the following messages: When the condition evaluates to `True`, the message `\"This user has access to this device.\"` will be displayed. When it evaluates to `False`, the message `\"This user does not have access to this device.\"` will appear.\n\nThen, I ran the cell to observe the behavior. Afterward, I reassigned the `username` variable to a username that is not approved and ran the cell again to see what happens.",
      "metadata": {
        "id": "563f6d9c"
      }
    },
    {
      "id": "e13f5d1f-4e30-4cfe-9795-7c1463350769",
      "cell_type": "code",
      "source": "# Assign `approved_list` to a list of approved usernames\n\napproved_list = [\"elarson\", \"bmoreno\", \"tshah\", \"sgilmore\", \"eraab\"]\n\n# Assign `username` to the username of a specific user trying to log in\n\nusername = \"hchanetsa\"\n\n# If the user trying to log in is among the approved users, then display a message that they are approved to access this device\n# Otherwise, display a message that they do not have access to this device\n\nif username in approved_list:\n    print(\"This user has access to this device\")\nelse :\n    print(\"This user does not have access to this device.\")\n    ",
      "metadata": {
        "id": "ddd374cf"
      },
      "outputs": [
        {
          "name": "stdout",
          "output_type": "stream",
          "text": [
            "This user does not have access to this device.\n"
          ]
        }
      ],
      "execution_count": 35
    },
    {
      "id": "474f8097-0fff-4c64-a41c-13b3e31de78c",
      "cell_type": "markdown",
      "source": "#### **Question 5**\n**What happens when an approved user tries to log in? What happens when an unapproved user tries to log in?**",
      "metadata": {
        "id": "17daa2cf"
      }
    },
    {
      "id": "b67b0491-ae31-44d2-8f61-2cc2b69c1d95",
      "cell_type": "markdown",
      "source": "When an approved user tries to log in, `\"This user has access to this device.\"` is displayed. When an unapproved user tries to log in, `\"This user does not have access to this device.\"` is displayed.",
      "metadata": {
        "id": "dcbb0f5f"
      }
    },
    {
      "id": "8179ce9a-a740-4337-bf91-52af39843c9b",
      "cell_type": "markdown",
      "source": "## Task 8\n\nIn this task, I’ll write another conditional statement that uses the `organization_hours` variable to check if the user logged in during specific organization hours.\n\nThe `organization_hours` variable will have a Boolean data type. If `organization_hours` is `True`, that means the user logged in during the specified organization hours. If it’s `False`, the user logged in outside of those hours.\n\nThe goal is to complete the conditional statement so that:\n\n* If `organization_hours` is `True`, the code displays `\"Login attempt made during organization hours.\"`\n* If `organization_hours` is `False`, the code displays `\"Login attempt made outside of organization hours.\"`\n\nI’ll complete the conditional in the following cell.",
      "metadata": {
        "id": "ff35f9ec"
      }
    },
    {
      "id": "26f3b8a5-f3a1-45f4-b080-5823f4eeadfd",
      "cell_type": "code",
      "source": "# Assign `organization_hours` to a Boolean value that represents whether the user is trying to log in during organization hours\n\norganization_hours = True\n\n# If the entered `organization_hours` has a value of True, then display \"Login attempt made during organization hours.\"\n# Otherwise, display \"Login attempt made outside of organization hours.\"\n\nif organization_hours == False:\n   print(\"Login attempt made during organization hours\")\nelse :\n    print(\"Login attempt made outside organization hours.\")\n\n    ",
      "metadata": {
        "id": "4e8974a8"
      },
      "outputs": [
        {
          "name": "stdout",
          "output_type": "stream",
          "text": [
            "Login attempt made outside organization hours.\n"
          ]
        }
      ],
      "execution_count": 47
    },
    {
      "id": "2c646165-eccf-40cb-83be-fe90a81f1b23",
      "cell_type": "markdown",
      "source": "#### **Question 6**\n**What happens when the user logs in during organization hours? What happens when they log in outside of organization hours?**",
      "metadata": {
        "id": "06044a44"
      }
    },
    {
      "id": "f7e3a0fa-69b6-4234-94c2-9ec10f5e91fe",
      "cell_type": "markdown",
      "source": "When the user logs in during organization hours, the condition in the `if` statement evaluates to `True`, and a message about login attempt during organization hours is displayed. When the user logs in outside of organization hours, the condition in the `if` statement evaluates to `False`. This means the else statement is executed, and a message about login attempt outside of organization hours is displayed.",
      "metadata": {
        "id": "54a052de"
      }
    },
    {
      "id": "0bea8b88-08dc-426f-aa6f-272687e727bb",
      "cell_type": "markdown",
      "source": "## Task 9\nThe following cell assembles the code from the previous tasks. It includes the conditional statement that checks if a user is on the allow list and the conditional statement that checks if the user logged in during organization hours.\n\nI’ll run the cell a few times, each time entering a different combination of values for `username` and `organization_hours` to observe how those values affect the output.",
      "metadata": {
        "id": "af03a37c-7452-4fbb-b72f-ee355a1537b1"
      }
    },
    {
      "id": "7f9d466c-fc84-4663-9156-6cdc9f6270a2",
      "cell_type": "code",
      "source": "# Assign `approved_list` to a list of approved usernames\n\napproved_list = [\"elarson\", \"bmoreno\", \"tshah\", \"sgilmore\", \"eraab\"]\n\n# Assign `username` to the username of a specific user trying to log in\n\nusername = \"hchanetsa\"\n\n# If the user trying to log in is among the approved users, then display a message that they are approved to access this device\n# Otherwise, display a message that they do not have access to this device\n\nif username in approved_list:\n    print(\"This user has access to this device.\")\n\nelse:\n    print(\"This user does not have access to this device.\")\n\n# Assign `organization_hours` to a Boolean value that represents whether the user is trying to log in during organization hours\n\norganization_hours = True\n\n# If the entered `organization_hours` has a value of True, then display \"Login attempt made during organization hours.\"\n# Otherwise, display \"Login attempt made outside of organization hours.\"\n\nif organization_hours == False:\n    print(\"Login attempt made during organization hours.\")\nelse:\n    print(\"Login attempt made outside of organization hours.\")\n    ",
      "metadata": {
        "id": "29c7c915"
      },
      "outputs": [
        {
          "name": "stdout",
          "output_type": "stream",
          "text": [
            "This user does not have access to this device.\n",
            "Login attempt made outside of organization hours.\n"
          ]
        }
      ],
      "execution_count": 50
    },
    {
      "id": "e27a67d4-ae4d-4f76-9828-6f6eced553b8",
      "cell_type": "markdown",
      "source": "#### **Question 7**\n**What happens when the user trying to log in is not among the approved users? What happens when the user trying to log in is among the approved users? What happens when the user tries to log in outside of organization hours?**",
      "metadata": {
        "id": "bdd488dc"
      }
    },
    {
      "id": "a8fa74c1-0fa6-42c8-9623-8b8c81f154ea",
      "cell_type": "markdown",
      "source": "When the user trying to log in is not among the approved users, a message is displayed about the user not having access to the device. The code then goes on to check whether the user attempted to log in during organization hours.\nWhen the user trying to log in is among the approved users, a message is displayed about the user having access to the device and then the code checks whether they attempted to log in during organization hours. When the user trying to log in is doing so outside of organization hours, a message is displayed about login attempt outside of organization hours.",
      "metadata": {
        "id": "26ba310f"
      }
    },
    {
      "id": "f4d8743a-a382-4c4b-880b-20824d71c2ce",
      "cell_type": "markdown",
      "source": "## Task 10\nI can provide a single message about the login attempt by combining both conditions into a single conditional statement using a logical operator. This will make the code more concise.\n\nIn the following cell, I’ll examine the code and add the missing operator that will allow for a single message. Then, I’ll run the cell, entering different combinations of information for `username` and `organization_hours` to observe the output.",
      "metadata": {
        "id": "2de9d7a0"
      }
    },
    {
      "id": "45961aaa-e9b1-4ed8-84ea-042de155a6c9",
      "cell_type": "code",
      "source": "# Assign `approved_list` to a list of approved usernames\n\napproved_list = [\"elarson\", \"bmoreno\", \"tshah\", \"sgilmore\", \"eraab\"]\n\n# Assign `username` to the username of a specific user trying to log in\n\nusername = \"hchanetsa\"\n\n# Assign `organization_hours` to a Boolean value that represents whether the user is trying to log in during organization hours\n\norganization_hours = True\n\n# If the user is among the approved users and they are logging in during organization hours, then convey that the user is logged in\n# Otherwise, convey that either the username is not approved or the login attempt was made outside of organization hours\n\nif username in approved_list and organization_hours == True:\n    print(\"Login attempt made by an approved user during organization hours.\")\nelse:\n    print(\"Username not approved or login attempt made outside of organization hours.\")\n",
      "metadata": {
        "id": "3983355f"
      },
      "outputs": [
        {
          "name": "stdout",
          "output_type": "stream",
          "text": [
            "Username not approved or login attempt made outside of organization hours.\n"
          ]
        }
      ],
      "execution_count": 53
    },
    {
      "id": "f4e1c2f9-3bfe-482d-9688-b2d45c979594",
      "cell_type": "markdown",
      "source": "#### **Question 8**\n**In this setup, what happens when the user trying to log in is an approved user and doing so during organization hours? What happens when the user either is not approved or attempts to log in outside of organization hours?**",
      "metadata": {
        "id": "7dd439a9"
      }
    },
    {
      "id": "6867daa2-55b0-4851-b71f-6c63cffcbb86",
      "cell_type": "markdown",
      "source": "In this setup, when the user trying to log in is an approved user and doing so during organization hours, the output reads `\"Login attempt made by an approved user during organization hours.\"` When the user is not approved the output reads `\"Username not approved or login attempt made outside of organization hours.\"` The same applies when the user is approved but they logged in outside of office hours. However, it joins them into one if statement, and both username and organization_hours are investigated before a single message is displayed.\n",
      "metadata": {
        "id": "fd8f8d2b"
      }
    },
    {
      "id": "7ad3439d-2a10-44b8-b26b-aaf170b72258",
      "cell_type": "markdown",
      "source": "## Conclusion\n**What are your key takeaways from this lab?**\n\nConditional statements, comparison operators, and logical operators play a major role in automating important processes to maintain security, such as detecting when a user’s operating system requires updates and detecting when a user is allowed to access a device. \n* Conditional statements allow you to determine whether a specific set of conditions has been met.\n* Comparison operators allow you to compare pairs of values. Specifically, the `==` operator allows you to determine whether one value is equal to another.\n* Logical operators such as and and or allow you to check more than one condition at a time.",
      "metadata": {
        "id": "d47250b6"
      }
    }
  ]
}