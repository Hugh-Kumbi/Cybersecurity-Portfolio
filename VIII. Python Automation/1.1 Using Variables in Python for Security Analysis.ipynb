{
 "cells": [
  {
   "cell_type": "markdown",
   "metadata": {
    "id": "ISr45HAPh1Xq"
   },
   "source": [
    "# Using Variables in Python for Security Analysis"
   ]
  },
  {
   "cell_type": "markdown",
   "metadata": {
    "id": "A8q3M1L7isIj"
   },
   "source": [
    "## Proposed Resolution\n"
   ]
  },
  {
   "cell_type": "markdown",
   "metadata": {
    "id": "4XkIkgiQpk34",
    "tags": []
    },
   "source": [
    "## Task 1\n",
    "\n",
    "In my work as an analyst, I was tasked with managing access to a device, ensuring that only users on an allow list can access it. The device's ID is `72e08x0`.\n",
    "I assigned this value to a variable named `device_id` and then displayed the contents of the variable to observe the output."
  ]
  },
  {
   "cell_type": "code",
   "execution_count": 1,
   "metadata": {
    "id": "zAVwov6JJQS7"
   },
   "outputs": [
    {
     "name": "stdout",
     "output_type": "stream",
     "text": [
      "72e08x0\n"
     ]
    }
   ],
   "source": [
    "# Assign the `device_id` variable to the device ID that only specified users can access\n",
    "\n",
    "device_id = \"72e08x0\"\n",
    "\n",
    "# Display `device_id`\n",
    "\n",
    "print(device_id)\n"
   ]
  },
  {
   "cell_type": "markdown",
   "metadata": {
    "id": "Xky9BjthiYqm"
  },
   "source": [
    "## Task 2\n",
    "In this task, I used a Python function to find the data type of the variable `device_id`. I stored the data type in another variable called `device_id_type` and then displayed `device_id_type` to examine the output."
   ]
  },
  {
   "cell_type": "code",
   "execution_count": 3,
   "metadata": {
    "id": "9w0g21J7i01H",
    "scrolled": true
   },
   "outputs": [
    {
     "name": "stdout",
     "output_type": "stream",
     "text": [
      "<class 'str'>\n"
     ]
    }
   ],
   "source": [
    "# Assign the `device_id` variable to the device ID that only specified users can access\n",
    "\n",
    "device_id = \"72e08x0\"\n",
    "\n",
    "# Assign `device_id_type` to the data type of `device_id`\n",
    "\n",
    "device_id_type = type(device_id)\n",
    "\n",
    "# Display `device_id_type`\n",
    "\n",
    "print(device_id_type)\n",
    "    "
   ]
  },
  {
   "cell_type": "markdown",
   "metadata": {
    "id": "g_03rNzrd8F0"
   },
   "source": [
    "#### **Question 1**\n",
    "**Based on the output above, what do you observe about the data type of `device_id`?**"
   ]
  },
  {
   "cell_type": "markdown",
   "metadata": {
    "id": "yxv9ICX_egCB"
   },
   "source": [
    "Based on the output the data type device_id is of the class string."
   ]
  },
  {
   "cell_type": "markdown",
   "metadata": {
    "id": "QP05AxAwi_vL"
    },
   "source": [
    "## Task 3\n",
    "Xxxxxxx."
   ]
  },
  {
   "cell_type": "code",
   "execution_count": 6,
   "metadata": {
    "id": "cgmlPvWLkBEM"
   },
   "outputs": [
    {
     "name": "stdout",
     "output_type": "stream",
     "text": [
      "['madebowa', 'jnguyen', 'tbecker', 'nhersh', 'redwards']\n"
     ]
    }
   ],
   "source": [
    "# Assign `username_list` to the list of usernames who are allowed to access the device\n",
    "\n",
    "username_list = [\"madebowa\", \"jnguyen\", \"tbecker\", \"nhersh\", \"redwards\"]\n",
    "\n",
    "# Display `username_list`\n",
    "\n",
    "print(username_list)\n"
   ]
  },
  {
   "cell_type": "markdown",
   "metadata": {
    "id": "89fOQheQ076R"
   },
   "source": [
    "## Task 4\n",
    "Xxxxxxx."
   ]
  },
  {
   "cell_type": "code",
   "execution_count": 7,
   "metadata": {
    "id": "Yzpvr9WJ1Pi8"
   },
   "outputs": [
    {
     "name": "stdout",
     "output_type": "stream",
     "text": [
      "<class 'list'>\n"
     ]
    }
   ],
   "source": [
    "# Assign `username_list` to the list of usernames who are allowed to access the device\n",
    "\n",
    "username_list = [\"madebowa\", \"jnguyen\", \"tbecker\", \"nhersh\", \"redwards\"]\n",
    "\n",
    "# Assign `username_list_type` to the data type of `username_list`\n",
    "\n",
    "username_list_type = type(username_list)\n",
    "\n",
    "# Display `username_list_type`\n",
    "\n",
    "print(username_list_type)\n"
   ]
  },
  {
   "cell_type": "markdown",
   "metadata": {
    "id": "2Q916P--eiMt"
   },
   "source": [
    "#### **Question 2**\n",
    "**Based on the output above, what do you observe about the data type of `username_list`?**"
   ]
  },
  {
   "cell_type": "markdown",
   "metadata": {
    "id": "a__dHuhGeiMt"
   },
   "source": [
    "Based on the output the data type of the username_list is of the class list."
   ]
  },
  {
   "cell_type": "markdown",
   "metadata": {
    "id": "cvV_L70okWNI"
   },
   "source": [
    "## Task 5\n",
    "In this task, I reassigned the variable `username_list` to the new list. I then ran the code to display the list before and after it was updated to observe the difference."
   ]
  },
  {
   "cell_type": "code",
   "execution_count": 8,
   "metadata": {
    "id": "fLt9BzUFkXmG"
   },
   "outputs": [
    {
     "name": "stdout",
     "output_type": "stream",
     "text": [
      "['madebowa', 'jnguyen', 'tbecker', 'nhersh', 'redwards']\n",
      "['madebowa', 'jnguyen', 'tbecker', 'nhersh', 'redwards', 'lpope']\n"
     ]
    }
   ],
   "source": [
    "# Assign `username_list` to the list of usernames who are allowed to access the device\n",
    "\n",
    "username_list = [\"madebowa\", \"jnguyen\", \"tbecker\", \"nhersh\", \"redwards\"]\n",
    "\n",
    "# Display `username_list`\n",
    "\n",
    "print(username_list)\n",
    "\n",
    "# Assign `username_list` to the updated list of usernames who are allowed to access the device\n",
    "\n",
    "username_list = [\"madebowa\", \"jnguyen\", \"tbecker\", \"nhersh\", \"redwards\", \"lpope\"]\n",
    "\n",
    "# Display `username_list`\n",
    "\n",
    "print(username_list)\n"
   ]
  },
  {
   "cell_type": "markdown",
   "metadata": {
    "id": "JvpvqtW6g-QT"
   },
   "source": [
    "#### **Question 3**\n",
    "**Based on the output above, what do you observe about the contents of `username_list`?**"
   ]
  },
  {
   "cell_type": "markdown",
   "metadata": {
    "id": "OavH92wXg-QU"
   },
   "source": [
    "Based on the output above, it is noticeable that the additional employee has been added to the variable user_namelist."
   ]
  },
  {
   "cell_type": "markdown",
   "metadata": {
    "id": "iYDV65CclQlc"
   },
   "source": [
    "## Task 6\n",
    "In this task, I defined a variable called `max_logins` which represents the maximum number of login attempts allowed per user. I then stored the value `3` in this variable. After that, I stored its data type in another variable called `max_logins_type`. Finally, I displayed `max_logins_type` to examine the output."
   ]
  },
  {
   "cell_type": "code",
   "execution_count": 1,
   "metadata": {
    "id": "rrmY4XeNx_d7"
   },
   "outputs": [
    {
     "name": "stdout",
     "output_type": "stream",
     "text": [
      "<class 'int'>\n"
     ]
    }
   ],
   "source": [
    "# Assign `max_logins` to the value 3\n",
    "\n",
    "max_logins = 3\n",
    "\n",
    "# Assign `max_logins_type` to the data type of `max_logins`\n",
    "\n",
    "max_logins_type = type(max_logins)\n",
    "\n",
    "# Display `max_logins_type`\n",
    "\n",
    "print(max_logins_type)\n"
   ]
  },
  {
   "cell_type": "markdown",
   "metadata": {
    "id": "Bl35H3myh4xZ"
   },
   "source": [
    "#### **Question 4**\n",
    "**Based on the output above, what do you observe about the data type of `max_logins`?**"
   ]
  },
  {
   "cell_type": "markdown",
   "metadata": {
    "id": "MCTU3HsXh4xi"
   },
   "source": [
    "Based on the output the data type of the max_logins is of the class integer."
   ]
  },
  {
   "cell_type": "markdown",
   "metadata": {
    "id": "85o9hfJmyH3W"
   },
   "source": [
    "## Task 7\n",
    "In this task, I defined a variable called `login_attempts` which represents the current number of login attempts made by a user. I then stored the value `2` in this variable. After that, I stored its data type in a variable called `login_attempts_type`. Finally I displayed `login_attempts_type` to observe the output."
   ]
  },
  {
   "cell_type": "code",
   "execution_count": 2,
   "metadata": {
    "id": "-3YDmrBWzOFc"
   },
   "outputs": [
    {
     "name": "stdout",
     "output_type": "stream",
     "text": [
      "<class 'int'>\n"
     ]
    }
   ],
   "source": [
    "# Assign `login_attempts` to the value 2\n",
    "\n",
    "login_attempts = 2\n",
    "\n",
    "# Assign `login_attempts_type` to the data type of `login_attempts`\n",
    "\n",
    "login_attempts_type = type(login_attempts)\n",
    "\n",
    "# Display `login_attempts_type`\n",
    "\n",
    "print (login_attempts_type)\n"
   ]
  },
  {
   "cell_type": "markdown",
   "metadata": {
    "id": "sFSn1Xvuj0a8"
   },
   "source": [
    "#### **Question 5**\n",
    "**Based on the output above, what do you observe about the data type of `login_attempts`?**"
   ]
  },
  {
   "cell_type": "markdown",
   "metadata": {
    "id": "XomtDQZ2j0a9"
   },
   "source": [
    "Based on the output the data type of the login_attempts is of the class integer."
   ]
  },
  {
   "cell_type": "markdown",
   "metadata": {
    "id": "JKNwC4lKzWW6"
   },
   "source": [
    "## Task 8\n",
    "In this task, I determined the Boolean value that represents whether the current number of login attempts a user has made is less than or equal to the maximum number of login attempts allowed.\n"
   ]
  },
  {
   "cell_type": "code",
   "execution_count": 3,
   "metadata": {
    "id": "2mwU0rO40CSU"
   },
   "outputs": [
    {
     "name": "stdout",
     "output_type": "stream",
     "text": [
      "False\n"
     ]
    }
   ],
   "source": [
    "# Assign `max_logins` to the value 3\n",
    "\n",
    "max_logins = 3\n",
    "\n",
    "# Assign `login_attempts` to the value 2\n",
    "\n",
    "login_attempts = 2\n",
    "\n",
    "# Determine whether the current number of login attempts a user has made is less than or equal to the maximum number of login attempts allowed,\n",
    "# and display the resulting Boolean value\n",
    "\n",
    "print(max_logins <= login_attempts)\n",
    "    "
   ]
  },
  {
   "cell_type": "markdown",
   "metadata": {
    "id": "RS9AaPuVklz0"
   },
   "source": [
    "#### **Question 6**\n",
    "**What is the output? What does this mean?**"
   ]
  },
  {
   "cell_type": "markdown",
   "metadata": {
    "id": "hzye4hciklz0"
   },
   "source": [
    "Based on the output above, it is clear that the login_attempts are not greater nor equal to max_logins."
   ]
  },
  {
   "cell_type": "markdown",
   "metadata": {
    "id": "rjxdlE170I70"
   },
   "source": [
    "## Task 9\n",
    "The code continues to check for the Boolean value of whether `max_logins` is less than or equal to `login_attempts`. In this task, I reassigned other values to `login_attempts`. In this example, I chose a value that is higher than the maximum number of attempts allowed."
   ]
  },
  {
   "cell_type": "code",
   "execution_count": 4,
   "metadata": {
    "id": "uIdS23Qr0NG9"
   },
   "outputs": [
    {
     "name": "stdout",
     "output_type": "stream",
     "text": [
      "False\n"
     ]
    }
   ],
   "source": [
    "# Assign `max_logins` to the value 3\n",
    "\n",
    "max_logins = 3\n",
    "\n",
    "# Assign `login_attempts` to a specific value\n",
    "\n",
    "login_attempts = 6\n",
    "\n",
    "# Determine whether the current number of login attempts a user has made is less than or equal to the maximum number of login attempts allowed,\n",
    "# and display the resulting Boolean value\n",
    "\n",
    "print(login_attempts <= max_logins)\n"
   ]
  },
  {
   "cell_type": "markdown",
   "metadata": {
    "id": "MbJ5mMuPmLZF"
   },
   "source": [
    "#### **Question 7**\n",
    "**Based on the different values you assigned to `login_attempts`, what did you observe about the output?**"
   ]
  },
  {
   "cell_type": "markdown",
   "metadata": {
    "id": "LPl0u_jOmLZF"
   },
   "source": [
    "Based on the output above, it is clear that the login_attempts are greater to max_logins."
   ]
  },
  {
   "cell_type": "markdown",
   "metadata": {
    "id": "toglOMvH0bx4"
   },
   "source": [
    "## Task 10\n",
    "Finally, I also assigned a Boolean value of `True` or `False` to a variable.\n",
    "\n",
    "In this task, I created a variable called `login_status`, which is a Boolean that represents whether a user is logged in. I then assigned `False` to this variable and stored its data type in a variable called `login_status_type` and displayed it."
   ]
  },
  {
   "cell_type": "code",
   "execution_count": 5,
   "metadata": {
    "id": "BwjxdmYc1sDY"
   },
   "outputs": [
    {
     "name": "stdout",
     "output_type": "stream",
     "text": [
      "<class 'bool'>\n"
     ]
    }
   ],
   "source": [
    "# Assign `login_status` to the Boolean value False\n",
    "\n",
    "login_status = False\n",
    "\n",
    "# Assign `login_status_type` to the data type of `login_status`\n",
    "\n",
    "login_status_type = type(login_status)\n",
    "\n",
    "# Display `login_status_type`\n",
    "\n",
    "print(login_status_type)\n"
   ]
  },
  {
   "cell_type": "markdown",
   "metadata": {
    "id": "EpuzbcA0rkiS"
   },
   "source": [
    "#### **Question 8**\n",
    "**Based on the output above, what do you observe about the data type of `login_status`?**"
   ]
  },
  {
   "cell_type": "markdown",
   "metadata": {
    "id": "AZAqQKoFrkiS"
   },
   "source": [
    "Based on the output the data type of the max_logins is of the class boolean."
   ]
  },
  {
   "cell_type": "markdown",
   "metadata": {
    "id": "ru2ytGBLCh4q"
   },
   "source": [
    "## Conclusion\n",
    "\n",
    "**What are your key takeaways from this lab?**"
   ]
  },
  {
   "cell_type": "markdown",
   "metadata": {
    "id": "ls2WEGqsiSAd"
   },
   "source": [
    "Through the use of python we can create variables to keep track of information relevant to the login process. \n",
    "This information which can be used to make variables includes the device ID, list of approved usernames, maximum login attempts allowed per user, current login attempts made by a user, and login status.\n",
    "It is also possible to identify data types and the values assigned to the variables. \n",
    "In addition to that we can also assign variables to other variables."
   ]
  }
 ],
 "metadata": {
  "colab": {
   "collapsed_sections": [
    "JvpvqtW6g-QT",
    "Bl35H3myh4xZ",
    "sFSn1Xvuj0a8",
    "RS9AaPuVklz0",
    "MbJ5mMuPmLZF",
    "EpuzbcA0rkiS"
   ],
   "provenance": []
  },
  "kernelspec": {
   "display_name": "Python 3",
   "language": "python",
   "name": "python3"
  },
  "language_info": {
   "codemirror_mode": {
    "name": "ipython",
    "version": 3
   },
   "file_extension": ".py",
   "mimetype": "text/x-python",
   "name": "python",
   "nbconvert_exporter": "python",
   "pygments_lexer": "ipython3",
   "version": "3.7.6"
  }
 },
 "nbformat": 4,
 "nbformat_minor": 1
}
