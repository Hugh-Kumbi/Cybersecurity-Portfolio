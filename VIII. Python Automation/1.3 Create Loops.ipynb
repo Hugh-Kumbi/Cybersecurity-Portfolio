{
  "metadata": {
    "kernelspec": {
      "name": "python",
      "display_name": "Python (Pyodide)",
      "language": "python"
    },
    "language_info": {
      "codemirror_mode": {
        "name": "python",
        "version": 3
      },
      "file_extension": ".py",
      "mimetype": "text/x-python",
      "name": "python",
      "nbconvert_exporter": "python",
      "pygments_lexer": "ipython3",
      "version": "3.8"
    },
    "colab": {
      "provenance": [],
      "toc_visible": true
    }
  },
  "nbformat_minor": 4,
  "nbformat": 4,
  "cells": [
    {
      "cell_type": "markdown",
      "source": "# Creating loops",
      "metadata": {
        "id": "5e2a85c3-4d7c-43c0-b9dd-ef7af16eb73d"
      }
    },
    {
      "cell_type": "markdown",
      "source": "## Proposed Resolution",
      "metadata": {
        "id": "07edb7a1-c2cb-49cb-94e6-886268e48715"
      }
    },
    {
      "cell_type": "markdown",
      "source": "## Task 1\n\nIn this task, I created a loop related to connecting to a network.\n\nI wrote an iterative statement using the `for` keyword, the `range()` function, and a loop variable `i` to display the message `Connection could not be established` three times. ",
      "metadata": {
        "id": "MnfWH6cesPdt"
      }
    },
    {
      "cell_type": "code",
      "source": "# Iterative statement using `for`, `range()`, and a loop variable of `i`\n# Display \"Connection could not be established.\" three times\n\nfor i in range(3):\n    print(\"Connection could not be established.\")",
      "metadata": {
        "id": "2QfMSg9fz7jP"
      },
      "outputs": [
        {
          "name": "stdout",
          "output_type": "stream",
          "text": [
            "Connection could not be established.\n",
            "Connection could not be established.\n",
            "Connection could not be established.\n"
          ]
        }
      ],
      "execution_count": 1
    },
    {
      "cell_type": "markdown",
      "source": "## Task 2\n\nIn this task, I used the `range()` function with a variable.\n\nTo repeat a specified action a certain number of times, I first assigned an integer value to a variable called `connection_attempts`. Then, I passed that variable into the `range()` function within the `for` loop.\n\nIn my code, which displayed a network message connection, I incorporated the `connection_attempts` variable and tested the code with different values for `connection_attempts` to observe the results.\n",
      "metadata": {
        "id": "SWqXMQVftzoW"
      }
    },
    {
      "cell_type": "code",
      "source": "# Create a variable called `connection_attempts` that stores the number of times the user has tried to connect to the network\n\nconnection_attempts = 3\n\n# Iterative statement using `for`, `range()`, a loop variable of `i`, and `connection_attempts`\n# Display \"Connection could not be established.\" as many times as specified by `connection_attempts`\n\nfor i in range(connection_attempts):\n    print(\"Connection could not be established\")",
      "metadata": {
        "id": "P-f9JSiL3Ocq",
        "trusted": true
      },
      "outputs": [
        {
          "name": "stdout",
          "text": "Connection could not be established\nConnection could not be established\nConnection could not be established\n",
          "output_type": "stream"
        }
      ],
      "execution_count": 7
    },
    {
      "cell_type": "markdown",
      "source": "## Task 3\n\nIn this task, I achieved the same result using a `while` loop.\n\nI completed the `while` loop with the correct code to display `\"Connection could not be established.\"` three times.\n\nI learned that while a `for` loop and a `while` loop can produce similar results, they each follow a different approach. A `for` loop terminates after a specified number of iterations, while a `while` loop continues until it meets a specific condition. In situations where I do not know how many times the specified action should be repeated, I found that a `while` loop is more appropriate.\n",
      "metadata": {
        "id": "W8PtkYFP6Xrd"
      }
    },
    {
      "cell_type": "code",
      "source": "# Assign `connection_attempts` to an initial value of 0, to keep track of how many times the user has tried to connect to the network\n\nconnection_attempts = 0\n\n# Iterative statement using `while` and `connection_attempts`\n# Display \"Connection could not be established.\" every iteration, until connection_attempts reaches a specified number\n\nwhile connection_attempts < 3:\n    print(\"Connection could not be established.\")\n\n    # Update `connection_attempts` (increment it by 1 at the end of each iteration) \n    connection_attempts = connection_attempts + 1\n",
      "metadata": {
        "id": "df3QbPg__hdf"
      },
      "outputs": [
        {
          "name": "stdout",
          "output_type": "stream",
          "text": [
            "Connection could not be established.\n",
            "Connection could not be established.\n",
            "Connection could not be established.\n"
          ]
        }
      ],
      "execution_count": 2
    },
    {
      "cell_type": "markdown",
      "source": "#### **Question 1**\n**What do you observe about the differences between the `for` loop and the `while` loop that you wrote?**",
      "metadata": {
        "id": "eDkg_mydxEQn"
      }
    },
    {
      "cell_type": "markdown",
      "source": "The messages outputted from both loops were identical. The logic is what differed between the two loops. In the `for` loop, the loop variable `i` was automatically defined in the loop header, and it was updated automatically in each iteration. In the `while` loop, the loop variable `connection_attempts` had to be defined before the loop header, and it had to be explicitly updated inside the loop body.\n",
      "metadata": {
        "id": "vs_Qn6FSxj6p"
      }
    },
    {
      "cell_type": "markdown",
      "source": "## Task 4\n\nIn this task, I automated the process of checking whether IP addresses are part of an allow list.\n\nI started with a list of IP addresses from which users had tried to log in, stored in a variable called `ip_addresses`. I then wrote a `for` loop that displayed the elements of this list one at a time, using `i` as the loop variable.\n",
      "metadata": {
        "id": "-mnyNB0W9Ola"
      }
    },
    {
      "cell_type": "code",
      "source": "# Assign `ip_addresses` to a list of IP addresses from which users have tried to log in\n\nip_addresses = [\"192.168.142.245\", \"192.168.109.50\", \"192.168.86.232\", \"192.168.131.147\",\n                \"192.168.205.12\", \"192.168.200.48\"]\n\n# For loop that displays the elements of `ip_addresses` one at a time\n\nfor i in ip_addresses:\n    print(i)\n",
      "metadata": {
        "id": "9GhXxYn1Eho9",
        "trusted": true
      },
      "outputs": [
        {
          "name": "stdout",
          "text": "192.168.142.245\n192.168.109.50\n192.168.86.232\n192.168.131.147\n192.168.205.12\n192.168.200.48\n",
          "output_type": "stream"
        }
      ],
      "execution_count": 6
    },
    {
      "cell_type": "markdown",
      "source": "## Task 5\n\nIn this task, I worked with a list of IP addresses that are allowed to log in, stored in a variable called `allow_list`.\n\nI wrote an `if` statement inside the `for` loop to check each IP address in the list of IP addresses from which users had tried to log in. For each address, I displayed `\"IP address is allowed\"` if the IP was in the `allow_list`, and displayed `\"IP address is not allowed\"` otherwise.\n",
      "metadata": {
        "id": "XVH1oO7wKDnD"
      }
    },
    {
      "cell_type": "code",
      "source": "# Assign `allow_list` to a list of IP addresses that are allowed to log in\n\nallow_list = [\"192.168.243.140\", \"192.168.205.12\", \"192.168.151.162\", \"192.168.178.71\", \n              \"192.168.86.232\", \"192.168.3.24\", \"192.168.170.243\", \"192.168.119.173\"]\n\n# Assign `ip_addresses` to a list of IP addresses from which users have tried to log in\n\nip_addresses = [\"192.168.142.245\", \"192.168.109.50\", \"192.168.86.232\", \"192.168.131.147\",\n                \"192.168.205.12\", \"192.168.200.48\"]\n\n# For each IP address in the list of IP addresses from which users have tried to log in, \n# If it is among the allowed addresses, then display “IP address is allowed”\n# Otherwise, display “IP address is not allowed”\n\nfor i in ip_addresses:\n\tif i in allow_list:\n\t\tprint(\"IP address is allowed\")\n\telse:\n\t\tprint(\"IP address is not allowed\")",
      "metadata": {
        "id": "O9mfnNQ8J6W1"
      },
      "outputs": [
        {
          "name": "stdout",
          "output_type": "stream",
          "text": [
            "IP address is not allowed\n",
            "IP address is not allowed\n",
            "IP address is allowed\n",
            "IP address is not allowed\n",
            "IP address is allowed\n",
            "IP address is not allowed\n"
          ]
        }
      ],
      "execution_count": 6
    },
    {
      "cell_type": "markdown",
      "source": "## Task 6\n\nIn this task, I worked with a list of allowed IP addresses and modified the code to handle restricted access.\n\nI used the break keyword to terminate the loop if an IP address outside the `allow_list` attempted access. When this happened, I expanded the message displayed to the user. Instead of `\"IP address is not allowed\"`, I displayed `\"IP address is not allowed. Further investigation of login activity required\"` to provide more specifics. This ensured that further investigation could take place if suspicious activity was detected.\n",
      "metadata": {
        "id": "ofuRLadDKra6"
      }
    },
    {
      "cell_type": "code",
      "source": "# Assign `allow_list` to a list of IP addresses that are allowed to log in\n\nallow_list = [\"192.168.243.140\", \"192.168.205.12\", \"192.168.151.162\", \"192.168.178.71\", \n              \"192.168.86.232\", \"192.168.3.24\", \"192.168.170.243\", \"192.168.119.173\"]\n\n# Assign `ip_addresses` to a list of IP addresses from which users have tried to log in\n\nip_addresses = [\"192.168.142.245\", \"192.168.109.50\", \"192.168.86.232\", \"192.168.131.147\",\n                \"192.168.205.12\", \"192.168.200.48\"]\n\n# For each IP address in the list of IP addresses from which users have tried to log in, \n# If it is among the allowed addresses, then display “IP address is allowed”\n# Otherwise, display “IP address is not allowed”\n               \nfor i in ip_addresses:\n\tif i in allow_list:\n\t\tprint(\"IP address is allowed\")\n\telse:\n\t\tprint(\"IP address is not allowed. Further investigation of login activity required\")\n\t\tbreak",
      "metadata": {
        "id": "g0yecDwbMUaX"
      },
      "outputs": [
        {
          "name": "stdout",
          "output_type": "stream",
          "text": [
            "IP address is not allowed. Further investigation of login activity required\n"
          ]
        }
      ],
      "execution_count": 9
    },
    {
      "cell_type": "markdown",
      "source": "## Task 7\n\nIn this task, I automated the creation of new employee IDs for the Sales department.\n\nThe criteria for the employee IDs were that they should be numbers that are unique, divisible by 5, and fall between 5000 and 5150 (inclusive). I wrote a `while` loop that generated the employee IDs by iterating through numbers and displayed each ID created.\n",
      "metadata": {
        "id": "ESKyCxglOUy7"
      }
    },
    {
      "cell_type": "code",
      "source": "# Assign the loop variable `i` to an initial value of 5000\n\ni = 5000\n\n# While loop that generates unique employee IDs for the Sales department by iterating through numbers\n# and displays each ID created\n\nwhile i <= 5150: \n    print(i)\n    i = i + 5",
      "metadata": {
        "id": "qgG9nD4BRf78",
        "trusted": true
      },
      "outputs": [
        {
          "name": "stdout",
          "text": "5000\n5005\n5010\n5015\n5020\n5025\n5030\n5035\n5040\n5045\n5050\n5055\n5060\n5065\n5070\n5075\n5080\n5085\n5090\n5095\n5100\n5105\n5110\n5115\n5120\n5125\n5130\n5135\n5140\n5145\n5150\n",
          "output_type": "stream"
        }
      ],
      "execution_count": 1
    },
    {
      "cell_type": "markdown",
      "source": "## Task 8\n\nIn this task, I incorporated a helpful alert into the process of generating employee IDs for the Sales department.\n\nI modified the `while` loop to include an `if` statement that displayed the message `\"Only 10 valid employee IDs remaining\"` once the loop variable reached `5100`. This ensured that users were alerted when only 10 valid employee IDs remained.\n",
      "metadata": {
        "id": "s7FvgswrSrf8"
      }
    },
    {
      "cell_type": "code",
      "source": "# Assign the loop variable `i` to an initial value of 5000\n\ni = 5000\n\n# While loop that generates unique employee IDs for the Sales department by iterating through numbers\n# and displays each ID created\n# This loop displays \"Only 10 valid employee ids remaining\" once `i` reaches 5100\n\nwhile i <= 5150: \n    print(i)\n    if i == 5100:\n        print(\"Only 10 valid employee ids remaining\")\n    i = i + 5",
      "metadata": {
        "id": "Otu5log6U3Db",
        "trusted": true
      },
      "outputs": [
        {
          "name": "stdout",
          "text": "5000\n5005\n5010\n5015\n5020\n5025\n5030\n5035\n5040\n5045\n5050\n5055\n5060\n5065\n5070\n5075\n5080\n5085\n5090\n5095\n5100\nOnly 10 valid employee ids remaining\n5105\n5110\n5115\n5120\n5125\n5130\n5135\n5140\n5145\n5150\n",
          "output_type": "stream"
        }
      ],
      "execution_count": 2
    },
    {
      "cell_type": "markdown",
      "source": "#### **Question 2**\n**Why do you think the statement `print(i)` is written before the conditional rather than inside the conditional?**",
      "metadata": {
        "id": "goaW1X3mGUNt"
      }
    },
    {
      "cell_type": "markdown",
      "source": "The goal is to display every employee ID number that’s created, and the loop variable `i` represents the ID number created in each iteration of the loop. The statement `print(i)` is written before the conditional, so that the loop is displayed in every iteration. Otherwise, if `print(i)` was written\ninside the conditional, the loop variable would only be printed out when it’s equal to `5100`. (Since the condition in the `if statement is i == 5100`.)\n",
      "metadata": {
        "id": "-j5YIVKSGph4"
      }
    },
    {
      "cell_type": "markdown",
      "source": "## Conclusion\n\n**What are your key takeaways from this lab?**\n\n* Iterative statements play a major role in automating security-related processes that need to be repeated.\n* The use of `for` loops allow me to repeat a process a specified number of times.\n* Using while loops allows me to repeat a process until a specified condition has been met.\nComparison operators are often used in these conditions.\n* The `<` comparison operator allows me to check whether one value is less than another.\n* The `<=` comparison operator allows me to check whether one value is less than or equal to another.\n* The `==` comparison operator allows me to check whether one value is equal to another.\n",
      "metadata": {
        "id": "BmvPYtFqEMc1"
      }
    }
  ]
}