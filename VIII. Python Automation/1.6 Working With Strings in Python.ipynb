{
  "metadata": {
    "kernelspec": {
      "name": "python",
      "display_name": "Python (Pyodide)",
      "language": "python"
    },
    "language_info": {
      "codemirror_mode": {
        "name": "python",
        "version": 3
      },
      "file_extension": ".py",
      "mimetype": "text/x-python",
      "name": "python",
      "nbconvert_exporter": "python",
      "pygments_lexer": "ipython3",
      "version": "3.8"
    },
    "colab": {
      "provenance": []
    }
  },
  "nbformat_minor": 4,
  "nbformat": 4,
  "cells": [
    {
      "cell_type": "markdown",
      "source": "# Working With Strings in Python",
      "metadata": {
        "id": "ISr45HAPh1Xq"
      }
    },
    {
      "cell_type": "markdown",
      "source": "## Proposed Resolution",
      "metadata": {
        "id": "kRU7MObZEY36"
      }
    },
    {
      "cell_type": "markdown",
      "source": "## Task 1\n\nI converted the `employee_id` variable from a four-digit numeric format to a string format, storing the result in the same variable. ",
      "metadata": {
        "id": "7kVc1buv_XBG"
      }
    },
    {
      "cell_type": "code",
      "source": "# Assign `employee_id` to a four digit number as an initial value\n\nemployee_id = 4186\n\n# Display the data type of `employee_id`\n\nprint(type(employee_id))\n\n# Reassign `employee_id` to the same value but in the form of a string\n\nemployee_id = str(employee_id)\n\n# Display the data type of `employee_id` now\n\nprint(type(employee_id))",
      "metadata": {
        "id": "MIWcP2bq_R-V",
        "trusted": true
      },
      "outputs": [
        {
          "name": "stdout",
          "text": "<class 'int'>\n<class 'str'>\n",
          "output_type": "stream"
        }
      ],
      "execution_count": 1
    },
    {
      "cell_type": "markdown",
      "source": "#### **Question 1**\n**What do you observe about the data type of `employee_id` the first time it's displayed? What do you observe about the data type of `employee_id` the second time it's displayed (after the variable is reassigned)?**",
      "metadata": {
        "id": "lf8YCFRMDL38"
      }
    },
    {
      "cell_type": "markdown",
      "source": "The first time it is displayed, the data type of `employee_id` is integer. The second time it is displayed (after the variable is reassigned), the data type of `employee_id` is string.",
      "metadata": {
        "id": "a7vMMCj0FG-n"
      }
    },
    {
      "cell_type": "markdown",
      "source": "## Task 2\n\nI wrote a conditional statement that checks if the length of the employee ID is less than five digits. If it is, the code displays a message indicating that the employee ID doesn't meet the new five-digit standard.",
      "metadata": {
        "id": "1MK0FV0nDk7n"
      }
    },
    {
      "cell_type": "code",
      "source": "# Assign `employee_id` to a four digit number as an initial value\n\nemployee_id = 4186\n\n# Reassign `employee_id` to the same value but in the form of a string\n\nemployee_id = str(employee_id)\n\n# Conditional statement that displays a message if the employee ID length is less than 5 digits\n\nif len(employee_id) < 5:\n    print(\"This employee ID has less than five digits. It does not meet length requirements.\")",
      "metadata": {
        "id": "k66b_dwhDkRU",
        "trusted": true
      },
      "outputs": [
        {
          "name": "stdout",
          "text": "This employee ID has less than five digits. It does not meet length requirements.\n",
          "output_type": "stream"
        }
      ],
      "execution_count": 2
    },
    {
      "cell_type": "markdown",
      "source": "## Task 3\n\nI wrote an `if` statement that checks if the length of the `employee_id` is less than five digits. If the condition is `True`, I used string concatenation to add `\"E\"` in front of the existing four-digit `employee_id` to make it a five-character employee ID. After updating the employee ID, I displayed it again.\n",
      "metadata": {
        "id": "1VddrUV7fo-C"
      }
    },
    {
      "cell_type": "code",
      "source": "# Assign `employee_id` to a four digit number as an initial value\n\nemployee_id = 4186\n\n# Reassign `employee_id` to the same value but in the form of a string\n\nemployee_id = str(employee_id)\n\n# Display the `employee_id` as it currently stands\n\nprint(employee_id)\n\n# Conditional statement that updates the `employee_id` if its length is less than 5 digits\n\nif len(employee_id) < 5:\n    employee_id = \"E\" + employee_id\n\n# Display the `employee_id` after the update\n\nprint(employee_id)",
      "metadata": {
        "id": "2REO611jgVUB",
        "trusted": true
      },
      "outputs": [
        {
          "name": "stdout",
          "text": "4186\nE4186\n",
          "output_type": "stream"
        }
      ],
      "execution_count": 3
    },
    {
      "cell_type": "markdown",
      "source": "## Task 4\n\nI extracted the fourth character from the `device_id` string using indexing. In Python, strings are zero-indexed, meaning that the first character is at position 0. To get the fourth character, I used the index `3`.",
      "metadata": {
        "id": "nXECRImqRzzb"
      }
    },
    {
      "cell_type": "code",
      "source": "# Assign `device_id` to a string that contains alphanumeric characters\n\ndevice_id = \"r262c36\"\n\n# Extract the fourth character in `device_id` and display it\n\nprint(device_id[3])",
      "metadata": {
        "id": "fw6v2A74R0ck",
        "trusted": true
      },
      "outputs": [
        {
          "name": "stdout",
          "text": "2\n",
          "output_type": "stream"
        }
      ],
      "execution_count": 4
    },
    {
      "cell_type": "markdown",
      "source": "## Task 5\n\nI extracted the first through the third characters from the `device_id` string using slicing. In Python, I used the slice notation `device_id[:3]`, which takes characters from index `0` up to (but not including) index `3`.\n",
      "metadata": {
        "id": "yAwUDAHpsXS4"
      }
    },
    {
      "cell_type": "code",
      "source": "# Assign `device_id` to a string that contains alphanumeric characters\n\ndevice_id = \"r262c36\"\n\n# Extract the first through the third characters in `device_id` and display the result\n\ndevice_id[0:3]",
      "metadata": {
        "id": "lfwM_xWfsK0C",
        "trusted": true
      },
      "outputs": [
        {
          "execution_count": 5,
          "output_type": "execute_result",
          "data": {
            "text/plain": "'r26'"
          },
          "metadata": {}
        }
      ],
      "execution_count": 5
    },
    {
      "cell_type": "markdown",
      "source": "## Task 6\n\nI extracted the protocol and the `://` characters from the URL by using string slicing. Given that the protocol is always `https` followed by `://`, I used the slice notation to capture these first parts of the URL. ",
      "metadata": {
        "id": "VoUS63vCxX6a"
      }
    },
    {
      "cell_type": "code",
      "source": "# Define a function named `list_to_string()`\n\ndef list_to_string():\n\n  # Store the list of approved usernames in a variable named `username_list`\n\n  username_list = [\"elarson\", \"bmoreno\", \"tshah\", \"sgilmore\", \"eraab\", \"gesparza\", \"alevitsk\", \"wjaffrey\"]\n# Assign `url` to a specific URL\n\nurl = \"https://exampleURL1.com\"\n\n# Extract the protocol of `url` along with the syntax following it, display the result\n\nprint(url[0:8])",
      "metadata": {
        "id": "cLbEQNSwvzUz",
        "trusted": true
      },
      "outputs": [
        {
          "name": "stdout",
          "text": "https://\n",
          "output_type": "stream"
        }
      ],
      "execution_count": 6
    },
    {
      "cell_type": "markdown",
      "source": "## Task 7\n\nI used the `.index()` method to find the index where the domain extension `.com` starts in the given URL. This method returns the index of the first occurrence of the specified substring.\n",
      "metadata": {
        "id": "pcRf8PLa4bt1"
      }
    },
    {
      "cell_type": "code",
      "source": "# Assign `url` to a specific URL\n\nurl = \"https://exampleURL1.com\"\n\n# Display the index where the domain extension \".com\" is located in `url`\n\nprint(url.index(\".com\"))",
      "metadata": {
        "id": "DLW-X1FM7K56",
        "trusted": true
      },
      "outputs": [
        {
          "name": "stdout",
          "text": "19\n",
          "output_type": "stream"
        }
      ],
      "execution_count": 7
    },
    {
      "cell_type": "markdown",
      "source": "## Task 8\nI stored the index of the domain extension `.com` from the URL in a variable called `ind`, using the `.index()` method. This will help me track the position where the domain extension starts in the URL.",
      "metadata": {
        "id": "MCsLDLob_liw"
      }
    },
    {
      "cell_type": "code",
      "source": "# Assign `url` to a specific URL\n\nurl = \"https://exampleURL1.com\"\n\n# Assign `ind` to the output of applying `.index()` to `url` in order to extract the starting index of \".com\" in `url`\n\nind = url.index(\".com\")\n\n# Extract the domain extension in `url` and display it\n\nprint(url[ind:ind+4])",
      "metadata": {
        "id": "cLbEQNSwvzUz",
        "trusted": true
      },
      "outputs": [
        {
          "name": "stdout",
          "text": ".com\n",
          "output_type": "stream"
        }
      ],
      "execution_count": 9
    },
    {
      "cell_type": "markdown",
      "source": "#### **Question 2**\n**What does this code output and why?**",
      "metadata": {}
    },
    {
      "cell_type": "markdown",
      "source": "This code outputs the domain name `.com` by first saving the starting position of the domain name in the `ind` variable and then extracting 4 consecutive characters from `url` starting from the saved position.",
      "metadata": {}
    },
    {
      "cell_type": "markdown",
      "source": "## Task 10\n\nI used string slicing to extract the website name from the URL. The starting index was 8 (the position where the website name begins), and the ending index was the `ind` value, which marked the start of the domain extension. The result was the website name `\"exampleURL1\"`. ",
      "metadata": {}
    },
    {
      "cell_type": "code",
      "source": "# Assign `url` to a specific URL\n\nurl = \"https://exampleURL1.com\"\n\n# Assign `ind` to the output of applying `.index()` to `url` in order to extract the starting index of \".com\" in `url`\n\nind = url.index(\".com\")\n\n# Extract the website name in `url` and display it\n\nprint(url[8:ind])",
      "metadata": {
        "trusted": true
      },
      "outputs": [
        {
          "name": "stdout",
          "text": "exampleURL1\n",
          "output_type": "stream"
        }
      ],
      "execution_count": 10
    },
    {
      "cell_type": "markdown",
      "source": "## Conclusion\n**What are your key takeaways from this lab?**",
      "metadata": {
        "id": "ru2ytGBLCh4q"
      }
    },
    {
      "cell_type": "markdown",
      "source": "* Strings are instrumental in storing important, security-related data, such as device IDs and URLs.\n* String concatenation allows you to easily combine information in a string with the information stored in another string.\n* String slicing is a powerful technique that enables you to extract any subsection of a string.\n* Python has many functions and methods that help analysts work with string values, as well as data that they want to convert to string format.\n  * The `type()` function returns the data type of its input.\n  * The `str()` function converts the input object into a string. For example, when called on an integer, `str()` returns that integer value converted to a string.\n  * The `len()` function returns the number of elements in an object. When called on a string, `len()` returns the number of characters in that string.\n  * The `.index()` method finds the first occurrence of the input in a string and returns its location. It provides the index where the substring begins.",
      "metadata": {
        "id": "1Vb_F3oUAZQ1"
      }
    }
  ]
}