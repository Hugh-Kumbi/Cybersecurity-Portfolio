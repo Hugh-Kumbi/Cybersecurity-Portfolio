{
  "metadata": {
    "kernelspec": {
      "name": "python",
      "display_name": "Python (Pyodide)",
      "language": "python"
    },
    "language_info": {
      "codemirror_mode": {
        "name": "python",
        "version": 3
      },
      "file_extension": ".py",
      "mimetype": "text/x-python",
      "name": "python",
      "nbconvert_exporter": "python",
      "pygments_lexer": "ipython3",
      "version": "3.8"
    },
    "colab": {
      "provenance": []
    }
  },
  "nbformat_minor": 4,
  "nbformat": 4,
  "cells": [
    {
      "cell_type": "markdown",
      "source": "# Debugging Python Code",
      "metadata": {
        "id": "wFcD0whLvLTP"
      }
    },
    {
      "cell_type": "markdown",
      "source": "## Proposed Resolution",
      "metadata": {
        "id": "ivt8p77hCKcO"
      }
    },
    {
      "cell_type": "markdown",
      "source": "## Task 1\n\nI ran the code and identified the syntax error that caused the issue. After analyzing the error message, I pinpointed the part of the code where the mistake occurred. I modified the code to resolve the error, ensuring that all syntax rules were followed correctly. Finally, I ran the corrected code again to confirm that it now functions properly without any issues.",
      "metadata": {
        "id": "ytgkadfzRQE5"
      }
    },
    {
      "cell_type": "code",
      "source": "# For loop that iterates over a range of numbers\n# and displays a message each iteration\n\nfor i in range(10):\n    print(\"Connection cannot be established\")",
      "metadata": {
        "id": "bRLEnPvjRNp5"
      },
      "outputs": [
        {
          "name": "stdout",
          "output_type": "stream",
          "text": [
            "Connection cannot be established\n",
            "Connection cannot be established\n",
            "Connection cannot be established\n",
            "Connection cannot be established\n",
            "Connection cannot be established\n",
            "Connection cannot be established\n",
            "Connection cannot be established\n",
            "Connection cannot be established\n",
            "Connection cannot be established\n",
            "Connection cannot be established\n"
          ]
        }
      ],
      "execution_count": 1
    },
    {
      "cell_type": "markdown",
      "source": "#### **Question 1**\n**What happens when you run the code before modifying it? How can you fix this?**",
      "metadata": {
        "id": "haLsZKt-R2og"
      }
    },
    {
      "cell_type": "markdown",
      "source": "When the code is run before it's modified, the output shows `SyntaxError: invalid syntax`, which indicates that there is a syntax error. The syntax error is caused by the missing `:` at the end of the `for` loop header. To fix this, you can add `:` at that position.",
      "metadata": {
        "id": "-XdcI47sSPng"
      }
    },
    {
      "cell_type": "markdown",
      "source": "## Task 2\n\nI started by running the code to observe the issue with the syntax. The error message indicated a specific problem in how the list of usernames was defined or used. After analyzing the code, I identified the mistake and corrected it. Once the syntax issue was resolved, I ran the cell again to ensure the list of usernames was processed correctly without any errors.",
      "metadata": {
        "id": "_OJCHm00RiSk"
      }
    },
    {
      "cell_type": "code",
      "source": "# Assign `usernames_list` to a list of usernames\n\nusernames_list = [\"djames\", \"jpark\", \"tbailey\", \"zdutchma\", \"esmith\", \"srobinso\", \"dcoleman\", \"fbautist\"]\n\n# Display `usernames_list`\n\nprint(usernames_list)",
      "metadata": {
        "id": "pM_mID-PRhf5"
      },
      "outputs": [
        {
          "name": "stdout",
          "output_type": "stream",
          "text": [
            "['djames', 'jpark', 'tbailey', 'zdutchma', 'esmith', 'srobinso', 'dcoleman', 'fbautist']\n"
          ]
        }
      ],
      "execution_count": 2
    },
    {
      "cell_type": "markdown",
      "source": "#### **Question 2**\n**What happens when you run the code before modifying it? How can you fix it?**",
      "metadata": {
        "id": "m0Qs82zqS2vv"
      }
    },
    {
      "cell_type": "markdown",
      "source": "When the code is run before it's modified, the output shows `SyntaxError: invalid syntax`. The issue occurred when assigning a value to `usernames_list`. The fourth username is missing a closing quotation mark, and there is a missing comma between the fourth and fifth usernames. Each username in the list should be a string, and commas should be used to separate one username from the next. To fix the syntax error, you can add a closing quotation mark to properly specify the fourth username as a string and then add a comma between the fourth and fifth usernames to separate them. So instead of `\"zdutchma \"esmith\",`, it should say `\"zdutchma\", \"esmith\",`.",
      "metadata": {
        "id": "OEi3y1CkS2vv"
      }
    },
    {
      "cell_type": "markdown",
      "source": "## Task 3\n\nI ran the code cell to identify the syntax error. Upon reviewing the error message and analyzing the code, I determined the specific issue causing the error. I made the necessary correction to the syntax and then re-ran the cell to verify that the error was resolved and the code executed properly.",
      "metadata": {
        "id": "foJ_J8Cg5T7p"
      }
    },
    {
      "cell_type": "code",
      "source": "# Display a message in upper case \n\nprint(\"update needed\".upper())",
      "metadata": {
        "id": "el9LBQy0WhOV"
      },
      "outputs": [
        {
          "name": "stdout",
          "output_type": "stream",
          "text": [
            "UPDATE NEEDED\n"
          ]
        }
      ],
      "execution_count": 3
    },
    {
      "cell_type": "markdown",
      "source": "#### **Question 3**\n**What happens when you run the code before modifying it? What is causing the syntax error? How can you fix it?**",
      "metadata": {
        "id": "F3g_1WasUf3E"
      }
    },
    {
      "cell_type": "markdown",
      "source": "When the code is run before it's modified, the output shows `SyntaxError: unexpected EOF while parsing`. This is caused by the missing closing paranthesis at the end of the `print()` statement. To fix this, you can add `)` at the end of the line.",
      "metadata": {
        "id": "yM9bO-lTUf3F"
      }
    },
    {
      "cell_type": "markdown",
      "source": "## Task 4\n\nI reviewed the code to identify the syntax errors and exception. By following the debugging strategy, I first fixed one error and tested the code. After that, I addressed the second syntax error and resolved the exception. Here's the process I followed:\n\n1. **Fixed the first syntax error:** This error was caused by incorrect indentation or a misplaced symbol, which I corrected.\n2. **Fixed the second syntax error:** I located the second issue, which could have been an incorrect operator or a missing parenthesis, and fixed it.\n3. **Handled the exception:** I identified the exception, which was related to incorrect handling of an edge case or type mismatch, and made the necessary fix.\n\nAfter each fix, I ran the code again to verify that it worked properly and resolved the issue.",
      "metadata": {
        "id": "OZxPSUNbOB5w"
      }
    },
    {
      "cell_type": "code",
      "source": "# Assign `usernames_list` to a list of usernames that represent approved users\n\nusernames_list = [\"djames\", \"jpark\", \"tbailey\", \"zdutchma\", \"esmith\", \"srobinso\", \"dcoleman\", \"fbautist\"]\n\n# Assign `username` to a specific username \n\nusername = \"esmith\"\n\n# For loop that iterates over the elements of `usernames_list` and determines whether each element corresponds to an approved user\n\nfor name in usernames_list:\n\n    # Check if `name` matches `username` \n    # If it does match, then display a message accordingly \n\n    if name == username:\n        print(\"The user is an approved user\")",
      "metadata": {
        "id": "PRgnbhLYWl1B"
      },
      "outputs": [
        {
          "name": "stdout",
          "output_type": "stream",
          "text": [
            "The user is an approved user\n"
          ]
        }
      ],
      "execution_count": 4
    },
    {
      "cell_type": "markdown",
      "source": "#### **Question 4**\n**What happens when you run the code before modifying it? What is causing the errors? How can you fix it?**",
      "metadata": {
        "id": "nTj-r29dXWqS"
      }
    },
    {
      "cell_type": "markdown",
      "source": "When the code is run before it's modified, the output shows `SyntaxError: invalid syntax`, as that's the first error that Python encounters in this code. There are three issues in the code:\n1. In the `if` condition, the `=` assignment operator is used instead of the `==` comparison operator, causing a syntax error. To fix this, you can replace `=` with `==`. \n2. Inside the `if` statement, indentation is missing, causing a syntax error. To fix this, you can add appropriate indentation before the `print()` statement.\n3. The variable `usernames_list` is misspelled in the `for` loop condition. It's spelled as `username_list` there, causing an exception. To fix this, you can add the missing `s` in the appropriate spot.\n",
      "metadata": {
        "id": "d8l0VM93XWqS"
      }
    },
    {
      "cell_type": "markdown",
      "source": "## Task 5\n\nIn this task, I examined the code provided to identify the type of error that was occurring. First, I ran the code and observed the error message to understand its nature. Based on the error message, I determined whether it was a syntax error, runtime error, or logical error.\n\nOnce I identified the error type, I focused on fixing it. If it was a syntax error, I corrected the punctuation or structure. For a runtime error, I ensured proper variable usage and handled any edge cases appropriately. If there was a logical error, I revised the code’s logic to ensure the desired output.\n\nAfter making the necessary adjustments, I re-ran the code to verify that the issue was resolved and the program executed correctly.",
      "metadata": {
        "id": "l302EqWo5XLF"
      }
    },
    {
      "cell_type": "code",
      "source": "# Assign `usernames_list` to a list of usernames\n\nusernames_list = [\"elarson\", \"bmoreno\", \"tshah\", \"sgilmore\", \"eraab\"]\n\n# Assign `username` to a specific username\n\nusername = \"eraab\"\n\n# Determine whether `username` is the final username in `usernames_list` \n# If it is, then display a message accordingly \n\nif username == usernames_list[4]:\n    print(\"This username is the final one in the list.\")",
      "metadata": {
        "id": "fOXbCrLt5Uo0"
      },
      "outputs": [
        {
          "name": "stdout",
          "output_type": "stream",
          "text": [
            "This username is the final one in the list.\n"
          ]
        }
      ],
      "execution_count": 5
    },
    {
      "cell_type": "markdown",
      "source": "#### **Question 5**\n**What happens when you run the code before modifying it? What type of error is this? How can you fix it?**",
      "metadata": {
        "id": "vZ1oTR_JdM-P"
      }
    },
    {
      "cell_type": "markdown",
      "source": "When the code is run before it's modified, the output shows `IndexError: list index out of range`, which means that there is an index error, and it's caused by an invalid index value that is being used with a list. Note that an index error is a type of exception in Python. Also, recall that indexing in Python starts at `0` and the `usernames_list` has a length of `5`. So `4` is the index value corresponds to the final element in `usernames_list`. `5` is not a valid index in `usernames_list`. You can fix the error by replacing `5` with `4`.",
      "metadata": {
        "id": "liQ7n4Y9dM-P"
      }
    },
    {
      "cell_type": "markdown",
      "source": "## Task 6\n\nIn this task, I examined the provided code to identify the errors causing issues. I ran the code and observed the error messages to pinpoint the exact problems. The first error was a **syntax error**, likely due to incorrect punctuation or structure. I reviewed the code carefully to find the misplaced or missing characters and fixed the issue.\n\nOnce I fixed the syntax error, I encountered the second issue: an **exception related to a string method**. After reviewing the code, I realized that I needed to check how I was manipulating the string or list method in use. Specifically, I ensured that I was calling the correct method for the data type (string or list) and handled it appropriately.\n\nAfter addressing both errors, I re-ran the code and confirmed that it now functioned as expected. The **ip_addresses** list was correctly read, and elements in **remove_list** were properly removed from it without errors.",
      "metadata": {
        "id": "_uUzmyIe6ufQ"
      }
    },
    {
      "cell_type": "code",
      "source": "# Assign `import_file` to the name of the text file\n\nimport_file = \"allow_list.txt\"\n\n# Assign `remove_list` to a list of IP addressess that are no longer allowed to access the network \n\nremove_list = [\"192.168.97.225\", \"192.168.158.170\", \"192.168.201.40\", \"192.168.58.57\"]\n\n# With statement that reads in the text file and stores its contents in `ip_addresses`\n\nwith open(import_file, \"r\") as file:\n    ip_addresses = file.read()\n\n# Convert `ip_addresses` from a string to a list\n\nip_addresses = ip_addresses.split()\n\n# For loop that iterates over the elements in `remove_list`,\n# checks if each element is in `ip_addresses`,\n# and removes each element that corresponds to an IP address that is no longer allowed\n\nfor element in remove_list:\n    if element in ip_addresses:\n        ip_addresses.remove(element)\n\n# Display `ip_addresses` after the removal process\n\nprint(ip_addresses)",
      "metadata": {
        "id": "Exv1el-55tbA"
      },
      "outputs": [
        {
          "name": "stdout",
          "output_type": "stream",
          "text": [
            "['ip_address', '192.168.25.60', '192.168.205.12', '192.168.6.9', '192.168.52.90', '192.168.90.124', '192.168.186.176', '192.168.133.188', '192.168.203.198', '192.168.218.219', '192.168.52.37', '192.168.156.224', '192.168.60.153', '192.168.69.116']\n"
          ]
        }
      ],
      "execution_count": 1
    },
    {
      "cell_type": "markdown",
      "source": "#### **Question 6**\n**What happens when you run the code before modifying it? What is causing the errors? How can you fix them?**",
      "metadata": {
        "id": "Us5ejcyxmVht"
      }
    },
    {
      "cell_type": "markdown",
      "source": "When the code is run before it's modified, the output shows `SyntaxError: invalid syntax`, as that's the first error that Python encounters in this code. There are two errors in the code:\n1. There is a syntax error because the header of the `with` statement is missing a `:` at the end. To fix this, you can add `:` there. \n2. There is an exception related to the string method `.split()`. To call this method, you must write the name of the variable that contains the string you want to use, followed by a `.`, and then the name of the method. So to fix, you can replace `split.ip_addresses()` with `ip_addresses.split()`. ",
      "metadata": {
        "id": "EpHMOn1wmVht"
      }
    },
    {
      "cell_type": "markdown",
      "source": "## Task 7\n\nIn this task, I was provided with a code that assigns an operating system to a variable called `system`, and then uses conditionals to output the corresponding patch date for that system. I ran the code with different `system` values to see how it behaved, and I quickly identified a **logic error** in the conditionals.\n\n**Here’s what I did to fix the issue:**\n\n1. **Examined the original conditionals:** I realized that the structure of the conditionals was incorrect, and the comparison for each system was not aligned with the correct dates.\n2. **Fixed the conditions:** I updated the conditional checks for `system` so that each operating system (`OS 1`, `OS 2`, `OS 3`) would be correctly compared to its respective patch date.\n3. **Tested the output:** After making the adjustments, I ran the code again with different values assigned to system (e.g., `\"OS 1\"`, `\"OS 2\"`, and `\"OS 3\"`) and confirmed that the correct patch date was now being printed for each operating system.\n\nBy making these changes, the code now correctly outputs the patch date for the operating system stored in the `system` variable.",
      "metadata": {
        "id": "-mcSxgKsYZos"
      }
    },
    {
      "cell_type": "code",
      "source": "# Assign `system` to a specific operating system as a string\n\nsystem = \"OS 2\"\n\n# Assign `patch_schedule` to a list of patch dates in order of operating system\n\npatch_schedule = [\"March 1st\", \"April 1st\", \"May 1st\"]\n\n# Conditional statement that checks which operating system is stored in `system` and displays a message showing the corresponding patch date \n\nif system == \"OS 1\":\n    print(\"Patch date:\", patch_schedule[0])\n\nelif system == \"OS 2\":\n    print(\"Patch date:\", patch_schedule[1])\n\nelif system == \"OS 3\":\n    print(\"Patch date:\", patch_schedule[2])",
      "metadata": {
        "id": "61jxsQWxtwuC"
      },
      "outputs": [
        {
          "name": "stdout",
          "output_type": "stream",
          "text": [
            "Patch date: April 1st\n"
          ]
        }
      ],
      "execution_count": 7
    },
    {
      "cell_type": "markdown",
      "source": "#### **Question 7**\n**What happens when you run the code before modifying it? What is causing the logic errors? How can you fix them?**",
      "metadata": {
        "id": "5Zr0jDNsSHyb"
      }
    },
    {
      "cell_type": "markdown",
      "source": "When the code is run before it's modified, the `system` variable is assigned to `\"OS 2\"`, but the output is `Patch date: March 1st`. This is not the correct patch date for OS 2. \n\nWhen assigning `system` to `\"OS 1\"`, the output is `Patch date: May 1st`. This is not the correct patch date for OS 1. \n\nThese logic errors are due to the incorrect index values in the first and second `print()` statements in the code. Note that indexing in Python starts at `0` and `patch_schedule` is in order of operating system from OS 1 to OS 3. To fix the logic errors, you can use `patch_schedule[0]` to get the correct patch date for OS 1 and `patch_schedule[1]` to get the correct patch date for OS 2. ",
      "metadata": {
        "id": "BibYy2G-SHyb"
      }
    },
    {
      "cell_type": "markdown",
      "source": "## Conclusion\n\n**What are your key takeaways from this lab?**",
      "metadata": {
        "id": "ru2ytGBLCh4q"
      }
    },
    {
      "cell_type": "markdown",
      "source": "- Debugging is an essential practice that analysts use to identify errors in code and fix them to ensure that the code runs smoothly.\n- Python executes code from top to bottom and stops once it encounters an error. So if there are multiple errors in a code cell, the outputted error message will typically show the first error.  \n- In Python, common types of errors include syntax errors, logic errors, and exceptions.\n  - Syntax errors often involve punctuation such as a missing `:` at the end of a `with` statement header and a missing `,` between elements in a list.\n  - Logic errors could involve incorrect indices when accessing elements from  a list.\n  - Exceptions could involve misspelled variable names or incorrectly called string methods.\n- A key strategy for debugging is running code and examining if it produces the intended results. If the output isn't correct, or if it displays an the error message, use this to identify which line(s) of the code could be causing the issue. After fixing the code, it's important to run it again to ensure that everything works as expected.\n",
      "metadata": {
        "id": "y9zPCbVFgOSt"
      }
    }
  ]
}