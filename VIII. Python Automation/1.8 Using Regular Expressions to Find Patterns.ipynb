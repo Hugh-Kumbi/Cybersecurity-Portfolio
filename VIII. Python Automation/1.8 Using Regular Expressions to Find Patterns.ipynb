{
  "metadata": {
    "kernelspec": {
      "name": "python",
      "display_name": "Python (Pyodide)",
      "language": "python"
    },
    "language_info": {
      "codemirror_mode": {
        "name": "python",
        "version": 3
      },
      "file_extension": ".py",
      "mimetype": "text/x-python",
      "name": "python",
      "nbconvert_exporter": "python",
      "pygments_lexer": "ipython3",
      "version": "3.8"
    },
    "colab": {
      "provenance": [],
      "toc_visible": true
    }
  },
  "nbformat_minor": 4,
  "nbformat": 4,
  "cells": [
    {
      "cell_type": "markdown",
      "source": "# Using Regular Expressions to Find Patterns",
      "metadata": {
        "id": "yhVY_dQEi1EN"
      }
    },
    {
      "cell_type": "markdown",
      "source": "## Proposed Resolution",
      "metadata": {
        "id": "ivt8p77hCKcO"
      }
    },
    {
      "cell_type": "markdown",
      "source": "## Task 1\nTo begin working with regular expressions in Python, I started by importing the `re` module. This module provides a variety of functions that allow me to effectively work with regular expressions. By running the provided code cell, I made the `re` module available for use throughout the rest of the notebook.",
      "metadata": {
        "id": "HoVpKSvyi-uI"
      }
    },
    {
      "cell_type": "code",
      "source": "# Import the `re` module in Python\n\nimport re",
      "metadata": {
        "id": "3G0JhqZCiULp"
      },
      "outputs": [],
      "execution_count": 1
    },
    {
      "cell_type": "markdown",
      "source": "## Task 2\n\nAs a cybersecurity analyst, I was responsible for updating devices. I learned that a device ID beginning with the characters `\"r15\"` indicates that the device has a certain operating system that requires an update.\n\nI was given a log of device IDs, which was stored in a variable named `devices`. To begin, I displayed the contents of the `devices` variable to examine what it contained, which helped me better understand the structure and data before extracting the relevant device IDs starting with `\"r15\"`.",
      "metadata": {
        "id": "jF8bZT0SkiFr"
      }
    },
    {
      "cell_type": "code",
      "source": "# Assign `devices` to a string containing device IDs, each device ID represented by alphanumeric characters\n\ndevices = \"r262c36 67bv8fy 41j1u2e r151dm4 1270t3o 42dr56i r15xk9h 2j33krk 253be78 ac742a1 r15u9q5 zh86b2l ii286fq 9x482kt 6oa6m6u x3463ac i4l56nq g07h55q 081qc9t r159r1u\"\n\n# Display the contents of `devices`\n\nprint(devices)",
      "metadata": {
        "id": "xlXOC_MBlQDd"
      },
      "outputs": [
        {
          "name": "stdout",
          "output_type": "stream",
          "text": [
            "r262c36 67bv8fy 41j1u2e r151dm4 1270t3o 42dr56i r15xk9h 2j33krk 253be78 ac742a1 r15u9q5 zh86b2l ii286fq 9x482kt 6oa6m6u x3463ac i4l56nq g07h55q 081qc9t r159r1u\n"
          ]
        }
      ],
      "execution_count": 2
    },
    {
      "cell_type": "markdown",
      "source": "## Task 3\n\nIn this task, I wrote a regular expression pattern to find devices that start with the character combination `\"r15\"`.\n\nI used the regular expression symbols `\\w` and `+` to create the pattern, where `\\w` matches any word character (letters, digits, and underscores), and `+` indicates that the preceding character class should appear one or more times. I then stored the pattern as a string in a variable named `target_pattern`.\n\nSince the code cell only contained variable assignments, running it didn't produce an output, but it prepared the pattern for use in subsequent steps.",
      "metadata": {
        "id": "qzue2wJfUHG4"
      }
    },
    {
      "cell_type": "code",
      "source": "# Assign `devices` to a string containing device IDs, each device ID represented by alphanumeric characters\n\ndevices = \"r262c36 67bv8fy 41j1u2e r151dm4 1270t3o 42dr56i r15xk9h 2j33krk 253be78 ac742a1 r15u9q5 zh86b2l ii286fq 9x482kt 6oa6m6u x3463ac i4l56nq g07h55q 081qc9t r159r1u\"\n\n# Assign `target_pattern` to a regular expression pattern for finding device IDs that start with \"r15\"\n\ntarget_pattern = \"r15\\w+\"",
      "metadata": {
        "id": "Lw0c8GxGv3fY"
      },
      "outputs": [],
      "execution_count": 3
    },
    {
      "cell_type": "markdown",
      "source": "#### **Question 1**\n**What regular expression pattern did you use? For each component of the pattern, what would happen if it were missing?**",
      "metadata": {
        "id": "uyvpm4lZVtSQ"
      }
    },
    {
      "cell_type": "markdown",
      "source": "The regular expression pattern used was `\"r15\\w+\"`. Without the `r15`, the pattern will not match with device IDs that start with the characters `\"r15\"`. Without the `\\w`, the pattern will not match with alphanumeric characters following `\"r15\"`. Without the `+`, the pattern will match with only the first alphanumeric character that occurs after `\"r15\"`.",
      "metadata": {
        "id": "r-pyoFv-ZTF7"
      }
    },
    {
      "cell_type": "markdown",
      "source": "## Task 4\n\nTo find the device IDs that matched the `target_pattern`, I used the `findall()` function from the `re` module.\n\nSince I had already imported the `re` module in Task 1, I was able to call `re.findall()` on the `devices` log, using `target_pattern` to search for the device IDs that started with `\"r15\"`. This function returned all the device IDs that met the pattern, which I could then use for further processing.",
      "metadata": {
        "id": "9-B2F3CDyWcv"
      }
    },
    {
      "cell_type": "code",
      "source": "# Assign `devices` to a string containing device IDs, each device ID represented by alphanumeric characters\n\ndevices = \"r262c36 67bv8fy 41j1u2e r151dm4 1270t3o 42dr56i r15xk9h 2j33krk 253be78 ac742a1 r15u9q5 zh86b2l ii286fq 9x482kt 6oa6m6u x3463ac i4l56nq g07h55q 081qc9t r159r1u\"\n\n# Assign `target_pattern` to a regular expression pattern for finding device IDs that start with \"r15\"\n\ntarget_pattern = \"r15\\w+\"\n\n# Use `re.findall()` to find the device IDs that start with \"r15\" and display the results\n\nprint(re.findall(target_pattern, devices))",
      "metadata": {
        "id": "GLgAj1ID7czA"
      },
      "outputs": [
        {
          "name": "stdout",
          "output_type": "stream",
          "text": [
            "['r151dm4', 'r15xk9h', 'r15u9q5', 'r159r1u']\n"
          ]
        }
      ],
      "execution_count": 4
    },
    {
      "cell_type": "markdown",
      "source": "## Task 5\n\nFor my next task, I was responsible for analyzing a network security log file to identify which IP addresses had been flagged for unusual activity.\n\nThe log file was provided as a string stored in a variable named `log_file`. Since there were some invalid IP addresses in the file due to data collection issues, my goal was to use regular expressions to extract only the valid IP addresses.\n\nTo begin, I displayed the contents of the `log_file` to examine its details and understand its structure before proceeding with the extraction of valid IP addresses.",
      "metadata": {
        "id": "h8TGXyQkegpg"
      }
    },
    {
      "cell_type": "code",
      "source": "# Assign `log_file` to a string containing username, date, login time, and IP address for a series of login attempts \n\nlog_file = \"eraab 2022-05-10 6:03:41 192.168.152.148 \\niuduike 2022-05-09 6:46:40 192.168.22.115 \\nsmartell 2022-05-09 19:30:32 192.168.190.178 \\narutley 2022-05-12 17:00:59 1923.1689.3.24 \\nrjensen 2022-05-11 0:59:26 192.168.213.128 \\naestrada 2022-05-09 19:28:12 1924.1680.27.57 \\nasundara 2022-05-11 18:38:07 192.168.96.200 \\ndkot 2022-05-12 10:52:00 1921.168.1283.75 \\nabernard 2022-05-12 23:38:46 19245.168.2345.49 \\ncjackson 2022-05-12 19:36:42 192.168.247.153 \\njclark 2022-05-10 10:48:02 192.168.174.117 \\nalevitsk 2022-05-08 12:09:10 192.16874.1390.176 \\njrafael 2022-05-10 22:40:01 192.168.148.115 \\nyappiah 2022-05-12 10:37:22 192.168.103.10654 \\ndaquino 2022-05-08 7:02:35 192.168.168.144\"\n\n# Display contents of `log_file`\n\nprint(log_file)",
      "metadata": {
        "id": "iUBVnBwoNx_f"
      },
      "outputs": [
        {
          "name": "stdout",
          "output_type": "stream",
          "text": [
            "eraab 2022-05-10 6:03:41 192.168.152.148 \n",
            "iuduike 2022-05-09 6:46:40 192.168.22.115 \n",
            "smartell 2022-05-09 19:30:32 192.168.190.178 \n",
            "arutley 2022-05-12 17:00:59 1923.1689.3.24 \n",
            "rjensen 2022-05-11 0:59:26 192.168.213.128 \n",
            "aestrada 2022-05-09 19:28:12 1924.1680.27.57 \n",
            "asundara 2022-05-11 18:38:07 192.168.96.200 \n",
            "dkot 2022-05-12 10:52:00 1921.168.1283.75 \n",
            "abernard 2022-05-12 23:38:46 19245.168.2345.49 \n",
            "cjackson 2022-05-12 19:36:42 192.168.247.153 \n",
            "jclark 2022-05-10 10:48:02 192.168.174.117 \n",
            "alevitsk 2022-05-08 12:09:10 192.16874.1390.176 \n",
            "jrafael 2022-05-10 22:40:01 192.168.148.115 \n",
            "yappiah 2022-05-12 10:37:22 192.168.103.10654 \n",
            "daquino 2022-05-08 7:02:35 192.168.168.144\n"
          ]
        }
      ],
      "execution_count": 5
    },
    {
      "cell_type": "markdown",
      "source": "## Task 6\n\nIn this task, I built a regular expression pattern to match IP addresses in the format `xxx.xxx.xxx.xxx`, where each segment contains three digits separated by periods.\n\nTo create the pattern, I used the regular expression symbols `\\d` and `\\..` The symbol `\\d` matches any digit (0–9), and `\\`. is used to match the literal period character, since periods are special characters in regular expressions. I constructed the pattern to match four groups of three digits, each separated by a period.\n\nI stored the regular expression pattern in a variable named pattern, and since this task was focused on building the `pattern`, running the code didn't produce any output.",
      "metadata": {
        "id": "cHTd8_GVgIi8"
      }
    },
    {
      "cell_type": "code",
      "source": "# Assign `log_file` to a string containing username, date, login time, and IP address for a series of login attempts \n\nlog_file = \"eraab 2022-05-10 6:03:41 192.168.152.148 \\niuduike 2022-05-09 6:46:40 192.168.22.115 \\nsmartell 2022-05-09 19:30:32 192.168.190.178 \\narutley 2022-05-12 17:00:59 1923.1689.3.24 \\nrjensen 2022-05-11 0:59:26 192.168.213.128 \\naestrada 2022-05-09 19:28:12 1924.1680.27.57 \\nasundara 2022-05-11 18:38:07 192.168.96.200 \\ndkot 2022-05-12 10:52:00 1921.168.1283.75 \\nabernard 2022-05-12 23:38:46 19245.168.2345.49 \\ncjackson 2022-05-12 19:36:42 192.168.247.153 \\njclark 2022-05-10 10:48:02 192.168.174.117 \\nalevitsk 2022-05-08 12:09:10 192.16874.1390.176 \\njrafael 2022-05-10 22:40:01 192.168.148.115 \\nyappiah 2022-05-12 10:37:22 192.168.103.10654 \\ndaquino 2022-05-08 7:02:35 192.168.168.144\"\n\n# Assign `pattern` to a regular expression pattern that will match with IP addresses of the form xxx.xxx.xxx.xxx\npattern = \"\\d\\d\\d\\.\\d\\d\\d\\.\\d\\d\\d\\.\\d\\d\\d\"",
      "metadata": {
        "id": "uSCTiTMEuSUB"
      },
      "outputs": [],
      "execution_count": 1
    },
    {
      "cell_type": "markdown",
      "source": "## Task 7\n\nIn this task, I used the `re.findall()` function to extract the IP addresses from the `log_file` that matched the regular expression pattern stored in the `pattern` variable.\n\nI applied the `re.findall()` function on `log_file` using the `pattern` to search for valid IP addresses in the format `xxx.xxx.xxx.xxx`. After running the cell, I reviewed the output to verify that it correctly identified and extracted all the matching IP addresses.",
      "metadata": {
        "id": "INYOA67Th2pT"
      }
    },
    {
      "cell_type": "code",
      "source": "# Assign `log_file` to a string containing username, date, login time, and IP address for a series of login attempts \n\nlog_file = \"eraab 2022-05-10 6:03:41 192.168.152.148 \\niuduike 2022-05-09 6:46:40 192.168.22.115 \\nsmartell 2022-05-09 19:30:32 192.168.190.178 \\narutley 2022-05-12 17:00:59 1923.1689.3.24 \\nrjensen 2022-05-11 0:59:26 192.168.213.128 \\naestrada 2022-05-09 19:28:12 1924.1680.27.57 \\nasundara 2022-05-11 18:38:07 192.168.96.200 \\ndkot 2022-05-12 10:52:00 1921.168.1283.75 \\nabernard 2022-05-12 23:38:46 19245.168.2345.49 \\ncjackson 2022-05-12 19:36:42 192.168.247.153 \\njclark 2022-05-10 10:48:02 192.168.174.117 \\nalevitsk 2022-05-08 12:09:10 192.16874.1390.176 \\njrafael 2022-05-10 22:40:01 192.168.148.115 \\nyappiah 2022-05-12 10:37:22 192.168.103.10654 \\ndaquino 2022-05-08 7:02:35 192.168.168.144\"\n\n# Assign `pattern` to a regular expression pattern that will match with IP addresses of the form xxx.xxx.xxx.xxx\n\npattern = \"\\d\\d\\d\\.\\d\\d\\d\\.\\d\\d\\d\\.\\d\\d\\d\"\n\n# Use the `re.findall()` function on `pattern` and `log_file` to extract the IP addresses of the form xxx.xxx.xxx.xxx and display the results\n\nprint(re.findall(pattern, log_file))",
      "metadata": {
        "id": "35eW9ZhE-J-6"
      },
      "outputs": [
        {
          "name": "stdout",
          "output_type": "stream",
          "text": [
            "['192.168.152.148', '192.168.190.178', '192.168.213.128', '192.168.247.153', '192.168.174.117', '192.168.148.115', '192.168.103.106', '192.168.168.144']\n"
          ]
        }
      ],
      "execution_count": 7
    },
    {
      "cell_type": "markdown",
      "source": "#### **Question 2**\n**What are some examples of IP addresses that were extracted? What are some examples of IP addresses that were not extracted? Do any that were not extracted seem to be valid IP addresses?**",
      "metadata": {
        "id": "upPckuSQzkMG"
      }
    },
    {
      "cell_type": "markdown",
      "source": "Examples of IP addresses that were extracted include `\"192.168.152.148\"` and `\"192.168.190.178\"`. Examples of IP addresses that were not extracted include `\"192.168.22.115\"` and `\"1923.1689.3.24\"`. IP addresses that have fewer then three digits per segment, such as `\"192.168.22.115\"` (which has two digits in the third segment and three digits in each of the other segments), are valid IP addresses but were not extracted.",
      "metadata": {
        "id": "w8fSltSBzxt2"
      }
    },
    {
      "cell_type": "markdown",
      "source": "## Task 8\n\nI realized that there were some valid IP addresses in the `log_file` that I hadn’t extracted yet, because each segment of digits in an IP address can have anywhere between one and three digits.\n\nTo address this, I updated the regular expression pattern in the `pattern` variable by adding the `+` symbol after the `\\d` symbol. The `+` symbol allows for one or more digits in each segment, instead of restricting the match to exactly three digits.\n\nAfter updating the pattern, I used it to extract the remaining IP addresses from the `log_file`. Then, I ran the code to analyze the results and ensure I captured all valid IP addresses.",
      "metadata": {
        "id": "Au82pPWv29uU"
      }
    },
    {
      "cell_type": "code",
      "source": "# Assign `log_file` to a string containing username, date, login time, and IP address for a series of login attempts \n\nlog_file = \"eraab 2022-05-10 6:03:41 192.168.152.148 \\niuduike 2022-05-09 6:46:40 192.168.22.115 \\nsmartell 2022-05-09 19:30:32 192.168.190.178 \\narutley 2022-05-12 17:00:59 1923.1689.3.24 \\nrjensen 2022-05-11 0:59:26 192.168.213.128 \\naestrada 2022-05-09 19:28:12 1924.1680.27.57 \\nasundara 2022-05-11 18:38:07 192.168.96.200 \\ndkot 2022-05-12 10:52:00 1921.168.1283.75 \\nabernard 2022-05-12 23:38:46 19245.168.2345.49 \\ncjackson 2022-05-12 19:36:42 192.168.247.153 \\njclark 2022-05-10 10:48:02 192.168.174.117 \\nalevitsk 2022-05-08 12:09:10 192.16874.1390.176 \\njrafael 2022-05-10 22:40:01 192.168.148.115 \\nyappiah 2022-05-12 10:37:22 192.168.103.10654 \\ndaquino 2022-05-08 7:02:35 192.168.168.144\"\n\n# Update `pattern` to a regular expression pattern that will match with IP addresses with any variation in the number of digits per segment\n\npattern = \"\\d+\\.\\d+\\.\\d+\\.\\d+\"\n\n# Use the `re.findall()` function on `pattern` and `log_file` to extract the IP addresses of the updated form specifed above and display the results\n\nprint(re.findall(pattern, log_file))",
      "metadata": {
        "id": "qnp-4nT9E6NH"
      },
      "outputs": [
        {
          "name": "stdout",
          "output_type": "stream",
          "text": [
            "['192.168.152.148', '192.168.22.115', '192.168.190.178', '1923.1689.3.24', '192.168.213.128', '1924.1680.27.57', '192.168.96.200', '1921.168.1283.75', '19245.168.2345.49', '192.168.247.153', '192.168.174.117', '192.16874.1390.176', '192.168.148.115', '192.168.103.10654', '192.168.168.144']\n"
          ]
        }
      ],
      "execution_count": 8
    },
    {
      "cell_type": "markdown",
      "source": "#### **Question 3**\n**What gets extracted here? Do all extracted IP addresses have between one and three digits in every segment?**",
      "metadata": {
        "id": "qEmeRX5l3Lmz"
      }
    },
    {
      "cell_type": "markdown",
      "source": "Now, extracted IP addresses include those with exactly three digits per segment (such as `\"192.168.152.148\"`), those with fewer than three digits per segment (such as `\"192.168.22.115\"`), and those with more than three digits per segment (such as `\"1923.1689.3.24\"`). Not all of the extracted IP addresses have between one and three digits in every segment.",
      "metadata": {
        "id": "0Vl6pdIk3e5N"
      }
    },
    {
      "cell_type": "markdown",
      "source": "## Task 9\n\nAfter noticing that the extracted IP addresses included invalid ones with more than three digits per segment, I decided to update the regular expression to only match valid IP addresses.\n\nTo achieve this, I replaced the `+` symbol with curly brackets in the `pattern`. In regular expressions, curly brackets `{m,n}` specify a range of repetitions, where `m` is the minimum number of repetitions and `n` is the maximum. For this task, I used `{1,3}` after `\\d` to match between one and three digits per segment, ensuring that I only captured valid IP addresses.\n\nAfter updating the pattern, I called the `re.findall()` function on the `log_file` and stored the output in a variable named `valid_ip_addresses`. Then, I displayed the contents of `valid_ip_addresses` to analyze the results and confirm that I had extracted only the valid IP addresses.",
      "metadata": {
        "id": "wWv0kFOH-HxJ"
      }
    },
    {
      "cell_type": "code",
      "source": "# Assign `log_file` to a string containing username, date, login time, and IP address for a series of login attempts \n\nlog_file = \"eraab 2022-05-10 6:03:41 192.168.152.148 \\niuduike 2022-05-09 6:46:40 192.168.22.115 \\nsmartell 2022-05-09 19:30:32 192.168.190.178 \\narutley 2022-05-12 17:00:59 1923.1689.3.24 \\nrjensen 2022-05-11 0:59:26 192.168.213.128 \\naestrada 2022-05-09 19:28:12 1924.1680.27.57 \\nasundara 2022-05-11 18:38:07 192.168.96.200 \\ndkot 2022-05-12 10:52:00 1921.168.1283.75 \\nabernard 2022-05-12 23:38:46 19245.168.2345.49 \\ncjackson 2022-05-12 19:36:42 192.168.247.153 \\njclark 2022-05-10 10:48:02 192.168.174.117 \\nalevitsk 2022-05-08 12:09:10 192.16874.1390.176 \\njrafael 2022-05-10 22:40:01 192.168.148.115 \\nyappiah 2022-05-12 10:37:22 192.168.103.10654 \\ndaquino 2022-05-08 7:02:35 192.168.168.144\"\n\n# Assign `pattern` to a regular expression that matches with all valid IP addresses and only those \n\npattern = \"\\d{1,3}\\.\\d{1,3}\\.\\d{1,3}\\.\\d{1,3}\"\n\n# Use `re.findall()` on `pattern` and `log_file` and assign `valid_ip_addresses` to the output \n\nvalid_ip_addresses = re.findall(pattern, log_file)\n\n# Display the contents of `valid_ip_addresses`\n\nprint(valid_ip_addresses)",
      "metadata": {
        "id": "J7PcNUrTJotG"
      },
      "outputs": [
        {
          "name": "stdout",
          "output_type": "stream",
          "text": [
            "['192.168.152.148', '192.168.22.115', '192.168.190.178', '192.168.213.128', '192.168.96.200', '192.168.247.153', '192.168.174.117', '192.168.148.115', '192.168.103.106', '192.168.168.144']\n"
          ]
        }
      ],
      "execution_count": 9
    },
    {
      "cell_type": "markdown",
      "source": "#### **Question 4**\n**What do you notice about the extracted IP addresses here compared to those extracted in the previous two tasks?**",
      "metadata": {
        "id": "4h-vE1NV-oHh"
      }
    },
    {
      "cell_type": "markdown",
      "source": "Here, the extracted IP addresses all have between one and three digits per segment. Recall that in Task 7, only IP addresses with exactly three digits per segment were extracted. And in Task 8, IP addresses with more than three digits per segment were also extracted.",
      "metadata": {
        "id": "vOQPYSFN_oBv"
      }
    },
    {
      "cell_type": "markdown",
      "source": "## Task 10\n\nNow that all of the valid IP addresses had been extracted, the next step was to identify flagged IP addresses.\n\nI was given a list of IP addresses that had previously been flagged for unusual activity, stored in a variable named `flagged_addresses`. These flagged addresses were examples of private IP addresses found only within internal networks. When these addresses were encountered, they needed to be investigated further.\n\nTo begin, I displayed the `flagged_addresses` list and examined its contents by running the cell. This allowed me to understand which IP addresses were flagged and ensured I could accurately compare them to the extracted valid IP addresses in later steps.",
      "metadata": {
        "id": "fN5DOA8kManD"
      }
    },
    {
      "cell_type": "code",
      "source": "# Assign `flagged_addresses` to a list of IP addresses that have been previously flagged for unusual activity\n\nflagged_addresses = [\"192.168.190.178\", \"192.168.96.200\", \"192.168.174.117\", \"192.168.168.144\"]\n\n# Display the contents of `flagged_addresses`\n\nprint(flagged_addresses)",
      "metadata": {
        "id": "RfVGgZy-JmiI"
      },
      "outputs": [
        {
          "name": "stdout",
          "output_type": "stream",
          "text": [
            "['192.168.190.178', '192.168.96.200', '192.168.174.117', '192.168.168.144']\n"
          ]
        }
      ],
      "execution_count": 10
    },
    {
      "cell_type": "markdown",
      "source": "## Task 11\n\nFinally, I wrote an iterative statement to loop through the `valid_ip_addresses` list and check if each IP address was flagged.\n\nIn the loop, I used `address` as the loop variable to represent each IP address in the list. I included a conditional to check if the current `address` was part of the `flagged_addresses` list. If it was flagged, I displayed the message: `\"The IP address ______ has been flagged for further analysis.\"` If it wasn't flagged, I displayed the message: `\"The IP address ______ does not require further analysis.\"`\n\nThis allowed me to analyze each valid IP address and determine whether it required further investigation based on whether it was flagged.",
      "metadata": {
        "id": "Tk91RTC_PHx2"
      }
    },
    {
      "cell_type": "code",
      "source": "# Assign `log_file` to a string containing username, date, login time, and IP address for a series of login attempts \n\nlog_file = \"eraab 2022-05-10 6:03:41 192.168.152.148 \\niuduike 2022-05-09 6:46:40 192.168.22.115 \\nsmartell 2022-05-09 19:30:32 192.168.190.178 \\narutley 2022-05-12 17:00:59 1923.1689.3.24 \\nrjensen 2022-05-11 0:59:26 192.168.213.128 \\naestrada 2022-05-09 19:28:12 1924.1680.27.57 \\nasundara 2022-05-11 18:38:07 192.168.96.200 \\ndkot 2022-05-12 10:52:00 1921.168.1283.75 \\nabernard 2022-05-12 23:38:46 19245.168.2345.49 \\ncjackson 2022-05-12 19:36:42 192.168.247.153 \\njclark 2022-05-10 10:48:02 192.168.174.117 \\nalevitsk 2022-05-08 12:09:10 192.16874.1390.176 \\njrafael 2022-05-10 22:40:01 192.168.148.115 \\nyappiah 2022-05-12 10:37:22 192.168.103.10654 \\ndaquino 2022-05-08 7:02:35 192.168.168.144\"\n\n# Assign `pattern` to a regular expression that matches with all valid IP addresses and only those \n\npattern = \"\\d{1,3}\\.\\d{1,3}\\.\\d{1,3}\\.\\d{1,3}\"\n\n# Use `re.findall()` on `pattern` and `log_file` and assign `valid_ip_addresses` to the output \n\nvalid_ip_addresses = re.findall(pattern, log_file)\n\n# Assign `flagged_addresses` to a list of IP addresses that have been previously flagged for unusual activity\n\nflagged_addresses = [\"192.168.190.178\", \"192.168.96.200\", \"192.168.174.117\", \"192.168.168.144\"]\n\n# Iterative statement begins here\n# Loop through `valid_ip_addresses` with `address` as the loop variable\n\nfor address in valid_ip_addresses:\n\n    # Conditional begins here\n    # If `address` belongs to `flagged_addresses`, display \"The IP address ______ has been flagged for further analysis.\"\n\n    if address in flagged_addresses:\n        print(\"The IP address\", address, \"has been flagged for further analysis.\")\n\n    # Otherwise, display \"The IP address ______ does not require further analysis.\"\n\n    else:\n        print(\"The IP address\", address, \"does not require further analysis.\")",
      "metadata": {
        "id": "TXUAYghkQRJ-"
      },
      "outputs": [
        {
          "name": "stdout",
          "output_type": "stream",
          "text": [
            "The IP address 192.168.152.148 does not require further analysis.\n",
            "The IP address 192.168.22.115 does not require further analysis.\n",
            "The IP address 192.168.190.178 has been flagged for further analysis.\n",
            "The IP address 192.168.213.128 does not require further analysis.\n",
            "The IP address 192.168.96.200 has been flagged for further analysis.\n",
            "The IP address 192.168.247.153 does not require further analysis.\n",
            "The IP address 192.168.174.117 has been flagged for further analysis.\n",
            "The IP address 192.168.148.115 does not require further analysis.\n",
            "The IP address 192.168.103.106 does not require further analysis.\n",
            "The IP address 192.168.168.144 has been flagged for further analysis.\n"
          ]
        }
      ],
      "execution_count": 11
    },
    {
      "cell_type": "markdown",
      "source": "## Conclusion\n\n**What are your key takeaways from this lab?**",
      "metadata": {
        "id": "-U4MTWPXdGf2"
      }
    },
    {
      "cell_type": "markdown",
      "source": "- Regular expressions in Python allow me to create patterns that I can then use to find important strings. \n- Regular expression patterns can be built to match specific characters and character combinations. \n- Examples of regular expression symbols practiced in this lab:\n  - `\\w` represents any alphanumeric character.\n  - `+` represents one or more occurrences of the previous character in the regular expression.\n  - `\\d` represents any digit.\n  - `\\.` represents a period. \n  - `{x,y}` represents anywhere between x and y number of occurrences of the previous character in the regular expression. The x and y can be replaced with any two positive integers to indicate an exact range for the number of occurrences.\n- The `re` module in Python contains functions that are useful when working with regular expressions. \n  - One example is the `re.findall()` function, which takes in a regular expression pattern as well as a string, checks for all instances in the string that match with the pattern and outputs a list of the matches. ",
      "metadata": {
        "id": "XJmJ1KcWdHc1"
      }
    }
  ]
}